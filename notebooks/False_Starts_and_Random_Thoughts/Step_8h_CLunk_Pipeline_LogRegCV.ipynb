{
 "cells": [
  {
   "cell_type": "code",
   "execution_count": 1,
   "id": "7c0c7efd",
   "metadata": {},
   "outputs": [
    {
     "name": "stdout",
     "output_type": "stream",
     "text": [
      "[nltk_data] Downloading package brown to /Users/Gretzky/nltk_data...\n",
      "[nltk_data]   Package brown is already up-to-date!\n",
      "[nltk_data] Downloading package punkt to /Users/Gretzky/nltk_data...\n",
      "[nltk_data]   Package punkt is already up-to-date!\n",
      "[nltk_data] Downloading package wordnet to /Users/Gretzky/nltk_data...\n",
      "[nltk_data]   Package wordnet is already up-to-date!\n",
      "[nltk_data] Downloading package averaged_perceptron_tagger to\n",
      "[nltk_data]     /Users/Gretzky/nltk_data...\n",
      "[nltk_data]   Package averaged_perceptron_tagger is already up-to-\n",
      "[nltk_data]       date!\n",
      "[nltk_data] Downloading package conll2000 to\n",
      "[nltk_data]     /Users/Gretzky/nltk_data...\n",
      "[nltk_data]   Package conll2000 is already up-to-date!\n",
      "[nltk_data] Downloading package movie_reviews to\n",
      "[nltk_data]     /Users/Gretzky/nltk_data...\n",
      "[nltk_data]   Package movie_reviews is already up-to-date!\n",
      "Finished.\n"
     ]
    }
   ],
   "source": [
    "import s3fs\n",
    "\n",
    "import os\n",
    "import json\n",
    "import time\n",
    "import pickle\n",
    "import requests\n",
    "import traceback\n",
    "import time\n",
    "from datetime import datetime\n",
    "from sklearn import set_config\n",
    "import warnings\n",
    "# Ignore warnings from scikit-learn to make this notebook a bit nicer\n",
    "warnings.simplefilter('ignore')\n",
    "warnings.filterwarnings('ignore')\n",
    "\n",
    "import pandas as pd\n",
    "from pandas import DataFrame\n",
    "from pandas import plotting\n",
    "import matplotlib.pyplot as plt\n",
    "import matplotlib.gridspec as gridspec\n",
    "import numpy as np\n",
    "import seaborn as sns\n",
    "import re\n",
    "from tqdm.autonotebook import tqdm\n",
    "tqdm.pandas(desc=\"progress-bar\", leave=False)\n",
    "import string\n",
    "\n",
    "import unicodedata  # might need to pip install unicodedate2 on aws sagemaker\n",
    "import contractions\n",
    "from contractions import contractions_dict ## pip installed this\n",
    "from wordcloud import WordCloud, STOPWORDS #pip install\n",
    "from textblob import TextBlob\n",
    "!python -m textblob.download_corpora\n",
    "\n",
    "import nltk\n",
    "import nltk.corpus \n",
    "from nltk.corpus import stopwords\n",
    "from nltk.stem import WordNetLemmatizer\n",
    "from nltk.tokenize import word_tokenize\n",
    "from nltk.stem.wordnet import WordNetLemmatizer\n",
    "from nltk.tokenize import ToktokTokenizer\n",
    "from nltk.corpus import stopwords\n",
    "\n",
    "import gensim\n",
    "from gensim.utils import simple_preprocess\n",
    "from gensim.parsing.preprocessing import preprocess_string\n",
    "from gensim.parsing.preprocessing import STOPWORDS\n",
    "from gensim.models import word2vec\n",
    "import multiprocessing as mp\n",
    "\n",
    "import sklearn\n",
    "from sklearn.utils import resample # Covert too much Rock! to just enough\n",
    "from sklearn.feature_extraction.text import CountVectorizer\n",
    "from sklearn.feature_extraction.text import TfidfTransformer\n",
    "from sklearn.feature_extraction.text import TfidfVectorizer\n",
    "from sklearn.decomposition import PCA\n",
    "from sklearn.manifold import TSNE\n",
    "from sklearn.decomposition import TruncatedSVD\n",
    "\n",
    "%matplotlib inline\n",
    "sns.set(style='darkgrid',palette='Dark2',rc={'figure.figsize':(9,6),'figure.dpi':90})\n",
    "\n",
    "# Increase screen size.\n",
    "#pd.set_option('display.height', 1000)\n",
    "pd.set_option('display.max_rows', 500)\n",
    "pd.set_option('display.max_columns', 500)\n",
    "pd.set_option('display.width', 1000)\n",
    "\n",
    "%matplotlib inline\n",
    "sns.set(style='darkgrid',palette='Dark2', rc={'figure.figsize':(9,6), 'figure.dpi':100})\n",
    "# Set the default figure size for matplotlib\n",
    "plt.rcParams['figure.figsize'] = (9, 6)\n",
    "\n",
    "# Visual analysis of model performance\n",
    "from yellowbrick.classifier import confusion_matrix\n",
    "from yellowbrick.classifier import classification_report\n",
    "from yellowbrick.regressor import prediction_error, ResidualsPlot\n",
    "from yellowbrick.target import ClassBalance\n",
    "from yellowbrick.target import BalancedBinningReference\n",
    "from yellowbrick.text import FreqDistVisualizer\n",
    "from yellowbrick.classifier import ConfusionMatrix, ROCAUC, PrecisionRecallCurve, ClassificationReport\n",
    "from yellowbrick.classifier import ClassPredictionError\n",
    "from yellowbrick.model_selection import FeatureImportances\n",
    "from yellowbrick.model_selection import ValidationCurve\n",
    "from yellowbrick.contrib.classifier import DecisionViz\n",
    "#from mlxtend.plotting import plot_decision_regions\n",
    "\n",
    "#Pipeline toolset\n",
    "# Used to divide our dataseets into train/test splits\n",
    "# Data will be randomly shuffled so running this notebook multiple times may lead to different results\n",
    "from sklearn.model_selection import train_test_split as tts\n",
    "from sklearn.pipeline import Pipeline\n",
    "from sklearn.pipeline import FeatureUnion\n",
    "from sklearn.compose import ColumnTransformer, make_column_selector\n",
    "from sklearn.preprocessing import Normalizer, RobustScaler, OneHotEncoder, LabelEncoder, OrdinalEncoder, StandardScaler, MinMaxScaler\n",
    "from sklearn.impute import SimpleImputer\n",
    "\n",
    "#Model toolset\n",
    "from sklearn.svm import LinearSVC, NuSVC, SVC\n",
    "from sklearn.decomposition import TruncatedSVD\n",
    "from sklearn.ensemble import BaggingClassifier, ExtraTreesClassifier, RandomForestClassifier, AdaBoostClassifier\n",
    "from sklearn.ensemble import RandomForestRegressor\n",
    "from sklearn.neighbors import KNeighborsClassifier\n",
    "from sklearn.linear_model import LogisticRegressionCV, LogisticRegression, SGDClassifier\n",
    "from sklearn.naive_bayes import MultinomialNB\n",
    "from sklearn.naive_bayes import GaussianNB\n",
    "from sklearn.naive_bayes import BernoulliNB\n",
    "from sklearn.linear_model import Ridge\n",
    "from sklearn.tree import DecisionTreeClassifier   \n",
    "from sklearn.neural_network import MLPClassifier\n",
    "from sklearn.ensemble import GradientBoostingClassifier\n",
    "\n",
    "#Evaluation toolset\n",
    "from sklearn.metrics import f1_score\n",
    "from sklearn.model_selection import StratifiedKFold, cross_val_score\n",
    "\n",
    "\n",
    "import pickle\n",
    "from joblib import dump, load\n"
   ]
  },
  {
   "cell_type": "code",
   "execution_count": 2,
   "id": "811b7259",
   "metadata": {},
   "outputs": [
    {
     "name": "stdout",
     "output_type": "stream",
     "text": [
      "<class 'pandas.core.frame.DataFrame'>\n",
      "RangeIndex: 86290 entries, 0 to 86289\n",
      "Data columns (total 36 columns):\n",
      " #   Column                  Non-Null Count  Dtype  \n",
      "---  ------                  --------------  -----  \n",
      " 0   genre                   86290 non-null  object \n",
      " 1   song_name               86290 non-null  object \n",
      " 2   lyrics                  86290 non-null  object \n",
      " 3   full_word_count         86290 non-null  int64  \n",
      " 4   full_character_count    86290 non-null  int64  \n",
      " 5   full_avg_word_length    86290 non-null  float64\n",
      " 6   med_lyrics              86290 non-null  object \n",
      " 7   med_word_count          86290 non-null  int64  \n",
      " 8   med_character_count     86290 non-null  int64  \n",
      " 9   med_avg_word_length     86290 non-null  float64\n",
      " 10  med_content_affin       86290 non-null  float64\n",
      " 11  med_sent_label          86290 non-null  object \n",
      " 12  med_sent_score          86290 non-null  float64\n",
      " 13  med_vector              86290 non-null  object \n",
      " 14  med_rock_genre_count    86290 non-null  float64\n",
      " 15  med_rock_bool           86290 non-null  int64  \n",
      " 16  med_hiphop_genre_count  86290 non-null  float64\n",
      " 17  med_hiphop_bool         86290 non-null  int64  \n",
      " 18  med_pop_genre_count     86290 non-null  float64\n",
      " 19  med_pop_bool            86290 non-null  int64  \n",
      " 20  med_genre_count         86290 non-null  float64\n",
      " 21  sml_lyrics              86290 non-null  object \n",
      " 22  sml_word_count          86290 non-null  int64  \n",
      " 23  sml_character_count     86290 non-null  int64  \n",
      " 24  sml_avg_word_length     86290 non-null  float64\n",
      " 25  sml_content_affin       86290 non-null  float64\n",
      " 26  sml_sent_label          86290 non-null  object \n",
      " 27  sml_sent_score          86290 non-null  float64\n",
      " 28  sml_vector              86290 non-null  object \n",
      " 29  sml_rock_genre_count    86290 non-null  float64\n",
      " 30  sml_rock_bool           86290 non-null  int64  \n",
      " 31  sml_hiphop_genre_count  86290 non-null  float64\n",
      " 32  sml_hiphop_bool         86290 non-null  int64  \n",
      " 33  sml_pop_genre_count     86290 non-null  float64\n",
      " 34  sml_pop_bool            86290 non-null  int64  \n",
      " 35  sml_genre_count         86290 non-null  float64\n",
      "dtypes: float64(15), int64(12), object(9)\n",
      "memory usage: 23.7+ MB\n"
     ]
    }
   ],
   "source": [
    "g_df = pd.read_csv('g2_df')\n",
    "#Drop first, useless column.\n",
    "g_df.drop(columns=['Unnamed: 0'], axis=1, inplace=True)\n",
    "g_df.info()"
   ]
  },
  {
   "cell_type": "code",
   "execution_count": 3,
   "id": "a324754a",
   "metadata": {},
   "outputs": [],
   "source": [
    "#Decision on what features to include, borne of EDA and visual steering.\n",
    "\n",
    "\n",
    "df = pd.DataFrame((g_df), columns=['genre','full_word_count','full_character_count',\n",
    "                                  'med_rock_bool','med_hiphop_bool','med_pop_bool',\n",
    "                                   'sml_word_count','sml_character_count',\n",
    "                                   'sml_content_affin','sml_sent_label','sml_vector'])"
   ]
  },
  {
   "cell_type": "code",
   "execution_count": 4,
   "id": "21891563",
   "metadata": {},
   "outputs": [
    {
     "data": {
      "text/plain": [
       "Rock       13560\n",
       "Hip Hop    13560\n",
       "Pop        13560\n",
       "Name: genre, dtype: int64"
      ]
     },
     "execution_count": 4,
     "metadata": {},
     "output_type": "execute_result"
    }
   ],
   "source": [
    "seed = 99\n",
    "\n",
    "#Separate majority and minority classes, twice.\n",
    "majority = df[df.genre=='Rock']\n",
    "minority = df[df.genre=='Hip Hop']\n",
    "\n",
    "# Downsample majority class\n",
    "majority_rock_downsampled = resample(majority, \n",
    "                                replace=False, # sample without replacement\n",
    "                                n_samples=len(minority), # to match minority class\n",
    "                                random_state=seed) # reproducible results\n",
    "\n",
    "seed = 99\n",
    "\n",
    "#Separate majority and minority classes, again.\n",
    "majority = df[df.genre=='Pop']\n",
    "minority = df[df.genre=='Hip Hop']\n",
    "\n",
    "# Downsample majority class\n",
    "majority_pop_downsampled = resample(majority, \n",
    "                                replace=False, # sample without replacement\n",
    "                                n_samples=len(minority), # to match minority class\n",
    "                                random_state=seed) # reproducible results\n",
    "\n",
    "# Combine minority class with downsampled majority class\n",
    "dfd = pd.concat([majority_rock_downsampled, majority_pop_downsampled, minority])\n",
    "\n",
    "# Display new class counts\n",
    "dfd['genre'].value_counts()\n",
    "# dfd = 'data frame downsampled'"
   ]
  },
  {
   "cell_type": "code",
   "execution_count": 5,
   "id": "7087fc89",
   "metadata": {},
   "outputs": [],
   "source": [
    "target = dfd.genre\n",
    "features = dfd[['full_word_count','full_character_count',\n",
    "                                  'med_rock_bool','med_hiphop_bool','med_pop_bool',\n",
    "                                    'sml_word_count','sml_character_count',\n",
    "                                   'sml_content_affin','sml_sent_label','sml_vector']].copy()"
   ]
  },
  {
   "cell_type": "code",
   "execution_count": 6,
   "id": "cbd94ed1",
   "metadata": {},
   "outputs": [
    {
     "name": "stdout",
     "output_type": "stream",
     "text": [
      "(86290, 11)\n",
      "(32544, 10)\n",
      "(8136, 10)\n"
     ]
    }
   ],
   "source": [
    "X_train, X_test, y_train, y_test = tts(features, target, test_size = 0.2, random_state=123)\n",
    "print(df.shape); print(X_train.shape); print(X_test.shape)"
   ]
  },
  {
   "cell_type": "code",
   "execution_count": 7,
   "id": "7c3170c7",
   "metadata": {},
   "outputs": [],
   "source": [
    "# defining the numerical, categorical and textual features\n",
    "numerical = ['full_word_count','full_character_count','sml_word_count','sml_character_count']\n",
    "negative_values = ['sml_content_affin','med_rock_bool','med_hiphop_bool','med_pop_bool']\n",
    "categorical = ['sml_sent_label']\n",
    "textual = ['sml_vector']"
   ]
  },
  {
   "cell_type": "code",
   "execution_count": 8,
   "id": "d8e63a83",
   "metadata": {},
   "outputs": [
    {
     "name": "stdout",
     "output_type": "stream",
     "text": [
      "CPU times: user 124 µs, sys: 44 µs, total: 168 µs\n",
      "Wall time: 171 µs\n"
     ]
    }
   ],
   "source": [
    "%%time\n",
    "\n",
    "ct = ColumnTransformer(\n",
    "    [('num', RobustScaler(), numerical),\n",
    "     ('neg_values', MinMaxScaler(feature_range=(0,2)), negative_values),\n",
    "     ('tfidf', TfidfVectorizer(max_features = 6000, stop_words = 'english', ngram_range=(1,1)), 'sml_vector')\n",
    "    ], n_jobs=3, verbose=True)"
   ]
  },
  {
   "cell_type": "code",
   "execution_count": 9,
   "id": "b54d3bf0",
   "metadata": {},
   "outputs": [
    {
     "data": {
      "text/plain": [
       "ColumnTransformer(n_jobs=3,\n",
       "                  transformers=[('num', RobustScaler(),\n",
       "                                 ['full_word_count', 'full_character_count',\n",
       "                                  'sml_word_count', 'sml_character_count']),\n",
       "                                ('neg_values',\n",
       "                                 MinMaxScaler(feature_range=(0, 2)),\n",
       "                                 ['sml_content_affin', 'med_rock_bool',\n",
       "                                  'med_hiphop_bool', 'med_pop_bool']),\n",
       "                                ('tfidf',\n",
       "                                 TfidfVectorizer(max_features=6000,\n",
       "                                                 stop_words='english'),\n",
       "                                 'sml_vector')],\n",
       "                  verbose=True)"
      ]
     },
     "execution_count": 9,
     "metadata": {},
     "output_type": "execute_result"
    }
   ],
   "source": [
    "set_config(display='text')\n",
    "ct"
   ]
  },
  {
   "cell_type": "code",
   "execution_count": 10,
   "id": "cdbc24c5",
   "metadata": {},
   "outputs": [
    {
     "name": "stdout",
     "output_type": "stream",
     "text": [
      "Shape of Term Frequency Matrix of train: (32544, 6008)\n",
      "Shape of Term Frequency Matrix of test: (8136, 6008)\n",
      "CPU times: user 238 ms, sys: 208 ms, total: 446 ms\n",
      "Wall time: 4.61 s\n"
     ]
    }
   ],
   "source": [
    "%%time\n",
    "# Creating the feature matrix\n",
    "X_train = ct.fit_transform(X_train)\n",
    "X_test = ct.transform(X_test)\n",
    "print(f'Shape of Term Frequency Matrix of train: {X_train.shape}')\n",
    "print(f'Shape of Term Frequency Matrix of test: {X_test.shape}')"
   ]
  },
  {
   "cell_type": "code",
   "execution_count": 11,
   "id": "6d8d76dd",
   "metadata": {},
   "outputs": [
    {
     "name": "stdout",
     "output_type": "stream",
     "text": [
      "(32544,)\n",
      "(8136,)\n",
      "CPU times: user 6.31 ms, sys: 640 µs, total: 6.95 ms\n",
      "Wall time: 6.63 ms\n"
     ]
    }
   ],
   "source": [
    "%%time\n",
    "\n",
    "Encoder = LabelEncoder()\n",
    "y_train = Encoder.fit_transform(y_train)\n",
    "y_test = Encoder.fit_transform(y_test)\n",
    "print(y_train.shape); print(y_test.shape)"
   ]
  },
  {
   "cell_type": "code",
   "execution_count": 12,
   "id": "47792c73",
   "metadata": {},
   "outputs": [
    {
     "data": {
      "text/plain": [
       "array(['Hip Hop', 'Pop', 'Rock'], dtype=object)"
      ]
     },
     "execution_count": 12,
     "metadata": {},
     "output_type": "execute_result"
    }
   ],
   "source": [
    "classes = Encoder.classes_\n",
    "classes"
   ]
  },
  {
   "cell_type": "code",
   "execution_count": 16,
   "id": "3869bca0",
   "metadata": {},
   "outputs": [
    {
     "name": "stdout",
     "output_type": "stream",
     "text": [
      "Accuracy on x_train is 0.8054633726647001\n",
      "Accuracy on x_test is 0.7689282202556539\n",
      "CPU times: user 1min 25s, sys: 2min, total: 3min 25s\n",
      "Wall time: 1min 6s\n"
     ]
    }
   ],
   "source": [
    "%%time\n",
    "# LogisticRegressionCV\n",
    "LRCV = LogisticRegressionCV()\n",
    "# Training the model \n",
    "LRCV.fit(X_train, y_train)\n",
    "\n",
    "#Predict the Test using decision tree \n",
    "y_pred_LRCV = LRCV.predict(X_test)\n",
    "\n",
    "print('Accuracy on x_train is',LRCV.score(X_train, y_train))\n",
    "print('Accuracy on x_test is',LRCV.score(X_test, y_test))"
   ]
  },
  {
   "cell_type": "code",
   "execution_count": null,
   "id": "d66a36df",
   "metadata": {},
   "outputs": [],
   "source": [
    "#save model for future use, come in handy if having to rerun any code blocks\n",
    "\n",
    "#save\n",
    "dump(LRCV, 'LRCV.joblib')\n",
    "#load\n",
    "#LRCV = load('LRCV.joblib') "
   ]
  },
  {
   "cell_type": "code",
   "execution_count": 14,
   "id": "70e58adb",
   "metadata": {},
   "outputs": [
    {
     "data": {
      "image/png": "[encoded data removed]",
      "text/plain": [
       "<Figure size 800x550 with 1 Axes>"
      ]
     },
     "metadata": {},
     "output_type": "display_data"
    },
    {
     "name": "stdout",
     "output_type": "stream",
     "text": [
      "CPU times: user 128 ms, sys: 116 ms, total: 244 ms\n",
      "Wall time: 122 ms\n"
     ]
    },
    {
     "data": {
      "text/plain": [
       "<AxesSubplot:title={'center':'LogisticRegressionCV Confusion Matrix'}, xlabel='Predicted Class', ylabel='True Class'>"
      ]
     },
     "execution_count": 14,
     "metadata": {},
     "output_type": "execute_result"
    }
   ],
   "source": [
    "%%time\n",
    "\n",
    "cm_LRCV = ConfusionMatrix(LRCV, classes=classes, cmap='RdPu')\n",
    "cm_LRCV.fit(X_train, y_train)\n",
    "cm_LRCV.score(X_test, y_test)\n",
    "cm_LRCV.show()"
   ]
  },
  {
   "cell_type": "code",
   "execution_count": 17,
   "id": "6424769d",
   "metadata": {},
   "outputs": [
    {
     "data": {
      "image/png": "[encoded data removed]",
      "text/plain": [
       "<Figure size 800x550 with 2 Axes>"
      ]
     },
     "metadata": {},
     "output_type": "display_data"
    },
    {
     "data": {
      "text/plain": [
       "<AxesSubplot:title={'center':'LogisticRegressionCV Classification Report'}>"
      ]
     },
     "execution_count": 17,
     "metadata": {},
     "output_type": "execute_result"
    }
   ],
   "source": [
    "cr_LRCV = ClassificationReport(LRCV, classes=classes, support=True)\n",
    "cr_LRCV.fit(X_train, y_train)\n",
    "cr_LRCV.score(X_test, y_test)\n",
    "cr_LRCV.show()"
   ]
  },
  {
   "cell_type": "code",
   "execution_count": null,
   "id": "ddcc057f",
   "metadata": {},
   "outputs": [],
   "source": [
    "cpe_LRCV = ClassPredictionError(LRCV, classes=classes)\n",
    "cpe_LRCV.fit(X_train, y_train)\n",
    "cpe_LRCV.score(X_test, y_test)\n",
    "cpe_LRCV.show()"
   ]
  },
  {
   "cell_type": "code",
   "execution_count": null,
   "id": "ebe7f677",
   "metadata": {},
   "outputs": [],
   "source": [
    "%time\n",
    "from sklearn.model_selection import GridSearchCV\n",
    "\n",
    "# 'multi_class':['ovr']\n",
    "\n",
    "# Set the parameters by cross-validation\n",
    "tuned_parameters = [{'Cs':[10],\n",
    "                     'cv':[5],\n",
    "                     'solver':['saga'],\n",
    "                    'penalty':['l1','elasticnet']}]\n",
    "\n",
    "scores = ['precision', 'recall']\n",
    "\n",
    "for score in scores:\n",
    "    print(\"# Tuning hyper-parameters for %s\" % score)\n",
    "    print()\n",
    "\n",
    "    clf = GridSearchCV(\n",
    "        LRCV, tuned_parameters, scoring='%s_macro' % score\n",
    "    )\n",
    "    \n",
    "    clf.fit(X_train, y_train)\n",
    "\n",
    "    print(\"Best parameters set found on development set:\")\n",
    "    print()\n",
    "    print(clf.best_params_)\n",
    "    print()\n",
    "    print(\"Grid scores on development set:\")\n",
    "    print()\n",
    "    means = clf.cv_results_['mean_test_score']\n",
    "    stds = clf.cv_results_['std_test_score']\n",
    "    for mean, std, params in zip(means, stds, clf.cv_results_['params']):\n",
    "        print(\"%0.3f (+/-%0.03f) for %r\"\n",
    "              % (mean, std * 2, params))\n",
    "    print()\n",
    "\n",
    "    print(\"Detailed classification report:\")\n",
    "    print()\n",
    "    print(\"The model is trained on the full development set.\")\n",
    "    print(\"The scores are computed on the full evaluation set.\")\n",
    "    print()\n",
    "    y_true, y_pred = y_test, clf.predict(X_test)\n",
    "    print(classification_report(y_true, y_pred, classes))\n",
    "    print()"
   ]
  }
 ],
 "metadata": {
  "kernelspec": {
   "display_name": "Python 3",
   "language": "python",
   "name": "python3"
  },
  "language_info": {
   "codemirror_mode": {
    "name": "ipython",
    "version": 3
   },
   "file_extension": ".py",
   "mimetype": "text/x-python",
   "name": "python",
   "nbconvert_exporter": "python",
   "pygments_lexer": "ipython3",
   "version": "3.9.2"
  }
 },
 "nbformat": 4,
 "nbformat_minor": 5
}
