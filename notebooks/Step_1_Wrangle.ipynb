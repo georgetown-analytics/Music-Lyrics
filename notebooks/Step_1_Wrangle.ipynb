{
 "cells": [
  {
   "cell_type": "markdown",
   "id": "cd14a796",
   "metadata": {},
   "source": [
    "The notebook transforms kaggle data set (found here: https://www.kaggle.com/neisse/scrapped-lyrics-from-6-genres?select=lyrics-data.csv) to cleaned set to start Music_Lyrics capstone project.\n",
    "\n",
    "This is the final pass and follows several exploratory attempts.  This fianl effort is a very focused and will produce a smaller subset of features than has been considered in total.  "
   ]
  },
  {
   "cell_type": "code",
   "execution_count": 47,
   "id": "300be45e",
   "metadata": {},
   "outputs": [],
   "source": [
    "import pandas as pd\n",
    "import numpy as np\n",
    "import s3fs\n",
    "import os\n",
    "import io\n",
    "import boto3\n",
    "\n",
    "import s3fs\n",
    "fs = s3fs.S3FileSystem(anon=False,key='####',secret='####')\n",
    "\n",
    "from dotenv import load_dotenv\n",
    "load_dotenv(verbose=True)\n",
    "\n",
    "def aws_session(region_name='us-east-1'):\n",
    "    return boto3.session.Session(aws_access_key_id=os.getenv('AWS_ACCESS_KEY_ID'), #looks for any .env file\n",
    "                                aws_secret_access_key=os.getenv('AWS_ACCESS_KEY_SECRET'), #Has to be in same directory\n",
    "                                region_name=region_name) #from above\n",
    "\n",
    "def make_bucket(name, acl): \n",
    "    session = aws_session()\n",
    "    s3_resource = session.resource('s3')\n",
    "    return s3_resource.create_bucket(Bucket=name, ACL=acl)\n",
    "\n",
    "def upload_file_to_bucket(bucket_name, file_path):\n",
    "    session = aws_session()\n",
    "    s3_resource = session.resource('s3')\n",
    "    file_dir, file_name = os.path.split(file_path)\n",
    "\n",
    "    bucket = s3_resource.Bucket(bucket_name)\n",
    "    bucket.upload_file(\n",
    "      Filename=file_path,\n",
    "      Key=file_name,\n",
    "      ExtraArgs={'ACL': 'public-read'}\n",
    "    )\n",
    "\n",
    "    s3_url = f\"https://{bucket_name}.s3.amazonaws.com/{file_name}\"\n",
    "    return s3_url\n",
    "\n",
    "def download_file_from_bucket(bucket_name, s3_key, dst_path):\n",
    "    session = aws_session()\n",
    "    s3_resource = session.resource('s3')\n",
    "    bucket = s3_resource.Bucket(bucket_name)\n",
    "    bucket.download_file(Key=s3_key, Filename=dst_path)"
   ]
  },
  {
   "cell_type": "markdown",
   "id": "32eaeac8",
   "metadata": {},
   "source": [
    "The genres data set comes in two .csv files. Downloading both using boto3 which requires an existing file on the local directory.\n",
    "\n",
    "Download both halves of the genres dataset (found from Kaggle at:https://www.kaggle.com/neisse/scrapped-lyrics-from-6-genres?select=lyrics-data.csv)."
   ]
  },
  {
   "cell_type": "code",
   "execution_count": 2,
   "id": "6c7c0997",
   "metadata": {},
   "outputs": [],
   "source": [
    "!touch genres_lyrics.csv\n",
    "!touch genres_genres.csv\n",
    "\n",
    "download_file_from_bucket('worm-begin','genres_lyrics_data.csv','genres_lyrics.csv')\n",
    "with open('genres_lyrics.csv') as fo:\n",
    "    lyrics_df = pd.read_csv(fo)\n",
    "\n",
    "download_file_from_bucket('worm-begin','genres_artists_data.csv','genres_genres.csv')\n",
    "with open('genres_genres.csv') as fo:\n",
    "    genres_df = pd.read_csv(fo)"
   ]
  },
  {
   "cell_type": "code",
   "execution_count": 3,
   "id": "1ebe4467",
   "metadata": {},
   "outputs": [
    {
     "data": {
      "text/html": [
       "<div>\n",
       "<style scoped>\n",
       "    .dataframe tbody tr th:only-of-type {\n",
       "        vertical-align: middle;\n",
       "    }\n",
       "\n",
       "    .dataframe tbody tr th {\n",
       "        vertical-align: top;\n",
       "    }\n",
       "\n",
       "    .dataframe thead th {\n",
       "        text-align: right;\n",
       "    }\n",
       "</style>\n",
       "<table border=\"1\" class=\"dataframe\">\n",
       "  <thead>\n",
       "    <tr style=\"text-align: right;\">\n",
       "      <th></th>\n",
       "      <th>ALink</th>\n",
       "      <th>SName</th>\n",
       "      <th>SLink</th>\n",
       "      <th>Lyric</th>\n",
       "      <th>Idiom</th>\n",
       "    </tr>\n",
       "  </thead>\n",
       "  <tbody>\n",
       "    <tr>\n",
       "      <th>count</th>\n",
       "      <td>209522</td>\n",
       "      <td>209522</td>\n",
       "      <td>209522</td>\n",
       "      <td>209484</td>\n",
       "      <td>206375</td>\n",
       "    </tr>\n",
       "    <tr>\n",
       "      <th>unique</th>\n",
       "      <td>2993</td>\n",
       "      <td>128083</td>\n",
       "      <td>167499</td>\n",
       "      <td>164789</td>\n",
       "      <td>47</td>\n",
       "    </tr>\n",
       "    <tr>\n",
       "      <th>top</th>\n",
       "      <td>/chris-brown/</td>\n",
       "      <td>Intro</td>\n",
       "      <td>/edu-gueda/disk-amor.html</td>\n",
       "      <td>Instrumental</td>\n",
       "      <td>ENGLISH</td>\n",
       "    </tr>\n",
       "    <tr>\n",
       "      <th>freq</th>\n",
       "      <td>1176</td>\n",
       "      <td>80</td>\n",
       "      <td>6</td>\n",
       "      <td>592</td>\n",
       "      <td>114723</td>\n",
       "    </tr>\n",
       "  </tbody>\n",
       "</table>\n",
       "</div>"
      ],
      "text/plain": [
       "                ALink   SName                      SLink         Lyric  \\\n",
       "count          209522  209522                     209522        209484   \n",
       "unique           2993  128083                     167499        164789   \n",
       "top     /chris-brown/   Intro  /edu-gueda/disk-amor.html  Instrumental   \n",
       "freq             1176      80                          6           592   \n",
       "\n",
       "          Idiom  \n",
       "count    206375  \n",
       "unique       47  \n",
       "top     ENGLISH  \n",
       "freq     114723  "
      ]
     },
     "execution_count": 3,
     "metadata": {},
     "output_type": "execute_result"
    }
   ],
   "source": [
    "lyrics_df.describe(include='all')"
   ]
  },
  {
   "cell_type": "code",
   "execution_count": 4,
   "id": "379ad02a",
   "metadata": {},
   "outputs": [
    {
     "data": {
      "text/html": [
       "<div>\n",
       "<style scoped>\n",
       "    .dataframe tbody tr th:only-of-type {\n",
       "        vertical-align: middle;\n",
       "    }\n",
       "\n",
       "    .dataframe tbody tr th {\n",
       "        vertical-align: top;\n",
       "    }\n",
       "\n",
       "    .dataframe thead th {\n",
       "        text-align: right;\n",
       "    }\n",
       "</style>\n",
       "<table border=\"1\" class=\"dataframe\">\n",
       "  <thead>\n",
       "    <tr style=\"text-align: right;\">\n",
       "      <th></th>\n",
       "      <th>ALink</th>\n",
       "      <th>SName</th>\n",
       "      <th>SLink</th>\n",
       "      <th>Lyric</th>\n",
       "      <th>Idiom</th>\n",
       "    </tr>\n",
       "  </thead>\n",
       "  <tbody>\n",
       "    <tr>\n",
       "      <th>0</th>\n",
       "      <td>/10000-maniacs/</td>\n",
       "      <td>More Than This</td>\n",
       "      <td>/10000-maniacs/more-than-this.html</td>\n",
       "      <td>I could feel at the time. There was no way of ...</td>\n",
       "      <td>ENGLISH</td>\n",
       "    </tr>\n",
       "    <tr>\n",
       "      <th>1</th>\n",
       "      <td>/10000-maniacs/</td>\n",
       "      <td>Because The Night</td>\n",
       "      <td>/10000-maniacs/because-the-night.html</td>\n",
       "      <td>Take me now, baby, here as I am. Hold me close...</td>\n",
       "      <td>ENGLISH</td>\n",
       "    </tr>\n",
       "    <tr>\n",
       "      <th>2</th>\n",
       "      <td>/10000-maniacs/</td>\n",
       "      <td>These Are Days</td>\n",
       "      <td>/10000-maniacs/these-are-days.html</td>\n",
       "      <td>These are. These are days you'll remember. Nev...</td>\n",
       "      <td>ENGLISH</td>\n",
       "    </tr>\n",
       "    <tr>\n",
       "      <th>3</th>\n",
       "      <td>/10000-maniacs/</td>\n",
       "      <td>A Campfire Song</td>\n",
       "      <td>/10000-maniacs/a-campfire-song.html</td>\n",
       "      <td>A lie to say, \"O my mountain has coal veins an...</td>\n",
       "      <td>ENGLISH</td>\n",
       "    </tr>\n",
       "    <tr>\n",
       "      <th>4</th>\n",
       "      <td>/10000-maniacs/</td>\n",
       "      <td>Everyday Is Like Sunday</td>\n",
       "      <td>/10000-maniacs/everyday-is-like-sunday.html</td>\n",
       "      <td>Trudging slowly over wet sand. Back to the ben...</td>\n",
       "      <td>ENGLISH</td>\n",
       "    </tr>\n",
       "  </tbody>\n",
       "</table>\n",
       "</div>"
      ],
      "text/plain": [
       "             ALink                    SName  \\\n",
       "0  /10000-maniacs/           More Than This   \n",
       "1  /10000-maniacs/        Because The Night   \n",
       "2  /10000-maniacs/           These Are Days   \n",
       "3  /10000-maniacs/          A Campfire Song   \n",
       "4  /10000-maniacs/  Everyday Is Like Sunday   \n",
       "\n",
       "                                         SLink  \\\n",
       "0           /10000-maniacs/more-than-this.html   \n",
       "1        /10000-maniacs/because-the-night.html   \n",
       "2           /10000-maniacs/these-are-days.html   \n",
       "3          /10000-maniacs/a-campfire-song.html   \n",
       "4  /10000-maniacs/everyday-is-like-sunday.html   \n",
       "\n",
       "                                               Lyric    Idiom  \n",
       "0  I could feel at the time. There was no way of ...  ENGLISH  \n",
       "1  Take me now, baby, here as I am. Hold me close...  ENGLISH  \n",
       "2  These are. These are days you'll remember. Nev...  ENGLISH  \n",
       "3  A lie to say, \"O my mountain has coal veins an...  ENGLISH  \n",
       "4  Trudging slowly over wet sand. Back to the ben...  ENGLISH  "
      ]
     },
     "execution_count": 4,
     "metadata": {},
     "output_type": "execute_result"
    }
   ],
   "source": [
    "lyrics_df.head()"
   ]
  },
  {
   "cell_type": "code",
   "execution_count": 5,
   "id": "8c3af5e3",
   "metadata": {},
   "outputs": [
    {
     "data": {
      "text/html": [
       "<div>\n",
       "<style scoped>\n",
       "    .dataframe tbody tr th:only-of-type {\n",
       "        vertical-align: middle;\n",
       "    }\n",
       "\n",
       "    .dataframe tbody tr th {\n",
       "        vertical-align: top;\n",
       "    }\n",
       "\n",
       "    .dataframe thead th {\n",
       "        text-align: right;\n",
       "    }\n",
       "</style>\n",
       "<table border=\"1\" class=\"dataframe\">\n",
       "  <thead>\n",
       "    <tr style=\"text-align: right;\">\n",
       "      <th></th>\n",
       "      <th>Artist</th>\n",
       "      <th>Songs</th>\n",
       "      <th>Popularity</th>\n",
       "      <th>Link</th>\n",
       "      <th>Genre</th>\n",
       "      <th>Genres</th>\n",
       "    </tr>\n",
       "  </thead>\n",
       "  <tbody>\n",
       "    <tr>\n",
       "      <th>count</th>\n",
       "      <td>3242</td>\n",
       "      <td>3242.000000</td>\n",
       "      <td>3242.000000</td>\n",
       "      <td>3242</td>\n",
       "      <td>3242</td>\n",
       "      <td>3238</td>\n",
       "    </tr>\n",
       "    <tr>\n",
       "      <th>unique</th>\n",
       "      <td>2940</td>\n",
       "      <td>NaN</td>\n",
       "      <td>NaN</td>\n",
       "      <td>2940</td>\n",
       "      <td>6</td>\n",
       "      <td>1777</td>\n",
       "    </tr>\n",
       "    <tr>\n",
       "      <th>top</th>\n",
       "      <td>Heytor Vianna</td>\n",
       "      <td>NaN</td>\n",
       "      <td>NaN</td>\n",
       "      <td>/rick-rock/</td>\n",
       "      <td>Rock</td>\n",
       "      <td>Sertanejo</td>\n",
       "    </tr>\n",
       "    <tr>\n",
       "      <th>freq</th>\n",
       "      <td>3</td>\n",
       "      <td>NaN</td>\n",
       "      <td>NaN</td>\n",
       "      <td>3</td>\n",
       "      <td>797</td>\n",
       "      <td>295</td>\n",
       "    </tr>\n",
       "    <tr>\n",
       "      <th>mean</th>\n",
       "      <td>NaN</td>\n",
       "      <td>53.907465</td>\n",
       "      <td>1.522455</td>\n",
       "      <td>NaN</td>\n",
       "      <td>NaN</td>\n",
       "      <td>NaN</td>\n",
       "    </tr>\n",
       "    <tr>\n",
       "      <th>std</th>\n",
       "      <td>NaN</td>\n",
       "      <td>78.212829</td>\n",
       "      <td>6.965121</td>\n",
       "      <td>NaN</td>\n",
       "      <td>NaN</td>\n",
       "      <td>NaN</td>\n",
       "    </tr>\n",
       "    <tr>\n",
       "      <th>min</th>\n",
       "      <td>NaN</td>\n",
       "      <td>0.000000</td>\n",
       "      <td>0.000000</td>\n",
       "      <td>NaN</td>\n",
       "      <td>NaN</td>\n",
       "      <td>NaN</td>\n",
       "    </tr>\n",
       "    <tr>\n",
       "      <th>25%</th>\n",
       "      <td>NaN</td>\n",
       "      <td>4.000000</td>\n",
       "      <td>0.000000</td>\n",
       "      <td>NaN</td>\n",
       "      <td>NaN</td>\n",
       "      <td>NaN</td>\n",
       "    </tr>\n",
       "    <tr>\n",
       "      <th>50%</th>\n",
       "      <td>NaN</td>\n",
       "      <td>17.000000</td>\n",
       "      <td>0.000000</td>\n",
       "      <td>NaN</td>\n",
       "      <td>NaN</td>\n",
       "      <td>NaN</td>\n",
       "    </tr>\n",
       "    <tr>\n",
       "      <th>75%</th>\n",
       "      <td>NaN</td>\n",
       "      <td>77.000000</td>\n",
       "      <td>0.500000</td>\n",
       "      <td>NaN</td>\n",
       "      <td>NaN</td>\n",
       "      <td>NaN</td>\n",
       "    </tr>\n",
       "    <tr>\n",
       "      <th>max</th>\n",
       "      <td>NaN</td>\n",
       "      <td>759.000000</td>\n",
       "      <td>246.800000</td>\n",
       "      <td>NaN</td>\n",
       "      <td>NaN</td>\n",
       "      <td>NaN</td>\n",
       "    </tr>\n",
       "  </tbody>\n",
       "</table>\n",
       "</div>"
      ],
      "text/plain": [
       "               Artist        Songs   Popularity         Link Genre     Genres\n",
       "count            3242  3242.000000  3242.000000         3242  3242       3238\n",
       "unique           2940          NaN          NaN         2940     6       1777\n",
       "top     Heytor Vianna          NaN          NaN  /rick-rock/  Rock  Sertanejo\n",
       "freq                3          NaN          NaN            3   797        295\n",
       "mean              NaN    53.907465     1.522455          NaN   NaN        NaN\n",
       "std               NaN    78.212829     6.965121          NaN   NaN        NaN\n",
       "min               NaN     0.000000     0.000000          NaN   NaN        NaN\n",
       "25%               NaN     4.000000     0.000000          NaN   NaN        NaN\n",
       "50%               NaN    17.000000     0.000000          NaN   NaN        NaN\n",
       "75%               NaN    77.000000     0.500000          NaN   NaN        NaN\n",
       "max               NaN   759.000000   246.800000          NaN   NaN        NaN"
      ]
     },
     "execution_count": 5,
     "metadata": {},
     "output_type": "execute_result"
    }
   ],
   "source": [
    "genres_df.describe(include='all')"
   ]
  },
  {
   "cell_type": "code",
   "execution_count": 6,
   "id": "a08312fc",
   "metadata": {},
   "outputs": [
    {
     "data": {
      "text/html": [
       "<div>\n",
       "<style scoped>\n",
       "    .dataframe tbody tr th:only-of-type {\n",
       "        vertical-align: middle;\n",
       "    }\n",
       "\n",
       "    .dataframe tbody tr th {\n",
       "        vertical-align: top;\n",
       "    }\n",
       "\n",
       "    .dataframe thead th {\n",
       "        text-align: right;\n",
       "    }\n",
       "</style>\n",
       "<table border=\"1\" class=\"dataframe\">\n",
       "  <thead>\n",
       "    <tr style=\"text-align: right;\">\n",
       "      <th></th>\n",
       "      <th>Artist</th>\n",
       "      <th>Songs</th>\n",
       "      <th>Popularity</th>\n",
       "      <th>Link</th>\n",
       "      <th>Genre</th>\n",
       "      <th>Genres</th>\n",
       "    </tr>\n",
       "  </thead>\n",
       "  <tbody>\n",
       "    <tr>\n",
       "      <th>0</th>\n",
       "      <td>10000 Maniacs</td>\n",
       "      <td>110</td>\n",
       "      <td>0.3</td>\n",
       "      <td>/10000-maniacs/</td>\n",
       "      <td>Rock</td>\n",
       "      <td>Rock; Pop; Electronica; Dance; J-Pop/J-Rock; G...</td>\n",
       "    </tr>\n",
       "    <tr>\n",
       "      <th>1</th>\n",
       "      <td>12 Stones</td>\n",
       "      <td>75</td>\n",
       "      <td>0.3</td>\n",
       "      <td>/12-stones/</td>\n",
       "      <td>Rock</td>\n",
       "      <td>Rock; Gospel/Religioso; Hard Rock; Grunge; Roc...</td>\n",
       "    </tr>\n",
       "    <tr>\n",
       "      <th>2</th>\n",
       "      <td>311</td>\n",
       "      <td>196</td>\n",
       "      <td>0.5</td>\n",
       "      <td>/311/</td>\n",
       "      <td>Rock</td>\n",
       "      <td>Rock; Surf Music; Reggae; Ska; Pop/Rock; Rock ...</td>\n",
       "    </tr>\n",
       "    <tr>\n",
       "      <th>3</th>\n",
       "      <td>4 Non Blondes</td>\n",
       "      <td>15</td>\n",
       "      <td>7.5</td>\n",
       "      <td>/4-non-blondes/</td>\n",
       "      <td>Rock</td>\n",
       "      <td>Rock; Pop/Rock; Rock Alternativo; Grunge; Blue...</td>\n",
       "    </tr>\n",
       "    <tr>\n",
       "      <th>4</th>\n",
       "      <td>A Cruz Está Vazia</td>\n",
       "      <td>13</td>\n",
       "      <td>0.0</td>\n",
       "      <td>/a-cruz-esta-vazia/</td>\n",
       "      <td>Rock</td>\n",
       "      <td>Rock</td>\n",
       "    </tr>\n",
       "  </tbody>\n",
       "</table>\n",
       "</div>"
      ],
      "text/plain": [
       "              Artist  Songs  Popularity                 Link Genre  \\\n",
       "0      10000 Maniacs    110         0.3      /10000-maniacs/  Rock   \n",
       "1          12 Stones     75         0.3          /12-stones/  Rock   \n",
       "2                311    196         0.5                /311/  Rock   \n",
       "3      4 Non Blondes     15         7.5      /4-non-blondes/  Rock   \n",
       "4  A Cruz Está Vazia     13         0.0  /a-cruz-esta-vazia/  Rock   \n",
       "\n",
       "                                              Genres  \n",
       "0  Rock; Pop; Electronica; Dance; J-Pop/J-Rock; G...  \n",
       "1  Rock; Gospel/Religioso; Hard Rock; Grunge; Roc...  \n",
       "2  Rock; Surf Music; Reggae; Ska; Pop/Rock; Rock ...  \n",
       "3  Rock; Pop/Rock; Rock Alternativo; Grunge; Blue...  \n",
       "4                                               Rock  "
      ]
     },
     "execution_count": 6,
     "metadata": {},
     "output_type": "execute_result"
    }
   ],
   "source": [
    "genres_df.head()"
   ]
  },
  {
   "cell_type": "markdown",
   "id": "c9a09e9a",
   "metadata": {},
   "source": [
    "Reduce genres_df to just artist-name (the key with lyrics_df) and drop dupes."
   ]
  },
  {
   "cell_type": "code",
   "execution_count": 7,
   "id": "767b4d7d",
   "metadata": {},
   "outputs": [
    {
     "data": {
      "text/html": [
       "<div>\n",
       "<style scoped>\n",
       "    .dataframe tbody tr th:only-of-type {\n",
       "        vertical-align: middle;\n",
       "    }\n",
       "\n",
       "    .dataframe tbody tr th {\n",
       "        vertical-align: top;\n",
       "    }\n",
       "\n",
       "    .dataframe thead th {\n",
       "        text-align: right;\n",
       "    }\n",
       "</style>\n",
       "<table border=\"1\" class=\"dataframe\">\n",
       "  <thead>\n",
       "    <tr style=\"text-align: right;\">\n",
       "      <th></th>\n",
       "      <th>artist_name</th>\n",
       "      <th>genre</th>\n",
       "    </tr>\n",
       "  </thead>\n",
       "  <tbody>\n",
       "  </tbody>\n",
       "</table>\n",
       "</div>"
      ],
      "text/plain": [
       "Empty DataFrame\n",
       "Columns: [artist_name, genre]\n",
       "Index: []"
      ]
     },
     "execution_count": 7,
     "metadata": {},
     "output_type": "execute_result"
    }
   ],
   "source": [
    "genres1_df = pd.DataFrame(genres_df, columns=['Link','Genre'])\n",
    "genres2_df = genres1_df.rename(columns={'Link':'artist_name','Genre':'genre'})\n",
    "genres2_df[genres2_df.duplicated(keep = False)]"
   ]
  },
  {
   "cell_type": "code",
   "execution_count": 8,
   "id": "6af5b4ec",
   "metadata": {},
   "outputs": [
    {
     "data": {
      "text/html": [
       "<div>\n",
       "<style scoped>\n",
       "    .dataframe tbody tr th:only-of-type {\n",
       "        vertical-align: middle;\n",
       "    }\n",
       "\n",
       "    .dataframe tbody tr th {\n",
       "        vertical-align: top;\n",
       "    }\n",
       "\n",
       "    .dataframe thead th {\n",
       "        text-align: right;\n",
       "    }\n",
       "</style>\n",
       "<table border=\"1\" class=\"dataframe\">\n",
       "  <thead>\n",
       "    <tr style=\"text-align: right;\">\n",
       "      <th></th>\n",
       "      <th>artist_name</th>\n",
       "      <th>genre</th>\n",
       "    </tr>\n",
       "  </thead>\n",
       "  <tbody>\n",
       "    <tr>\n",
       "      <th>count</th>\n",
       "      <td>3242</td>\n",
       "      <td>3242</td>\n",
       "    </tr>\n",
       "    <tr>\n",
       "      <th>unique</th>\n",
       "      <td>2940</td>\n",
       "      <td>6</td>\n",
       "    </tr>\n",
       "    <tr>\n",
       "      <th>top</th>\n",
       "      <td>/rick-rock/</td>\n",
       "      <td>Rock</td>\n",
       "    </tr>\n",
       "    <tr>\n",
       "      <th>freq</th>\n",
       "      <td>3</td>\n",
       "      <td>797</td>\n",
       "    </tr>\n",
       "  </tbody>\n",
       "</table>\n",
       "</div>"
      ],
      "text/plain": [
       "        artist_name genre\n",
       "count          3242  3242\n",
       "unique         2940     6\n",
       "top     /rick-rock/  Rock\n",
       "freq              3   797"
      ]
     },
     "execution_count": 8,
     "metadata": {},
     "output_type": "execute_result"
    }
   ],
   "source": [
    "genres2_df.describe(include='all')"
   ]
  },
  {
   "cell_type": "code",
   "execution_count": 9,
   "id": "72c3166d",
   "metadata": {},
   "outputs": [
    {
     "data": {
      "text/plain": [
       "artist_name    0\n",
       "genre          0\n",
       "dtype: int64"
      ]
     },
     "execution_count": 9,
     "metadata": {},
     "output_type": "execute_result"
    }
   ],
   "source": [
    "genres2_df.isnull().sum()"
   ]
  },
  {
   "cell_type": "code",
   "execution_count": 10,
   "id": "9aafcedf",
   "metadata": {
    "scrolled": true
   },
   "outputs": [
    {
     "data": {
      "text/html": [
       "<div>\n",
       "<style scoped>\n",
       "    .dataframe tbody tr th:only-of-type {\n",
       "        vertical-align: middle;\n",
       "    }\n",
       "\n",
       "    .dataframe tbody tr th {\n",
       "        vertical-align: top;\n",
       "    }\n",
       "\n",
       "    .dataframe thead th {\n",
       "        text-align: right;\n",
       "    }\n",
       "</style>\n",
       "<table border=\"1\" class=\"dataframe\">\n",
       "  <thead>\n",
       "    <tr style=\"text-align: right;\">\n",
       "      <th></th>\n",
       "      <th>artist_name</th>\n",
       "      <th>genre</th>\n",
       "    </tr>\n",
       "  </thead>\n",
       "  <tbody>\n",
       "    <tr>\n",
       "      <th>1947</th>\n",
       "      <td>/10000-maniacs/</td>\n",
       "      <td>Pop</td>\n",
       "    </tr>\n",
       "    <tr>\n",
       "      <th>1975</th>\n",
       "      <td>/beastie-boys/</td>\n",
       "      <td>Rock</td>\n",
       "    </tr>\n",
       "    <tr>\n",
       "      <th>2002</th>\n",
       "      <td>/claudio-henrique-seven-music/</td>\n",
       "      <td>Sertanejo</td>\n",
       "    </tr>\n",
       "    <tr>\n",
       "      <th>2008</th>\n",
       "      <td>/crowded-house/</td>\n",
       "      <td>Rock</td>\n",
       "    </tr>\n",
       "    <tr>\n",
       "      <th>2012</th>\n",
       "      <td>/danni-carlos/</td>\n",
       "      <td>Rock</td>\n",
       "    </tr>\n",
       "    <tr>\n",
       "      <th>...</th>\n",
       "      <td>...</td>\n",
       "      <td>...</td>\n",
       "    </tr>\n",
       "    <tr>\n",
       "      <th>3227</th>\n",
       "      <td>/tati-quebra-barraco/</td>\n",
       "      <td>Hip Hop</td>\n",
       "    </tr>\n",
       "    <tr>\n",
       "      <th>3228</th>\n",
       "      <td>/valesca-popozuda/</td>\n",
       "      <td>Pop</td>\n",
       "    </tr>\n",
       "    <tr>\n",
       "      <th>3229</th>\n",
       "      <td>/vine-rodry/</td>\n",
       "      <td>Pop</td>\n",
       "    </tr>\n",
       "    <tr>\n",
       "      <th>3234</th>\n",
       "      <td>/leandro-sapucahy/</td>\n",
       "      <td>Pop</td>\n",
       "    </tr>\n",
       "    <tr>\n",
       "      <th>3239</th>\n",
       "      <td>/sambo/</td>\n",
       "      <td>Rock</td>\n",
       "    </tr>\n",
       "  </tbody>\n",
       "</table>\n",
       "<p>302 rows × 2 columns</p>\n",
       "</div>"
      ],
      "text/plain": [
       "                         artist_name      genre\n",
       "1947                 /10000-maniacs/        Pop\n",
       "1975                  /beastie-boys/       Rock\n",
       "2002  /claudio-henrique-seven-music/  Sertanejo\n",
       "2008                 /crowded-house/       Rock\n",
       "2012                  /danni-carlos/       Rock\n",
       "...                              ...        ...\n",
       "3227           /tati-quebra-barraco/    Hip Hop\n",
       "3228              /valesca-popozuda/        Pop\n",
       "3229                    /vine-rodry/        Pop\n",
       "3234              /leandro-sapucahy/        Pop\n",
       "3239                         /sambo/       Rock\n",
       "\n",
       "[302 rows x 2 columns]"
      ]
     },
     "execution_count": 10,
     "metadata": {},
     "output_type": "execute_result"
    }
   ],
   "source": [
    "genres2_df[genres2_df.duplicated(subset=['artist_name'])]"
   ]
  },
  {
   "cell_type": "markdown",
   "id": "f6c7ebf6",
   "metadata": {},
   "source": [
    "This merging the genre and lyric data sets on artist, with this many dulicated artists will explode the merge dataframe, with many, many repeats."
   ]
  },
  {
   "cell_type": "code",
   "execution_count": 11,
   "id": "094338e2",
   "metadata": {},
   "outputs": [],
   "source": [
    "genres2_df.drop_duplicates(subset=['artist_name'],inplace=True)"
   ]
  },
  {
   "cell_type": "code",
   "execution_count": 12,
   "id": "daf6405e",
   "metadata": {},
   "outputs": [
    {
     "data": {
      "text/html": [
       "<div>\n",
       "<style scoped>\n",
       "    .dataframe tbody tr th:only-of-type {\n",
       "        vertical-align: middle;\n",
       "    }\n",
       "\n",
       "    .dataframe tbody tr th {\n",
       "        vertical-align: top;\n",
       "    }\n",
       "\n",
       "    .dataframe thead th {\n",
       "        text-align: right;\n",
       "    }\n",
       "</style>\n",
       "<table border=\"1\" class=\"dataframe\">\n",
       "  <thead>\n",
       "    <tr style=\"text-align: right;\">\n",
       "      <th></th>\n",
       "      <th>artist_name</th>\n",
       "      <th>genre</th>\n",
       "    </tr>\n",
       "  </thead>\n",
       "  <tbody>\n",
       "    <tr>\n",
       "      <th>count</th>\n",
       "      <td>2940</td>\n",
       "      <td>2940</td>\n",
       "    </tr>\n",
       "    <tr>\n",
       "      <th>unique</th>\n",
       "      <td>2940</td>\n",
       "      <td>6</td>\n",
       "    </tr>\n",
       "    <tr>\n",
       "      <th>top</th>\n",
       "      <td>/biographia-54/</td>\n",
       "      <td>Rock</td>\n",
       "    </tr>\n",
       "    <tr>\n",
       "      <th>freq</th>\n",
       "      <td>1</td>\n",
       "      <td>755</td>\n",
       "    </tr>\n",
       "  </tbody>\n",
       "</table>\n",
       "</div>"
      ],
      "text/plain": [
       "            artist_name genre\n",
       "count              2940  2940\n",
       "unique             2940     6\n",
       "top     /biographia-54/  Rock\n",
       "freq                  1   755"
      ]
     },
     "execution_count": 12,
     "metadata": {},
     "output_type": "execute_result"
    }
   ],
   "source": [
    "genres2_df.describe(include='all')"
   ]
  },
  {
   "cell_type": "code",
   "execution_count": 13,
   "id": "b8fb6d7d",
   "metadata": {},
   "outputs": [
    {
     "data": {
      "text/html": [
       "<div>\n",
       "<style scoped>\n",
       "    .dataframe tbody tr th:only-of-type {\n",
       "        vertical-align: middle;\n",
       "    }\n",
       "\n",
       "    .dataframe tbody tr th {\n",
       "        vertical-align: top;\n",
       "    }\n",
       "\n",
       "    .dataframe thead th {\n",
       "        text-align: right;\n",
       "    }\n",
       "</style>\n",
       "<table border=\"1\" class=\"dataframe\">\n",
       "  <thead>\n",
       "    <tr style=\"text-align: right;\">\n",
       "      <th></th>\n",
       "      <th>artist_name</th>\n",
       "      <th>genre</th>\n",
       "    </tr>\n",
       "  </thead>\n",
       "  <tbody>\n",
       "  </tbody>\n",
       "</table>\n",
       "</div>"
      ],
      "text/plain": [
       "Empty DataFrame\n",
       "Columns: [artist_name, genre]\n",
       "Index: []"
      ]
     },
     "execution_count": 13,
     "metadata": {},
     "output_type": "execute_result"
    }
   ],
   "source": [
    "genres2_df[genres2_df.duplicated(subset=['artist_name'])]"
   ]
  },
  {
   "cell_type": "markdown",
   "id": "0f3aab69",
   "metadata": {},
   "source": [
    "Drop of dupes confirmed."
   ]
  },
  {
   "cell_type": "markdown",
   "id": "359c3dc8",
   "metadata": {},
   "source": [
    "Reorder lyrics_df columns and rename IAW naming convention. Drop duplicates. Drop all but the ENGLISH lyrics."
   ]
  },
  {
   "cell_type": "code",
   "execution_count": 14,
   "id": "b698ff57",
   "metadata": {},
   "outputs": [
    {
     "data": {
      "text/html": [
       "<div>\n",
       "<style scoped>\n",
       "    .dataframe tbody tr th:only-of-type {\n",
       "        vertical-align: middle;\n",
       "    }\n",
       "\n",
       "    .dataframe tbody tr th {\n",
       "        vertical-align: top;\n",
       "    }\n",
       "\n",
       "    .dataframe thead th {\n",
       "        text-align: right;\n",
       "    }\n",
       "</style>\n",
       "<table border=\"1\" class=\"dataframe\">\n",
       "  <thead>\n",
       "    <tr style=\"text-align: right;\">\n",
       "      <th></th>\n",
       "      <th>artist_name</th>\n",
       "      <th>song_name</th>\n",
       "      <th>link</th>\n",
       "      <th>lyrics</th>\n",
       "      <th>language</th>\n",
       "    </tr>\n",
       "  </thead>\n",
       "  <tbody>\n",
       "    <tr>\n",
       "      <th>0</th>\n",
       "      <td>/10000-maniacs/</td>\n",
       "      <td>More Than This</td>\n",
       "      <td>/10000-maniacs/more-than-this.html</td>\n",
       "      <td>I could feel at the time. There was no way of ...</td>\n",
       "      <td>ENGLISH</td>\n",
       "    </tr>\n",
       "    <tr>\n",
       "      <th>1</th>\n",
       "      <td>/10000-maniacs/</td>\n",
       "      <td>Because The Night</td>\n",
       "      <td>/10000-maniacs/because-the-night.html</td>\n",
       "      <td>Take me now, baby, here as I am. Hold me close...</td>\n",
       "      <td>ENGLISH</td>\n",
       "    </tr>\n",
       "    <tr>\n",
       "      <th>2</th>\n",
       "      <td>/10000-maniacs/</td>\n",
       "      <td>These Are Days</td>\n",
       "      <td>/10000-maniacs/these-are-days.html</td>\n",
       "      <td>These are. These are days you'll remember. Nev...</td>\n",
       "      <td>ENGLISH</td>\n",
       "    </tr>\n",
       "    <tr>\n",
       "      <th>3</th>\n",
       "      <td>/10000-maniacs/</td>\n",
       "      <td>A Campfire Song</td>\n",
       "      <td>/10000-maniacs/a-campfire-song.html</td>\n",
       "      <td>A lie to say, \"O my mountain has coal veins an...</td>\n",
       "      <td>ENGLISH</td>\n",
       "    </tr>\n",
       "    <tr>\n",
       "      <th>4</th>\n",
       "      <td>/10000-maniacs/</td>\n",
       "      <td>Everyday Is Like Sunday</td>\n",
       "      <td>/10000-maniacs/everyday-is-like-sunday.html</td>\n",
       "      <td>Trudging slowly over wet sand. Back to the ben...</td>\n",
       "      <td>ENGLISH</td>\n",
       "    </tr>\n",
       "    <tr>\n",
       "      <th>...</th>\n",
       "      <td>...</td>\n",
       "      <td>...</td>\n",
       "      <td>...</td>\n",
       "      <td>...</td>\n",
       "      <td>...</td>\n",
       "    </tr>\n",
       "    <tr>\n",
       "      <th>207587</th>\n",
       "      <td>/sambo/</td>\n",
       "      <td>I Feel Good</td>\n",
       "      <td>/sambo/i-feel-good.html</td>\n",
       "      <td>Whooooau!. I feel good, I knew that I would no...</td>\n",
       "      <td>ENGLISH</td>\n",
       "    </tr>\n",
       "    <tr>\n",
       "      <th>207592</th>\n",
       "      <td>/sambo/</td>\n",
       "      <td>Mercedes Benz</td>\n",
       "      <td>/sambo/mercedes-benz.html</td>\n",
       "      <td>Oh Lord, won't you buy me a Mercedes Benz ?. M...</td>\n",
       "      <td>ENGLISH</td>\n",
       "    </tr>\n",
       "    <tr>\n",
       "      <th>207614</th>\n",
       "      <td>/sambo/</td>\n",
       "      <td>Suddenly I See</td>\n",
       "      <td>/sambo/suddenly-i-see.html</td>\n",
       "      <td>Her face is a map of the world, is a map of th...</td>\n",
       "      <td>ENGLISH</td>\n",
       "    </tr>\n",
       "    <tr>\n",
       "      <th>207615</th>\n",
       "      <td>/sambo/</td>\n",
       "      <td>Sunday, Bloody Sunday</td>\n",
       "      <td>/sambo/sunday-bloody-sunday.html</td>\n",
       "      <td>I can't believe the news today. I can't close ...</td>\n",
       "      <td>ENGLISH</td>\n",
       "    </tr>\n",
       "    <tr>\n",
       "      <th>207619</th>\n",
       "      <td>/sambo/</td>\n",
       "      <td>This Love</td>\n",
       "      <td>/sambo/this-love.html</td>\n",
       "      <td>I was so high I did not recognize. The fire bu...</td>\n",
       "      <td>ENGLISH</td>\n",
       "    </tr>\n",
       "  </tbody>\n",
       "</table>\n",
       "<p>43546 rows × 5 columns</p>\n",
       "</div>"
      ],
      "text/plain": [
       "            artist_name                song_name  \\\n",
       "0       /10000-maniacs/           More Than This   \n",
       "1       /10000-maniacs/        Because The Night   \n",
       "2       /10000-maniacs/           These Are Days   \n",
       "3       /10000-maniacs/          A Campfire Song   \n",
       "4       /10000-maniacs/  Everyday Is Like Sunday   \n",
       "...                 ...                      ...   \n",
       "207587          /sambo/              I Feel Good   \n",
       "207592          /sambo/            Mercedes Benz   \n",
       "207614          /sambo/           Suddenly I See   \n",
       "207615          /sambo/    Sunday, Bloody Sunday   \n",
       "207619          /sambo/                This Love   \n",
       "\n",
       "                                               link  \\\n",
       "0                /10000-maniacs/more-than-this.html   \n",
       "1             /10000-maniacs/because-the-night.html   \n",
       "2                /10000-maniacs/these-are-days.html   \n",
       "3               /10000-maniacs/a-campfire-song.html   \n",
       "4       /10000-maniacs/everyday-is-like-sunday.html   \n",
       "...                                             ...   \n",
       "207587                      /sambo/i-feel-good.html   \n",
       "207592                    /sambo/mercedes-benz.html   \n",
       "207614                   /sambo/suddenly-i-see.html   \n",
       "207615             /sambo/sunday-bloody-sunday.html   \n",
       "207619                        /sambo/this-love.html   \n",
       "\n",
       "                                                   lyrics language  \n",
       "0       I could feel at the time. There was no way of ...  ENGLISH  \n",
       "1       Take me now, baby, here as I am. Hold me close...  ENGLISH  \n",
       "2       These are. These are days you'll remember. Nev...  ENGLISH  \n",
       "3       A lie to say, \"O my mountain has coal veins an...  ENGLISH  \n",
       "4       Trudging slowly over wet sand. Back to the ben...  ENGLISH  \n",
       "...                                                   ...      ...  \n",
       "207587  Whooooau!. I feel good, I knew that I would no...  ENGLISH  \n",
       "207592  Oh Lord, won't you buy me a Mercedes Benz ?. M...  ENGLISH  \n",
       "207614  Her face is a map of the world, is a map of th...  ENGLISH  \n",
       "207615  I can't believe the news today. I can't close ...  ENGLISH  \n",
       "207619  I was so high I did not recognize. The fire bu...  ENGLISH  \n",
       "\n",
       "[43546 rows x 5 columns]"
      ]
     },
     "execution_count": 14,
     "metadata": {},
     "output_type": "execute_result"
    }
   ],
   "source": [
    "lyrics2_df = lyrics_df.rename(columns={'ALink':'artist_name','SName':'song_name','SLink':'link','Lyric':'lyrics','Idiom':'language'})\n",
    "lyrics3_df = (lyrics2_df[lyrics2_df['language']=='ENGLISH'])\n",
    "lyrics3_df[lyrics3_df.duplicated(keep = False)]"
   ]
  },
  {
   "cell_type": "code",
   "execution_count": 15,
   "id": "98e2e8f7",
   "metadata": {},
   "outputs": [
    {
     "data": {
      "text/html": [
       "<div>\n",
       "<style scoped>\n",
       "    .dataframe tbody tr th:only-of-type {\n",
       "        vertical-align: middle;\n",
       "    }\n",
       "\n",
       "    .dataframe tbody tr th {\n",
       "        vertical-align: top;\n",
       "    }\n",
       "\n",
       "    .dataframe thead th {\n",
       "        text-align: right;\n",
       "    }\n",
       "</style>\n",
       "<table border=\"1\" class=\"dataframe\">\n",
       "  <thead>\n",
       "    <tr style=\"text-align: right;\">\n",
       "      <th></th>\n",
       "      <th>artist_name</th>\n",
       "      <th>song_name</th>\n",
       "      <th>link</th>\n",
       "      <th>lyrics</th>\n",
       "      <th>language</th>\n",
       "    </tr>\n",
       "  </thead>\n",
       "  <tbody>\n",
       "    <tr>\n",
       "      <th>count</th>\n",
       "      <td>114723</td>\n",
       "      <td>114723</td>\n",
       "      <td>114723</td>\n",
       "      <td>114723</td>\n",
       "      <td>114723</td>\n",
       "    </tr>\n",
       "    <tr>\n",
       "      <th>unique</th>\n",
       "      <td>1198</td>\n",
       "      <td>70261</td>\n",
       "      <td>91611</td>\n",
       "      <td>90796</td>\n",
       "      <td>1</td>\n",
       "    </tr>\n",
       "    <tr>\n",
       "      <th>top</th>\n",
       "      <td>/chris-brown/</td>\n",
       "      <td>Home</td>\n",
       "      <td>/m-i-a/bad-girls.html</td>\n",
       "      <td>[This song is an instrumental.].</td>\n",
       "      <td>ENGLISH</td>\n",
       "    </tr>\n",
       "    <tr>\n",
       "      <th>freq</th>\n",
       "      <td>1174</td>\n",
       "      <td>61</td>\n",
       "      <td>6</td>\n",
       "      <td>17</td>\n",
       "      <td>114723</td>\n",
       "    </tr>\n",
       "  </tbody>\n",
       "</table>\n",
       "</div>"
      ],
      "text/plain": [
       "          artist_name song_name                   link  \\\n",
       "count          114723    114723                 114723   \n",
       "unique           1198     70261                  91611   \n",
       "top     /chris-brown/      Home  /m-i-a/bad-girls.html   \n",
       "freq             1174        61                      6   \n",
       "\n",
       "                                  lyrics language  \n",
       "count                             114723   114723  \n",
       "unique                             90796        1  \n",
       "top     [This song is an instrumental.].  ENGLISH  \n",
       "freq                                  17   114723  "
      ]
     },
     "execution_count": 15,
     "metadata": {},
     "output_type": "execute_result"
    }
   ],
   "source": [
    "lyrics3_df.describe(include='all')"
   ]
  },
  {
   "cell_type": "code",
   "execution_count": 16,
   "id": "fc7bdfdb",
   "metadata": {},
   "outputs": [
    {
     "data": {
      "text/plain": [
       "artist_name    0\n",
       "song_name      0\n",
       "link           0\n",
       "lyrics         0\n",
       "language       0\n",
       "dtype: int64"
      ]
     },
     "execution_count": 16,
     "metadata": {},
     "output_type": "execute_result"
    }
   ],
   "source": [
    "lyrics3_df.isnull().sum()"
   ]
  },
  {
   "cell_type": "markdown",
   "id": "64ff4f56",
   "metadata": {},
   "source": [
    "Checking for and then removing duplicate lyrics (multiple artists doing the same song). Almost 24,000."
   ]
  },
  {
   "cell_type": "code",
   "execution_count": 17,
   "id": "0ca8197a",
   "metadata": {},
   "outputs": [
    {
     "data": {
      "text/html": [
       "<div>\n",
       "<style scoped>\n",
       "    .dataframe tbody tr th:only-of-type {\n",
       "        vertical-align: middle;\n",
       "    }\n",
       "\n",
       "    .dataframe tbody tr th {\n",
       "        vertical-align: top;\n",
       "    }\n",
       "\n",
       "    .dataframe thead th {\n",
       "        text-align: right;\n",
       "    }\n",
       "</style>\n",
       "<table border=\"1\" class=\"dataframe\">\n",
       "  <thead>\n",
       "    <tr style=\"text-align: right;\">\n",
       "      <th></th>\n",
       "      <th>artist_name</th>\n",
       "      <th>song_name</th>\n",
       "      <th>link</th>\n",
       "      <th>lyrics</th>\n",
       "      <th>language</th>\n",
       "    </tr>\n",
       "  </thead>\n",
       "  <tbody>\n",
       "    <tr>\n",
       "      <th>23</th>\n",
       "      <td>/10000-maniacs/</td>\n",
       "      <td>A Campfire Song</td>\n",
       "      <td>/10000-maniacs/a-campfire-song.html</td>\n",
       "      <td>A lie to say, \"O my mountain has coal veins an...</td>\n",
       "      <td>ENGLISH</td>\n",
       "    </tr>\n",
       "    <tr>\n",
       "      <th>24</th>\n",
       "      <td>/10000-maniacs/</td>\n",
       "      <td>A Room For Everything</td>\n",
       "      <td>/10000-maniacs/a-room-for-everything.html</td>\n",
       "      <td>You were looking away from me, western skies c...</td>\n",
       "      <td>ENGLISH</td>\n",
       "    </tr>\n",
       "    <tr>\n",
       "      <th>25</th>\n",
       "      <td>/10000-maniacs/</td>\n",
       "      <td>Across The Fields</td>\n",
       "      <td>/10000-maniacs/across-the-fields.html</td>\n",
       "      <td>Well they left then in the morning, a hundred ...</td>\n",
       "      <td>ENGLISH</td>\n",
       "    </tr>\n",
       "    <tr>\n",
       "      <th>26</th>\n",
       "      <td>/10000-maniacs/</td>\n",
       "      <td>All That Never Happens</td>\n",
       "      <td>/10000-maniacs/all-that-never-happens.html</td>\n",
       "      <td>She walks alone on the brick lane,. the breeze...</td>\n",
       "      <td>ENGLISH</td>\n",
       "    </tr>\n",
       "    <tr>\n",
       "      <th>29</th>\n",
       "      <td>/10000-maniacs/</td>\n",
       "      <td>Anthem For Doomed Youth</td>\n",
       "      <td>/10000-maniacs/anthem-for-doomed-youth.html</td>\n",
       "      <td>For whom do the bells toll. When sentenced to ...</td>\n",
       "      <td>ENGLISH</td>\n",
       "    </tr>\n",
       "    <tr>\n",
       "      <th>...</th>\n",
       "      <td>...</td>\n",
       "      <td>...</td>\n",
       "      <td>...</td>\n",
       "      <td>...</td>\n",
       "      <td>...</td>\n",
       "    </tr>\n",
       "    <tr>\n",
       "      <th>207587</th>\n",
       "      <td>/sambo/</td>\n",
       "      <td>I Feel Good</td>\n",
       "      <td>/sambo/i-feel-good.html</td>\n",
       "      <td>Whooooau!. I feel good, I knew that I would no...</td>\n",
       "      <td>ENGLISH</td>\n",
       "    </tr>\n",
       "    <tr>\n",
       "      <th>207592</th>\n",
       "      <td>/sambo/</td>\n",
       "      <td>Mercedes Benz</td>\n",
       "      <td>/sambo/mercedes-benz.html</td>\n",
       "      <td>Oh Lord, won't you buy me a Mercedes Benz ?. M...</td>\n",
       "      <td>ENGLISH</td>\n",
       "    </tr>\n",
       "    <tr>\n",
       "      <th>207614</th>\n",
       "      <td>/sambo/</td>\n",
       "      <td>Suddenly I See</td>\n",
       "      <td>/sambo/suddenly-i-see.html</td>\n",
       "      <td>Her face is a map of the world, is a map of th...</td>\n",
       "      <td>ENGLISH</td>\n",
       "    </tr>\n",
       "    <tr>\n",
       "      <th>207615</th>\n",
       "      <td>/sambo/</td>\n",
       "      <td>Sunday, Bloody Sunday</td>\n",
       "      <td>/sambo/sunday-bloody-sunday.html</td>\n",
       "      <td>I can't believe the news today. I can't close ...</td>\n",
       "      <td>ENGLISH</td>\n",
       "    </tr>\n",
       "    <tr>\n",
       "      <th>207619</th>\n",
       "      <td>/sambo/</td>\n",
       "      <td>This Love</td>\n",
       "      <td>/sambo/this-love.html</td>\n",
       "      <td>I was so high I did not recognize. The fire bu...</td>\n",
       "      <td>ENGLISH</td>\n",
       "    </tr>\n",
       "  </tbody>\n",
       "</table>\n",
       "<p>23927 rows × 5 columns</p>\n",
       "</div>"
      ],
      "text/plain": [
       "            artist_name                song_name  \\\n",
       "23      /10000-maniacs/          A Campfire Song   \n",
       "24      /10000-maniacs/    A Room For Everything   \n",
       "25      /10000-maniacs/        Across The Fields   \n",
       "26      /10000-maniacs/   All That Never Happens   \n",
       "29      /10000-maniacs/  Anthem For Doomed Youth   \n",
       "...                 ...                      ...   \n",
       "207587          /sambo/              I Feel Good   \n",
       "207592          /sambo/            Mercedes Benz   \n",
       "207614          /sambo/           Suddenly I See   \n",
       "207615          /sambo/    Sunday, Bloody Sunday   \n",
       "207619          /sambo/                This Love   \n",
       "\n",
       "                                               link  \\\n",
       "23              /10000-maniacs/a-campfire-song.html   \n",
       "24        /10000-maniacs/a-room-for-everything.html   \n",
       "25            /10000-maniacs/across-the-fields.html   \n",
       "26       /10000-maniacs/all-that-never-happens.html   \n",
       "29      /10000-maniacs/anthem-for-doomed-youth.html   \n",
       "...                                             ...   \n",
       "207587                      /sambo/i-feel-good.html   \n",
       "207592                    /sambo/mercedes-benz.html   \n",
       "207614                   /sambo/suddenly-i-see.html   \n",
       "207615             /sambo/sunday-bloody-sunday.html   \n",
       "207619                        /sambo/this-love.html   \n",
       "\n",
       "                                                   lyrics language  \n",
       "23      A lie to say, \"O my mountain has coal veins an...  ENGLISH  \n",
       "24      You were looking away from me, western skies c...  ENGLISH  \n",
       "25      Well they left then in the morning, a hundred ...  ENGLISH  \n",
       "26      She walks alone on the brick lane,. the breeze...  ENGLISH  \n",
       "29      For whom do the bells toll. When sentenced to ...  ENGLISH  \n",
       "...                                                   ...      ...  \n",
       "207587  Whooooau!. I feel good, I knew that I would no...  ENGLISH  \n",
       "207592  Oh Lord, won't you buy me a Mercedes Benz ?. M...  ENGLISH  \n",
       "207614  Her face is a map of the world, is a map of th...  ENGLISH  \n",
       "207615  I can't believe the news today. I can't close ...  ENGLISH  \n",
       "207619  I was so high I did not recognize. The fire bu...  ENGLISH  \n",
       "\n",
       "[23927 rows x 5 columns]"
      ]
     },
     "execution_count": 17,
     "metadata": {},
     "output_type": "execute_result"
    }
   ],
   "source": [
    "lyrics3_df[lyrics3_df.duplicated(subset=['lyrics'])]"
   ]
  },
  {
   "cell_type": "code",
   "execution_count": 18,
   "id": "c399ff71",
   "metadata": {},
   "outputs": [
    {
     "name": "stderr",
     "output_type": "stream",
     "text": [
      "<ipython-input-18-c957743e557b>:1: SettingWithCopyWarning: \n",
      "A value is trying to be set on a copy of a slice from a DataFrame\n",
      "\n",
      "See the caveats in the documentation: https://pandas.pydata.org/pandas-docs/stable/user_guide/indexing.html#returning-a-view-versus-a-copy\n",
      "  lyrics3_df.drop_duplicates(subset=['lyrics'],inplace=True)\n"
     ]
    }
   ],
   "source": [
    "lyrics3_df.drop_duplicates(subset=['lyrics'],inplace=True)"
   ]
  },
  {
   "cell_type": "code",
   "execution_count": 19,
   "id": "77b7e194",
   "metadata": {},
   "outputs": [
    {
     "data": {
      "text/html": [
       "<div>\n",
       "<style scoped>\n",
       "    .dataframe tbody tr th:only-of-type {\n",
       "        vertical-align: middle;\n",
       "    }\n",
       "\n",
       "    .dataframe tbody tr th {\n",
       "        vertical-align: top;\n",
       "    }\n",
       "\n",
       "    .dataframe thead th {\n",
       "        text-align: right;\n",
       "    }\n",
       "</style>\n",
       "<table border=\"1\" class=\"dataframe\">\n",
       "  <thead>\n",
       "    <tr style=\"text-align: right;\">\n",
       "      <th></th>\n",
       "      <th>artist_name</th>\n",
       "      <th>song_name</th>\n",
       "      <th>link</th>\n",
       "      <th>lyrics</th>\n",
       "      <th>language</th>\n",
       "    </tr>\n",
       "  </thead>\n",
       "  <tbody>\n",
       "  </tbody>\n",
       "</table>\n",
       "</div>"
      ],
      "text/plain": [
       "Empty DataFrame\n",
       "Columns: [artist_name, song_name, link, lyrics, language]\n",
       "Index: []"
      ]
     },
     "execution_count": 19,
     "metadata": {},
     "output_type": "execute_result"
    }
   ],
   "source": [
    "lyrics3_df[lyrics3_df.duplicated(subset=['lyrics'])]"
   ]
  },
  {
   "cell_type": "markdown",
   "id": "0b47b8ed",
   "metadata": {},
   "source": [
    "Merge lyrics_df with genre_df to add genre to a single df with the lyrics."
   ]
  },
  {
   "cell_type": "code",
   "execution_count": 20,
   "id": "ad6affb2",
   "metadata": {},
   "outputs": [],
   "source": [
    "merged_genre_df = pd.merge(lyrics3_df,genres2_df,on = 'artist_name')"
   ]
  },
  {
   "cell_type": "code",
   "execution_count": 21,
   "id": "5daa5f4e",
   "metadata": {},
   "outputs": [
    {
     "data": {
      "text/html": [
       "<div>\n",
       "<style scoped>\n",
       "    .dataframe tbody tr th:only-of-type {\n",
       "        vertical-align: middle;\n",
       "    }\n",
       "\n",
       "    .dataframe tbody tr th {\n",
       "        vertical-align: top;\n",
       "    }\n",
       "\n",
       "    .dataframe thead th {\n",
       "        text-align: right;\n",
       "    }\n",
       "</style>\n",
       "<table border=\"1\" class=\"dataframe\">\n",
       "  <thead>\n",
       "    <tr style=\"text-align: right;\">\n",
       "      <th></th>\n",
       "      <th>artist_name</th>\n",
       "      <th>song_name</th>\n",
       "      <th>link</th>\n",
       "      <th>lyrics</th>\n",
       "      <th>language</th>\n",
       "      <th>genre</th>\n",
       "    </tr>\n",
       "  </thead>\n",
       "  <tbody>\n",
       "    <tr>\n",
       "      <th>count</th>\n",
       "      <td>86391</td>\n",
       "      <td>86391</td>\n",
       "      <td>86391</td>\n",
       "      <td>86391</td>\n",
       "      <td>86391</td>\n",
       "      <td>86391</td>\n",
       "    </tr>\n",
       "    <tr>\n",
       "      <th>unique</th>\n",
       "      <td>1147</td>\n",
       "      <td>66856</td>\n",
       "      <td>86391</td>\n",
       "      <td>86391</td>\n",
       "      <td>1</td>\n",
       "      <td>6</td>\n",
       "    </tr>\n",
       "    <tr>\n",
       "      <th>top</th>\n",
       "      <td>/elvis-presley/</td>\n",
       "      <td>Intro</td>\n",
       "      <td>/a-ha/dot-the-i.html</td>\n",
       "      <td>Somber sister. This is a strange and bitter fr...</td>\n",
       "      <td>ENGLISH</td>\n",
       "      <td>Rock</td>\n",
       "    </tr>\n",
       "    <tr>\n",
       "      <th>freq</th>\n",
       "      <td>747</td>\n",
       "      <td>50</td>\n",
       "      <td>1</td>\n",
       "      <td>1</td>\n",
       "      <td>86391</td>\n",
       "      <td>47408</td>\n",
       "    </tr>\n",
       "  </tbody>\n",
       "</table>\n",
       "</div>"
      ],
      "text/plain": [
       "            artist_name song_name                  link  \\\n",
       "count             86391     86391                 86391   \n",
       "unique             1147     66856                 86391   \n",
       "top     /elvis-presley/     Intro  /a-ha/dot-the-i.html   \n",
       "freq                747        50                     1   \n",
       "\n",
       "                                                   lyrics language  genre  \n",
       "count                                               86391    86391  86391  \n",
       "unique                                              86391        1      6  \n",
       "top     Somber sister. This is a strange and bitter fr...  ENGLISH   Rock  \n",
       "freq                                                    1    86391  47408  "
      ]
     },
     "execution_count": 21,
     "metadata": {},
     "output_type": "execute_result"
    }
   ],
   "source": [
    "merged_genre_df.describe(include='all')"
   ]
  },
  {
   "cell_type": "markdown",
   "id": "de628238",
   "metadata": {},
   "source": [
    "Strip the ' / ' from 'singer_name'."
   ]
  },
  {
   "cell_type": "code",
   "execution_count": 22,
   "id": "449aeda6",
   "metadata": {},
   "outputs": [],
   "source": [
    "merged_genre_df['artist_name'].replace('(/)','',regex=True, inplace = True)"
   ]
  },
  {
   "cell_type": "code",
   "execution_count": 23,
   "id": "a4480d6c",
   "metadata": {},
   "outputs": [
    {
     "data": {
      "text/html": [
       "<div>\n",
       "<style scoped>\n",
       "    .dataframe tbody tr th:only-of-type {\n",
       "        vertical-align: middle;\n",
       "    }\n",
       "\n",
       "    .dataframe tbody tr th {\n",
       "        vertical-align: top;\n",
       "    }\n",
       "\n",
       "    .dataframe thead th {\n",
       "        text-align: right;\n",
       "    }\n",
       "</style>\n",
       "<table border=\"1\" class=\"dataframe\">\n",
       "  <thead>\n",
       "    <tr style=\"text-align: right;\">\n",
       "      <th></th>\n",
       "      <th>artist_name</th>\n",
       "      <th>song_name</th>\n",
       "      <th>link</th>\n",
       "      <th>lyrics</th>\n",
       "      <th>language</th>\n",
       "      <th>genre</th>\n",
       "    </tr>\n",
       "  </thead>\n",
       "  <tbody>\n",
       "    <tr>\n",
       "      <th>0</th>\n",
       "      <td>10000-maniacs</td>\n",
       "      <td>More Than This</td>\n",
       "      <td>/10000-maniacs/more-than-this.html</td>\n",
       "      <td>I could feel at the time. There was no way of ...</td>\n",
       "      <td>ENGLISH</td>\n",
       "      <td>Rock</td>\n",
       "    </tr>\n",
       "    <tr>\n",
       "      <th>1</th>\n",
       "      <td>10000-maniacs</td>\n",
       "      <td>Because The Night</td>\n",
       "      <td>/10000-maniacs/because-the-night.html</td>\n",
       "      <td>Take me now, baby, here as I am. Hold me close...</td>\n",
       "      <td>ENGLISH</td>\n",
       "      <td>Rock</td>\n",
       "    </tr>\n",
       "    <tr>\n",
       "      <th>2</th>\n",
       "      <td>10000-maniacs</td>\n",
       "      <td>These Are Days</td>\n",
       "      <td>/10000-maniacs/these-are-days.html</td>\n",
       "      <td>These are. These are days you'll remember. Nev...</td>\n",
       "      <td>ENGLISH</td>\n",
       "      <td>Rock</td>\n",
       "    </tr>\n",
       "    <tr>\n",
       "      <th>3</th>\n",
       "      <td>10000-maniacs</td>\n",
       "      <td>A Campfire Song</td>\n",
       "      <td>/10000-maniacs/a-campfire-song.html</td>\n",
       "      <td>A lie to say, \"O my mountain has coal veins an...</td>\n",
       "      <td>ENGLISH</td>\n",
       "      <td>Rock</td>\n",
       "    </tr>\n",
       "    <tr>\n",
       "      <th>4</th>\n",
       "      <td>10000-maniacs</td>\n",
       "      <td>Everyday Is Like Sunday</td>\n",
       "      <td>/10000-maniacs/everyday-is-like-sunday.html</td>\n",
       "      <td>Trudging slowly over wet sand. Back to the ben...</td>\n",
       "      <td>ENGLISH</td>\n",
       "      <td>Rock</td>\n",
       "    </tr>\n",
       "  </tbody>\n",
       "</table>\n",
       "</div>"
      ],
      "text/plain": [
       "     artist_name                song_name  \\\n",
       "0  10000-maniacs           More Than This   \n",
       "1  10000-maniacs        Because The Night   \n",
       "2  10000-maniacs           These Are Days   \n",
       "3  10000-maniacs          A Campfire Song   \n",
       "4  10000-maniacs  Everyday Is Like Sunday   \n",
       "\n",
       "                                          link  \\\n",
       "0           /10000-maniacs/more-than-this.html   \n",
       "1        /10000-maniacs/because-the-night.html   \n",
       "2           /10000-maniacs/these-are-days.html   \n",
       "3          /10000-maniacs/a-campfire-song.html   \n",
       "4  /10000-maniacs/everyday-is-like-sunday.html   \n",
       "\n",
       "                                              lyrics language genre  \n",
       "0  I could feel at the time. There was no way of ...  ENGLISH  Rock  \n",
       "1  Take me now, baby, here as I am. Hold me close...  ENGLISH  Rock  \n",
       "2  These are. These are days you'll remember. Nev...  ENGLISH  Rock  \n",
       "3  A lie to say, \"O my mountain has coal veins an...  ENGLISH  Rock  \n",
       "4  Trudging slowly over wet sand. Back to the ben...  ENGLISH  Rock  "
      ]
     },
     "execution_count": 23,
     "metadata": {},
     "output_type": "execute_result"
    }
   ],
   "source": [
    "merged_genre_df.head()"
   ]
  },
  {
   "cell_type": "markdown",
   "id": "06f8d898",
   "metadata": {},
   "source": [
    "Next steps will form final dataset.  Dropping artist name (prevent leakage to target variable 'genre'), link (pointless), language (all the same).  Dropping all genre but Rock, Pop, and Hip Hop.\n",
    "\n",
    "These decisions are result of previous cleaning (with EDA) and pre-processing (with EDA)."
   ]
  },
  {
   "cell_type": "code",
   "execution_count": 24,
   "id": "7a18d665",
   "metadata": {},
   "outputs": [
    {
     "name": "stdout",
     "output_type": "stream",
     "text": [
      "<class 'pandas.core.frame.DataFrame'>\n",
      "Int64Index: 86391 entries, 0 to 86390\n",
      "Data columns (total 6 columns):\n",
      " #   Column       Non-Null Count  Dtype \n",
      "---  ------       --------------  ----- \n",
      " 0   artist_name  86391 non-null  object\n",
      " 1   song_name    86391 non-null  object\n",
      " 2   link         86391 non-null  object\n",
      " 3   lyrics       86391 non-null  object\n",
      " 4   language     86391 non-null  object\n",
      " 5   genre        86391 non-null  object\n",
      "dtypes: object(6)\n",
      "memory usage: 4.6+ MB\n"
     ]
    }
   ],
   "source": [
    "merged_genre_df.info()"
   ]
  },
  {
   "cell_type": "code",
   "execution_count": 25,
   "id": "70590907",
   "metadata": {},
   "outputs": [
    {
     "data": {
      "text/plain": [
       "array(['Rock', 'Pop', 'Hip Hop', 'Sertanejo', 'Samba', 'Funk Carioca'],\n",
       "      dtype=object)"
      ]
     },
     "execution_count": 25,
     "metadata": {},
     "output_type": "execute_result"
    }
   ],
   "source": [
    "merged_genre_df.genre.unique()"
   ]
  },
  {
   "cell_type": "code",
   "execution_count": 26,
   "id": "ffdc57d0",
   "metadata": {},
   "outputs": [
    {
     "data": {
      "text/html": [
       "<div>\n",
       "<style scoped>\n",
       "    .dataframe tbody tr th:only-of-type {\n",
       "        vertical-align: middle;\n",
       "    }\n",
       "\n",
       "    .dataframe tbody tr th {\n",
       "        vertical-align: top;\n",
       "    }\n",
       "\n",
       "    .dataframe thead th {\n",
       "        text-align: right;\n",
       "    }\n",
       "</style>\n",
       "<table border=\"1\" class=\"dataframe\">\n",
       "  <thead>\n",
       "    <tr style=\"text-align: right;\">\n",
       "      <th></th>\n",
       "      <th>artist_name</th>\n",
       "      <th>song_name</th>\n",
       "      <th>link</th>\n",
       "      <th>lyrics</th>\n",
       "      <th>language</th>\n",
       "      <th>genre</th>\n",
       "    </tr>\n",
       "  </thead>\n",
       "  <tbody>\n",
       "    <tr>\n",
       "      <th>count</th>\n",
       "      <td>86391</td>\n",
       "      <td>86391</td>\n",
       "      <td>86391</td>\n",
       "      <td>86391</td>\n",
       "      <td>86391</td>\n",
       "      <td>86391</td>\n",
       "    </tr>\n",
       "    <tr>\n",
       "      <th>unique</th>\n",
       "      <td>1147</td>\n",
       "      <td>66856</td>\n",
       "      <td>86391</td>\n",
       "      <td>86391</td>\n",
       "      <td>1</td>\n",
       "      <td>6</td>\n",
       "    </tr>\n",
       "    <tr>\n",
       "      <th>top</th>\n",
       "      <td>elvis-presley</td>\n",
       "      <td>Intro</td>\n",
       "      <td>/a-ha/dot-the-i.html</td>\n",
       "      <td>Somber sister. This is a strange and bitter fr...</td>\n",
       "      <td>ENGLISH</td>\n",
       "      <td>Rock</td>\n",
       "    </tr>\n",
       "    <tr>\n",
       "      <th>freq</th>\n",
       "      <td>747</td>\n",
       "      <td>50</td>\n",
       "      <td>1</td>\n",
       "      <td>1</td>\n",
       "      <td>86391</td>\n",
       "      <td>47408</td>\n",
       "    </tr>\n",
       "  </tbody>\n",
       "</table>\n",
       "</div>"
      ],
      "text/plain": [
       "          artist_name song_name                  link  \\\n",
       "count           86391     86391                 86391   \n",
       "unique           1147     66856                 86391   \n",
       "top     elvis-presley     Intro  /a-ha/dot-the-i.html   \n",
       "freq              747        50                     1   \n",
       "\n",
       "                                                   lyrics language  genre  \n",
       "count                                               86391    86391  86391  \n",
       "unique                                              86391        1      6  \n",
       "top     Somber sister. This is a strange and bitter fr...  ENGLISH   Rock  \n",
       "freq                                                    1    86391  47408  "
      ]
     },
     "execution_count": 26,
     "metadata": {},
     "output_type": "execute_result"
    }
   ],
   "source": [
    "merged_genre_df.describe(include='all')"
   ]
  },
  {
   "cell_type": "code",
   "execution_count": 27,
   "id": "04622e28",
   "metadata": {},
   "outputs": [],
   "source": [
    "merged_genre_df.drop(['artist_name','link','language'], axis=1, inplace=True)"
   ]
  },
  {
   "cell_type": "code",
   "execution_count": 28,
   "id": "dc566a4a",
   "metadata": {},
   "outputs": [
    {
     "data": {
      "text/html": [
       "<div>\n",
       "<style scoped>\n",
       "    .dataframe tbody tr th:only-of-type {\n",
       "        vertical-align: middle;\n",
       "    }\n",
       "\n",
       "    .dataframe tbody tr th {\n",
       "        vertical-align: top;\n",
       "    }\n",
       "\n",
       "    .dataframe thead th {\n",
       "        text-align: right;\n",
       "    }\n",
       "</style>\n",
       "<table border=\"1\" class=\"dataframe\">\n",
       "  <thead>\n",
       "    <tr style=\"text-align: right;\">\n",
       "      <th></th>\n",
       "      <th>song_name</th>\n",
       "      <th>lyrics</th>\n",
       "      <th>genre</th>\n",
       "    </tr>\n",
       "  </thead>\n",
       "  <tbody>\n",
       "    <tr>\n",
       "      <th>count</th>\n",
       "      <td>86391</td>\n",
       "      <td>86391</td>\n",
       "      <td>86391</td>\n",
       "    </tr>\n",
       "    <tr>\n",
       "      <th>unique</th>\n",
       "      <td>66856</td>\n",
       "      <td>86391</td>\n",
       "      <td>6</td>\n",
       "    </tr>\n",
       "    <tr>\n",
       "      <th>top</th>\n",
       "      <td>Intro</td>\n",
       "      <td>Somber sister. This is a strange and bitter fr...</td>\n",
       "      <td>Rock</td>\n",
       "    </tr>\n",
       "    <tr>\n",
       "      <th>freq</th>\n",
       "      <td>50</td>\n",
       "      <td>1</td>\n",
       "      <td>47408</td>\n",
       "    </tr>\n",
       "  </tbody>\n",
       "</table>\n",
       "</div>"
      ],
      "text/plain": [
       "       song_name                                             lyrics  genre\n",
       "count      86391                                              86391  86391\n",
       "unique     66856                                              86391      6\n",
       "top        Intro  Somber sister. This is a strange and bitter fr...   Rock\n",
       "freq          50                                                  1  47408"
      ]
     },
     "execution_count": 28,
     "metadata": {},
     "output_type": "execute_result"
    }
   ],
   "source": [
    "merged_genre_df.describe(include='all')"
   ]
  },
  {
   "cell_type": "code",
   "execution_count": 29,
   "id": "9048916b",
   "metadata": {},
   "outputs": [
    {
     "name": "stdout",
     "output_type": "stream",
     "text": [
      "<class 'pandas.core.frame.DataFrame'>\n",
      "Int64Index: 86391 entries, 0 to 86390\n",
      "Data columns (total 3 columns):\n",
      " #   Column     Non-Null Count  Dtype \n",
      "---  ------     --------------  ----- \n",
      " 0   song_name  86391 non-null  object\n",
      " 1   lyrics     86391 non-null  object\n",
      " 2   genre      86391 non-null  object\n",
      "dtypes: object(3)\n",
      "memory usage: 2.6+ MB\n"
     ]
    }
   ],
   "source": [
    "merged_genre_df.info()"
   ]
  },
  {
   "cell_type": "code",
   "execution_count": 31,
   "id": "d8badae1",
   "metadata": {},
   "outputs": [],
   "source": [
    "# Two additional cleanups.  Found during further EDA.  Remove tiny genres, remove three\n",
    "#songs that have NaN lyrics.\n",
    "\n",
    "merged_genre_df.drop(merged_genre_df[merged_genre_df['genre']=='Samba'].index, inplace = True)\n",
    "merged_genre_df.drop(merged_genre_df[merged_genre_df['genre']=='Sertanejo'].index, inplace = True)\n",
    "merged_genre_df.drop(merged_genre_df[merged_genre_df['genre']=='Funk Carioca'].index, inplace = True)\n",
    "\n",
    "merged_genre_df = merged_genre_df.dropna(axis=0, subset=['lyrics'])"
   ]
  },
  {
   "cell_type": "code",
   "execution_count": 32,
   "id": "2352ffee",
   "metadata": {
    "scrolled": true
   },
   "outputs": [
    {
     "name": "stdout",
     "output_type": "stream",
     "text": [
      "<class 'pandas.core.frame.DataFrame'>\n",
      "Int64Index: 86294 entries, 0 to 86310\n",
      "Data columns (total 3 columns):\n",
      " #   Column     Non-Null Count  Dtype \n",
      "---  ------     --------------  ----- \n",
      " 0   song_name  86294 non-null  object\n",
      " 1   lyrics     86294 non-null  object\n",
      " 2   genre      86294 non-null  object\n",
      "dtypes: object(3)\n",
      "memory usage: 2.6+ MB\n"
     ]
    }
   ],
   "source": [
    "merged_genre_df.info()"
   ]
  },
  {
   "cell_type": "code",
   "execution_count": 34,
   "id": "8f2b4670",
   "metadata": {
    "scrolled": false
   },
   "outputs": [
    {
     "data": {
      "text/html": [
       "<div>\n",
       "<style scoped>\n",
       "    .dataframe tbody tr th:only-of-type {\n",
       "        vertical-align: middle;\n",
       "    }\n",
       "\n",
       "    .dataframe tbody tr th {\n",
       "        vertical-align: top;\n",
       "    }\n",
       "\n",
       "    .dataframe thead th {\n",
       "        text-align: right;\n",
       "    }\n",
       "</style>\n",
       "<table border=\"1\" class=\"dataframe\">\n",
       "  <thead>\n",
       "    <tr style=\"text-align: right;\">\n",
       "      <th></th>\n",
       "      <th>song_name</th>\n",
       "      <th>lyrics</th>\n",
       "      <th>genre</th>\n",
       "    </tr>\n",
       "  </thead>\n",
       "  <tbody>\n",
       "    <tr>\n",
       "      <th>count</th>\n",
       "      <td>86294</td>\n",
       "      <td>86294</td>\n",
       "      <td>86294</td>\n",
       "    </tr>\n",
       "    <tr>\n",
       "      <th>unique</th>\n",
       "      <td>66802</td>\n",
       "      <td>86294</td>\n",
       "      <td>3</td>\n",
       "    </tr>\n",
       "    <tr>\n",
       "      <th>top</th>\n",
       "      <td>Intro</td>\n",
       "      <td>Somber sister. This is a strange and bitter fr...</td>\n",
       "      <td>Rock</td>\n",
       "    </tr>\n",
       "    <tr>\n",
       "      <th>freq</th>\n",
       "      <td>50</td>\n",
       "      <td>1</td>\n",
       "      <td>47408</td>\n",
       "    </tr>\n",
       "  </tbody>\n",
       "</table>\n",
       "</div>"
      ],
      "text/plain": [
       "       song_name                                             lyrics  genre\n",
       "count      86294                                              86294  86294\n",
       "unique     66802                                              86294      3\n",
       "top        Intro  Somber sister. This is a strange and bitter fr...   Rock\n",
       "freq          50                                                  1  47408"
      ]
     },
     "execution_count": 34,
     "metadata": {},
     "output_type": "execute_result"
    }
   ],
   "source": [
    "merged_genre_df.describe(include='all')"
   ]
  },
  {
   "cell_type": "code",
   "execution_count": 35,
   "id": "984bb540",
   "metadata": {},
   "outputs": [
    {
     "data": {
      "text/plain": [
       "array(['Rock', 'Pop', 'Hip Hop'], dtype=object)"
      ]
     },
     "execution_count": 35,
     "metadata": {},
     "output_type": "execute_result"
    }
   ],
   "source": [
    "merged_genre_df.genre.unique()"
   ]
  },
  {
   "cell_type": "code",
   "execution_count": 45,
   "id": "a011a511",
   "metadata": {},
   "outputs": [],
   "source": [
    "merged_genre_df.to_csv('g_df')"
   ]
  },
  {
   "cell_type": "code",
   "execution_count": 46,
   "id": "00fe641b",
   "metadata": {},
   "outputs": [
    {
     "data": {
      "text/html": [
       "<div>\n",
       "<style scoped>\n",
       "    .dataframe tbody tr th:only-of-type {\n",
       "        vertical-align: middle;\n",
       "    }\n",
       "\n",
       "    .dataframe tbody tr th {\n",
       "        vertical-align: top;\n",
       "    }\n",
       "\n",
       "    .dataframe thead th {\n",
       "        text-align: right;\n",
       "    }\n",
       "</style>\n",
       "<table border=\"1\" class=\"dataframe\">\n",
       "  <thead>\n",
       "    <tr style=\"text-align: right;\">\n",
       "      <th></th>\n",
       "      <th>song_name</th>\n",
       "      <th>lyrics</th>\n",
       "      <th>genre</th>\n",
       "    </tr>\n",
       "  </thead>\n",
       "  <tbody>\n",
       "    <tr>\n",
       "      <th>0</th>\n",
       "      <td>More Than This</td>\n",
       "      <td>I could feel at the time. There was no way of ...</td>\n",
       "      <td>Rock</td>\n",
       "    </tr>\n",
       "    <tr>\n",
       "      <th>1</th>\n",
       "      <td>Because The Night</td>\n",
       "      <td>Take me now, baby, here as I am. Hold me close...</td>\n",
       "      <td>Rock</td>\n",
       "    </tr>\n",
       "    <tr>\n",
       "      <th>2</th>\n",
       "      <td>These Are Days</td>\n",
       "      <td>These are. These are days you'll remember. Nev...</td>\n",
       "      <td>Rock</td>\n",
       "    </tr>\n",
       "    <tr>\n",
       "      <th>3</th>\n",
       "      <td>A Campfire Song</td>\n",
       "      <td>A lie to say, \"O my mountain has coal veins an...</td>\n",
       "      <td>Rock</td>\n",
       "    </tr>\n",
       "    <tr>\n",
       "      <th>4</th>\n",
       "      <td>Everyday Is Like Sunday</td>\n",
       "      <td>Trudging slowly over wet sand. Back to the ben...</td>\n",
       "      <td>Rock</td>\n",
       "    </tr>\n",
       "    <tr>\n",
       "      <th>...</th>\n",
       "      <td>...</td>\n",
       "      <td>...</td>\n",
       "      <td>...</td>\n",
       "    </tr>\n",
       "    <tr>\n",
       "      <th>86306</th>\n",
       "      <td>Smile</td>\n",
       "      <td>Smile though your heart. Is aching. Smile even...</td>\n",
       "      <td>Pop</td>\n",
       "    </tr>\n",
       "    <tr>\n",
       "      <th>86307</th>\n",
       "      <td>Something To Dance For</td>\n",
       "      <td>A dream like this. Not something. You wish for...</td>\n",
       "      <td>Pop</td>\n",
       "    </tr>\n",
       "    <tr>\n",
       "      <th>86308</th>\n",
       "      <td>The Same Heart</td>\n",
       "      <td>Aah, yeah yeah. I see the spotlight in my drea...</td>\n",
       "      <td>Pop</td>\n",
       "    </tr>\n",
       "    <tr>\n",
       "      <th>86309</th>\n",
       "      <td>White Christmas</td>\n",
       "      <td>I'm, dreaming of a white, Christmas. Just like...</td>\n",
       "      <td>Pop</td>\n",
       "    </tr>\n",
       "    <tr>\n",
       "      <th>86310</th>\n",
       "      <td>Whodunit</td>\n",
       "      <td>Ha, a-plus on the track. Ha, ha, ha, uh, yeah....</td>\n",
       "      <td>Pop</td>\n",
       "    </tr>\n",
       "  </tbody>\n",
       "</table>\n",
       "<p>86294 rows × 3 columns</p>\n",
       "</div>"
      ],
      "text/plain": [
       "                     song_name  \\\n",
       "0               More Than This   \n",
       "1            Because The Night   \n",
       "2               These Are Days   \n",
       "3              A Campfire Song   \n",
       "4      Everyday Is Like Sunday   \n",
       "...                        ...   \n",
       "86306                    Smile   \n",
       "86307   Something To Dance For   \n",
       "86308           The Same Heart   \n",
       "86309          White Christmas   \n",
       "86310                 Whodunit   \n",
       "\n",
       "                                                  lyrics genre  \n",
       "0      I could feel at the time. There was no way of ...  Rock  \n",
       "1      Take me now, baby, here as I am. Hold me close...  Rock  \n",
       "2      These are. These are days you'll remember. Nev...  Rock  \n",
       "3      A lie to say, \"O my mountain has coal veins an...  Rock  \n",
       "4      Trudging slowly over wet sand. Back to the ben...  Rock  \n",
       "...                                                  ...   ...  \n",
       "86306  Smile though your heart. Is aching. Smile even...   Pop  \n",
       "86307  A dream like this. Not something. You wish for...   Pop  \n",
       "86308  Aah, yeah yeah. I see the spotlight in my drea...   Pop  \n",
       "86309  I'm, dreaming of a white, Christmas. Just like...   Pop  \n",
       "86310  Ha, a-plus on the track. Ha, ha, ha, uh, yeah....   Pop  \n",
       "\n",
       "[86294 rows x 3 columns]"
      ]
     },
     "execution_count": 46,
     "metadata": {},
     "output_type": "execute_result"
    }
   ],
   "source": [
    "g_df"
   ]
  },
  {
   "cell_type": "code",
   "execution_count": 50,
   "id": "bc88629f",
   "metadata": {
    "scrolled": true
   },
   "outputs": [
    {
     "data": {
      "text/plain": [
       "'https://music-lyrics-chain.s3.amazonaws.com/g_df'"
      ]
     },
     "execution_count": 50,
     "metadata": {},
     "output_type": "execute_result"
    }
   ],
   "source": [
    "upload_file_to_bucket('music-lyrics-chain','g_df')"
   ]
  },
  {
   "cell_type": "code",
   "execution_count": 51,
   "id": "fdf72db2",
   "metadata": {},
   "outputs": [],
   "source": [
    "gg_df = pd.read_csv('s3://music-lyrics-chain/g_df')"
   ]
  },
  {
   "cell_type": "code",
   "execution_count": 52,
   "id": "b0fc669b",
   "metadata": {},
   "outputs": [
    {
     "data": {
      "text/html": [
       "<div>\n",
       "<style scoped>\n",
       "    .dataframe tbody tr th:only-of-type {\n",
       "        vertical-align: middle;\n",
       "    }\n",
       "\n",
       "    .dataframe tbody tr th {\n",
       "        vertical-align: top;\n",
       "    }\n",
       "\n",
       "    .dataframe thead th {\n",
       "        text-align: right;\n",
       "    }\n",
       "</style>\n",
       "<table border=\"1\" class=\"dataframe\">\n",
       "  <thead>\n",
       "    <tr style=\"text-align: right;\">\n",
       "      <th></th>\n",
       "      <th>Unnamed: 0</th>\n",
       "      <th>song_name</th>\n",
       "      <th>lyrics</th>\n",
       "      <th>genre</th>\n",
       "    </tr>\n",
       "  </thead>\n",
       "  <tbody>\n",
       "    <tr>\n",
       "      <th>0</th>\n",
       "      <td>0</td>\n",
       "      <td>More Than This</td>\n",
       "      <td>I could feel at the time. There was no way of ...</td>\n",
       "      <td>Rock</td>\n",
       "    </tr>\n",
       "    <tr>\n",
       "      <th>1</th>\n",
       "      <td>1</td>\n",
       "      <td>Because The Night</td>\n",
       "      <td>Take me now, baby, here as I am. Hold me close...</td>\n",
       "      <td>Rock</td>\n",
       "    </tr>\n",
       "    <tr>\n",
       "      <th>2</th>\n",
       "      <td>2</td>\n",
       "      <td>These Are Days</td>\n",
       "      <td>These are. These are days you'll remember. Nev...</td>\n",
       "      <td>Rock</td>\n",
       "    </tr>\n",
       "    <tr>\n",
       "      <th>3</th>\n",
       "      <td>3</td>\n",
       "      <td>A Campfire Song</td>\n",
       "      <td>A lie to say, \"O my mountain has coal veins an...</td>\n",
       "      <td>Rock</td>\n",
       "    </tr>\n",
       "    <tr>\n",
       "      <th>4</th>\n",
       "      <td>4</td>\n",
       "      <td>Everyday Is Like Sunday</td>\n",
       "      <td>Trudging slowly over wet sand. Back to the ben...</td>\n",
       "      <td>Rock</td>\n",
       "    </tr>\n",
       "    <tr>\n",
       "      <th>...</th>\n",
       "      <td>...</td>\n",
       "      <td>...</td>\n",
       "      <td>...</td>\n",
       "      <td>...</td>\n",
       "    </tr>\n",
       "    <tr>\n",
       "      <th>86289</th>\n",
       "      <td>86306</td>\n",
       "      <td>Smile</td>\n",
       "      <td>Smile though your heart. Is aching. Smile even...</td>\n",
       "      <td>Pop</td>\n",
       "    </tr>\n",
       "    <tr>\n",
       "      <th>86290</th>\n",
       "      <td>86307</td>\n",
       "      <td>Something To Dance For</td>\n",
       "      <td>A dream like this. Not something. You wish for...</td>\n",
       "      <td>Pop</td>\n",
       "    </tr>\n",
       "    <tr>\n",
       "      <th>86291</th>\n",
       "      <td>86308</td>\n",
       "      <td>The Same Heart</td>\n",
       "      <td>Aah, yeah yeah. I see the spotlight in my drea...</td>\n",
       "      <td>Pop</td>\n",
       "    </tr>\n",
       "    <tr>\n",
       "      <th>86292</th>\n",
       "      <td>86309</td>\n",
       "      <td>White Christmas</td>\n",
       "      <td>I'm, dreaming of a white, Christmas. Just like...</td>\n",
       "      <td>Pop</td>\n",
       "    </tr>\n",
       "    <tr>\n",
       "      <th>86293</th>\n",
       "      <td>86310</td>\n",
       "      <td>Whodunit</td>\n",
       "      <td>Ha, a-plus on the track. Ha, ha, ha, uh, yeah....</td>\n",
       "      <td>Pop</td>\n",
       "    </tr>\n",
       "  </tbody>\n",
       "</table>\n",
       "<p>86294 rows × 4 columns</p>\n",
       "</div>"
      ],
      "text/plain": [
       "       Unnamed: 0                song_name  \\\n",
       "0               0           More Than This   \n",
       "1               1        Because The Night   \n",
       "2               2           These Are Days   \n",
       "3               3          A Campfire Song   \n",
       "4               4  Everyday Is Like Sunday   \n",
       "...           ...                      ...   \n",
       "86289       86306                    Smile   \n",
       "86290       86307   Something To Dance For   \n",
       "86291       86308           The Same Heart   \n",
       "86292       86309          White Christmas   \n",
       "86293       86310                 Whodunit   \n",
       "\n",
       "                                                  lyrics genre  \n",
       "0      I could feel at the time. There was no way of ...  Rock  \n",
       "1      Take me now, baby, here as I am. Hold me close...  Rock  \n",
       "2      These are. These are days you'll remember. Nev...  Rock  \n",
       "3      A lie to say, \"O my mountain has coal veins an...  Rock  \n",
       "4      Trudging slowly over wet sand. Back to the ben...  Rock  \n",
       "...                                                  ...   ...  \n",
       "86289  Smile though your heart. Is aching. Smile even...   Pop  \n",
       "86290  A dream like this. Not something. You wish for...   Pop  \n",
       "86291  Aah, yeah yeah. I see the spotlight in my drea...   Pop  \n",
       "86292  I'm, dreaming of a white, Christmas. Just like...   Pop  \n",
       "86293  Ha, a-plus on the track. Ha, ha, ha, uh, yeah....   Pop  \n",
       "\n",
       "[86294 rows x 4 columns]"
      ]
     },
     "execution_count": 52,
     "metadata": {},
     "output_type": "execute_result"
    }
   ],
   "source": [
    "gg_df"
   ]
  },
  {
   "cell_type": "code",
   "execution_count": 53,
   "id": "76dce0d3",
   "metadata": {},
   "outputs": [
    {
     "data": {
      "text/plain": [
       "pandas.core.frame.DataFrame"
      ]
     },
     "execution_count": 53,
     "metadata": {},
     "output_type": "execute_result"
    }
   ],
   "source": [
    "type(gg_df)"
   ]
  },
  {
   "cell_type": "code",
   "execution_count": 54,
   "id": "bfe2a69c",
   "metadata": {},
   "outputs": [
    {
     "name": "stdout",
     "output_type": "stream",
     "text": [
      "<class 'pandas.core.frame.DataFrame'>\n",
      "RangeIndex: 86294 entries, 0 to 86293\n",
      "Data columns (total 4 columns):\n",
      " #   Column      Non-Null Count  Dtype \n",
      "---  ------      --------------  ----- \n",
      " 0   Unnamed: 0  86294 non-null  int64 \n",
      " 1   song_name   86294 non-null  object\n",
      " 2   lyrics      86294 non-null  object\n",
      " 3   genre       86294 non-null  object\n",
      "dtypes: int64(1), object(3)\n",
      "memory usage: 2.6+ MB\n"
     ]
    }
   ],
   "source": [
    "gg_df.info()"
   ]
  },
  {
   "cell_type": "markdown",
   "id": "c5c42626",
   "metadata": {},
   "source": [
    "In next steps looking to identify the differences in the totals in each genre, divide g_df into a train and test set, and confirm the distribution of genres remains the same."
   ]
  },
  {
   "cell_type": "code",
   "execution_count": 56,
   "id": "84de0653",
   "metadata": {},
   "outputs": [],
   "source": [
    "import os\n",
    "import json\n",
    "import time\n",
    "import pickle\n",
    "import requests\n",
    "import time\n",
    "import warnings\n",
    "import numpy as np\n",
    "import pandas as pd\n",
    "from pandas import plotting\n",
    "import matplotlib.pyplot as plt\n",
    "\n",
    "# Ignore warnings from scikit-learn to make this notebook a bit nicer\n",
    "warnings.simplefilter('ignore')\n",
    "\n",
    "# Models may be implemented as pipelines\n",
    "from sklearn.pipeline import Pipeline\n",
    "\n",
    "# Used to divide our dataseets into train/test splits\n",
    "# Data will be randomly shuffled so running this notebook multiple times may lead to different results\n",
    "from sklearn.model_selection import train_test_split as tts\n",
    "\n",
    "# Visual analysis of model performance\n",
    "from yellowbrick.classifier import confusion_matrix\n",
    "from yellowbrick.classifier import classification_report\n",
    "from yellowbrick.regressor import prediction_error, ResidualsPlot\n",
    "\n",
    "# Set the default figure size for matplotlib\n",
    "plt.rcParams['figure.figsize'] = (9, 6)\n",
    "\n",
    "\n",
    "from sklearn.metrics import f1_score\n",
    "from sklearn.pipeline import Pipeline\n",
    "from sklearn.svm import LinearSVC, NuSVC, SVC\n",
    "from sklearn.neighbors import KNeighborsClassifier\n",
    "from sklearn.preprocessing import OneHotEncoder, LabelEncoder\n",
    "from sklearn.linear_model import LogisticRegressionCV, LogisticRegression, SGDClassifier\n",
    "from sklearn.ensemble import BaggingClassifier, ExtraTreesClassifier, RandomForestClassifier\n",
    "#Pipeline toolset\n",
    "from sklearn.pipeline import Pipeline\n",
    "from sklearn.compose import ColumnTransformer, make_column_selector\n",
    "from sklearn.preprocessing import RobustScaler, OneHotEncoder, OrdinalEncoder, StandardScaler, MinMaxScaler\n",
    "\n",
    "#Model toolset\n",
    "from sklearn.ensemble import RandomForestClassifier\n",
    "from sklearn.ensemble import RandomForestRegressor\n",
    "from sklearn.neighbors import KNeighborsClassifier\n",
    "from sklearn.linear_model import LogisticRegression\n",
    "from sklearn.naive_bayes import MultinomialNB\n",
    "from sklearn.naive_bayes import GaussianNB\n",
    "from sklearn.naive_bayes import BernoulliNB\n",
    "from sklearn.linear_model import Ridge\n",
    "\n",
    "#Evaluation toolset\n",
    "from sklearn.model_selection import StratifiedKFold, cross_val_score\n",
    "from yellowbrick.classifier import ConfusionMatrix\n",
    "from yellowbrick.classifier import ClassificationReport\n",
    "from yellowbrick.features import FeatureImportances\n",
    "\n"
   ]
  },
  {
   "cell_type": "code",
   "execution_count": 59,
   "id": "b82e5bb9",
   "metadata": {},
   "outputs": [
    {
     "data": {
      "text/plain": [
       "Rock       47408\n",
       "Pop        25325\n",
       "Hip Hop    13561\n",
       "Name: genre, dtype: int64"
      ]
     },
     "execution_count": 59,
     "metadata": {},
     "output_type": "execute_result"
    }
   ],
   "source": [
    "g_df.genre.value_counts()"
   ]
  },
  {
   "cell_type": "code",
   "execution_count": 58,
   "id": "5c72ae00",
   "metadata": {
    "scrolled": true
   },
   "outputs": [
    {
     "data": {
      "image/png": "[encoded data removed]",
      "text/plain": [
       "<Figure size 648x432 with 1 Axes>"
      ]
     },
     "metadata": {},
     "output_type": "display_data"
    },
    {
     "data": {
      "text/plain": [
       "<AxesSubplot:title={'center':'Class Balance for 86,294 Instances'}, ylabel='support'>"
      ]
     },
     "execution_count": 58,
     "metadata": {},
     "output_type": "execute_result"
    }
   ],
   "source": [
    "X = g_df.iloc[:,:-1]\n",
    "y = g_df[\"genre\"]\n",
    "\n",
    "#from yellowbrick.datasets import load_game\n",
    "from yellowbrick.target import ClassBalance\n",
    "\n",
    "# Instantiate the visualizer\n",
    "visualizer = ClassBalance(labels=[\"Hip Hop\", \"Pop\", \"Rock\"])\n",
    "\n",
    "visualizer.fit(y)        # Fit the data to the visualizer\n",
    "visualizer.show()        # Finalize and render the figure"
   ]
  },
  {
   "cell_type": "code",
   "execution_count": 61,
   "id": "8f8f68e8",
   "metadata": {},
   "outputs": [],
   "source": [
    "g_train=g_df.sample(frac=0.8,random_state=200) #random state is a seed value\n",
    "g_test=g_df.drop(g_train.index)"
   ]
  },
  {
   "cell_type": "code",
   "execution_count": 62,
   "id": "c188bbe0",
   "metadata": {},
   "outputs": [
    {
     "data": {
      "text/plain": [
       "pandas.core.frame.DataFrame"
      ]
     },
     "execution_count": 62,
     "metadata": {},
     "output_type": "execute_result"
    }
   ],
   "source": [
    "type(g_train)"
   ]
  },
  {
   "cell_type": "code",
   "execution_count": 63,
   "id": "fd42a48f",
   "metadata": {
    "scrolled": true
   },
   "outputs": [
    {
     "data": {
      "text/html": [
       "<div>\n",
       "<style scoped>\n",
       "    .dataframe tbody tr th:only-of-type {\n",
       "        vertical-align: middle;\n",
       "    }\n",
       "\n",
       "    .dataframe tbody tr th {\n",
       "        vertical-align: top;\n",
       "    }\n",
       "\n",
       "    .dataframe thead th {\n",
       "        text-align: right;\n",
       "    }\n",
       "</style>\n",
       "<table border=\"1\" class=\"dataframe\">\n",
       "  <thead>\n",
       "    <tr style=\"text-align: right;\">\n",
       "      <th></th>\n",
       "      <th>song_name</th>\n",
       "      <th>lyrics</th>\n",
       "      <th>genre</th>\n",
       "    </tr>\n",
       "  </thead>\n",
       "  <tbody>\n",
       "    <tr>\n",
       "      <th>81102</th>\n",
       "      <td>Time On My Hands</td>\n",
       "      <td>Seventy, eighty, ninety, party. Seventy, eight...</td>\n",
       "      <td>Pop</td>\n",
       "    </tr>\n",
       "    <tr>\n",
       "      <th>61033</th>\n",
       "      <td>Players</td>\n",
       "      <td>(singing) players. (T3). It's the seven eighty...</td>\n",
       "      <td>Hip Hop</td>\n",
       "    </tr>\n",
       "    <tr>\n",
       "      <th>771</th>\n",
       "      <td>Underground</td>\n",
       "      <td>When you're gone. When you're gone. It's like ...</td>\n",
       "      <td>Pop</td>\n",
       "    </tr>\n",
       "    <tr>\n",
       "      <th>34987</th>\n",
       "      <td>China White</td>\n",
       "      <td>Sometimes it seems the good times. Never will ...</td>\n",
       "      <td>Rock</td>\n",
       "    </tr>\n",
       "    <tr>\n",
       "      <th>75233</th>\n",
       "      <td>Banquet</td>\n",
       "      <td>Come to the dinner gong. The table is laden hi...</td>\n",
       "      <td>Pop</td>\n",
       "    </tr>\n",
       "    <tr>\n",
       "      <th>...</th>\n",
       "      <td>...</td>\n",
       "      <td>...</td>\n",
       "      <td>...</td>\n",
       "    </tr>\n",
       "    <tr>\n",
       "      <th>48980</th>\n",
       "      <td>Going For The One</td>\n",
       "      <td>(Anderson). Get the idea cross around the trac...</td>\n",
       "      <td>Rock</td>\n",
       "    </tr>\n",
       "    <tr>\n",
       "      <th>9458</th>\n",
       "      <td>Waiting For Superman</td>\n",
       "      <td>She's watching the taxi driver, he pulls away....</td>\n",
       "      <td>Rock</td>\n",
       "    </tr>\n",
       "    <tr>\n",
       "      <th>44601</th>\n",
       "      <td>So Sad About Us</td>\n",
       "      <td>La la la la la la la. La la la la la la la. La...</td>\n",
       "      <td>Rock</td>\n",
       "    </tr>\n",
       "    <tr>\n",
       "      <th>71027</th>\n",
       "      <td>3 Letters (Feat. Pitbull)</td>\n",
       "      <td>One love. Enrique Iglesias. Pitbull. I don't c...</td>\n",
       "      <td>Pop</td>\n",
       "    </tr>\n",
       "    <tr>\n",
       "      <th>72262</th>\n",
       "      <td>How Will I Know</td>\n",
       "      <td>There's a boy I know, he's the one I dream of....</td>\n",
       "      <td>Pop</td>\n",
       "    </tr>\n",
       "  </tbody>\n",
       "</table>\n",
       "<p>69035 rows × 3 columns</p>\n",
       "</div>"
      ],
      "text/plain": [
       "                       song_name  \\\n",
       "81102           Time On My Hands   \n",
       "61033                    Players   \n",
       "771                  Underground   \n",
       "34987                China White   \n",
       "75233                    Banquet   \n",
       "...                          ...   \n",
       "48980          Going For The One   \n",
       "9458        Waiting For Superman   \n",
       "44601            So Sad About Us   \n",
       "71027  3 Letters (Feat. Pitbull)   \n",
       "72262            How Will I Know   \n",
       "\n",
       "                                                  lyrics    genre  \n",
       "81102  Seventy, eighty, ninety, party. Seventy, eight...      Pop  \n",
       "61033  (singing) players. (T3). It's the seven eighty...  Hip Hop  \n",
       "771    When you're gone. When you're gone. It's like ...      Pop  \n",
       "34987  Sometimes it seems the good times. Never will ...     Rock  \n",
       "75233  Come to the dinner gong. The table is laden hi...      Pop  \n",
       "...                                                  ...      ...  \n",
       "48980  (Anderson). Get the idea cross around the trac...     Rock  \n",
       "9458   She's watching the taxi driver, he pulls away....     Rock  \n",
       "44601  La la la la la la la. La la la la la la la. La...     Rock  \n",
       "71027  One love. Enrique Iglesias. Pitbull. I don't c...      Pop  \n",
       "72262  There's a boy I know, he's the one I dream of....      Pop  \n",
       "\n",
       "[69035 rows x 3 columns]"
      ]
     },
     "execution_count": 63,
     "metadata": {},
     "output_type": "execute_result"
    }
   ],
   "source": [
    "g_train"
   ]
  },
  {
   "cell_type": "code",
   "execution_count": 64,
   "id": "a001a84c",
   "metadata": {},
   "outputs": [
    {
     "data": {
      "text/html": [
       "<div>\n",
       "<style scoped>\n",
       "    .dataframe tbody tr th:only-of-type {\n",
       "        vertical-align: middle;\n",
       "    }\n",
       "\n",
       "    .dataframe tbody tr th {\n",
       "        vertical-align: top;\n",
       "    }\n",
       "\n",
       "    .dataframe thead th {\n",
       "        text-align: right;\n",
       "    }\n",
       "</style>\n",
       "<table border=\"1\" class=\"dataframe\">\n",
       "  <thead>\n",
       "    <tr style=\"text-align: right;\">\n",
       "      <th></th>\n",
       "      <th>song_name</th>\n",
       "      <th>lyrics</th>\n",
       "      <th>genre</th>\n",
       "    </tr>\n",
       "  </thead>\n",
       "  <tbody>\n",
       "    <tr>\n",
       "      <th>count</th>\n",
       "      <td>69035</td>\n",
       "      <td>69035</td>\n",
       "      <td>69035</td>\n",
       "    </tr>\n",
       "    <tr>\n",
       "      <th>unique</th>\n",
       "      <td>54882</td>\n",
       "      <td>69035</td>\n",
       "      <td>3</td>\n",
       "    </tr>\n",
       "    <tr>\n",
       "      <th>top</th>\n",
       "      <td>Intro</td>\n",
       "      <td>Somber sister. This is a strange and bitter fr...</td>\n",
       "      <td>Rock</td>\n",
       "    </tr>\n",
       "    <tr>\n",
       "      <th>freq</th>\n",
       "      <td>43</td>\n",
       "      <td>1</td>\n",
       "      <td>37883</td>\n",
       "    </tr>\n",
       "  </tbody>\n",
       "</table>\n",
       "</div>"
      ],
      "text/plain": [
       "       song_name                                             lyrics  genre\n",
       "count      69035                                              69035  69035\n",
       "unique     54882                                              69035      3\n",
       "top        Intro  Somber sister. This is a strange and bitter fr...   Rock\n",
       "freq          43                                                  1  37883"
      ]
     },
     "execution_count": 64,
     "metadata": {},
     "output_type": "execute_result"
    }
   ],
   "source": [
    "g_train.describe(include='all')"
   ]
  },
  {
   "cell_type": "code",
   "execution_count": 66,
   "id": "b0ce365c",
   "metadata": {
    "scrolled": true
   },
   "outputs": [
    {
     "data": {
      "text/plain": [
       "Rock       37883\n",
       "Pop        20292\n",
       "Hip Hop    10860\n",
       "Name: genre, dtype: int64"
      ]
     },
     "execution_count": 66,
     "metadata": {},
     "output_type": "execute_result"
    }
   ],
   "source": [
    "g_train.genre.value_counts()"
   ]
  },
  {
   "cell_type": "markdown",
   "id": "a31516f9",
   "metadata": {},
   "source": [
    "Percentages look good.  Same as total set: 55%, 29%, 15%."
   ]
  },
  {
   "cell_type": "code",
   "execution_count": 71,
   "id": "8d65cb85",
   "metadata": {},
   "outputs": [
    {
     "data": {
      "image/png": "[encoded data removed]",
      "text/plain": [
       "<Figure size 648x432 with 1 Axes>"
      ]
     },
     "metadata": {},
     "output_type": "display_data"
    },
    {
     "data": {
      "text/plain": [
       "<AxesSubplot:title={'center':'Class Balance for 69,035 Instances'}, ylabel='support'>"
      ]
     },
     "execution_count": 71,
     "metadata": {},
     "output_type": "execute_result"
    }
   ],
   "source": [
    "X = g_train.iloc[:,:-1]\n",
    "y = g_train[\"genre\"]\n",
    "\n",
    "visualizer = ClassBalance(labels=[\"Hip Hop\", \"Pop\", \"Rock\"])\n",
    "\n",
    "visualizer.fit(y)        \n",
    "visualizer.show()        "
   ]
  },
  {
   "cell_type": "code",
   "execution_count": 68,
   "id": "1a0a0453",
   "metadata": {},
   "outputs": [
    {
     "data": {
      "text/html": [
       "<div>\n",
       "<style scoped>\n",
       "    .dataframe tbody tr th:only-of-type {\n",
       "        vertical-align: middle;\n",
       "    }\n",
       "\n",
       "    .dataframe tbody tr th {\n",
       "        vertical-align: top;\n",
       "    }\n",
       "\n",
       "    .dataframe thead th {\n",
       "        text-align: right;\n",
       "    }\n",
       "</style>\n",
       "<table border=\"1\" class=\"dataframe\">\n",
       "  <thead>\n",
       "    <tr style=\"text-align: right;\">\n",
       "      <th></th>\n",
       "      <th>song_name</th>\n",
       "      <th>lyrics</th>\n",
       "      <th>genre</th>\n",
       "    </tr>\n",
       "  </thead>\n",
       "  <tbody>\n",
       "    <tr>\n",
       "      <th>count</th>\n",
       "      <td>17259</td>\n",
       "      <td>17259</td>\n",
       "      <td>17259</td>\n",
       "    </tr>\n",
       "    <tr>\n",
       "      <th>unique</th>\n",
       "      <td>15648</td>\n",
       "      <td>17259</td>\n",
       "      <td>3</td>\n",
       "    </tr>\n",
       "    <tr>\n",
       "      <th>top</th>\n",
       "      <td>Crazy</td>\n",
       "      <td>Our revels now are ended. We were actors?. We ...</td>\n",
       "      <td>Rock</td>\n",
       "    </tr>\n",
       "    <tr>\n",
       "      <th>freq</th>\n",
       "      <td>10</td>\n",
       "      <td>1</td>\n",
       "      <td>9525</td>\n",
       "    </tr>\n",
       "  </tbody>\n",
       "</table>\n",
       "</div>"
      ],
      "text/plain": [
       "       song_name                                             lyrics  genre\n",
       "count      17259                                              17259  17259\n",
       "unique     15648                                              17259      3\n",
       "top        Crazy  Our revels now are ended. We were actors?. We ...   Rock\n",
       "freq          10                                                  1   9525"
      ]
     },
     "execution_count": 68,
     "metadata": {},
     "output_type": "execute_result"
    }
   ],
   "source": [
    "g_test.describe(include='all')"
   ]
  },
  {
   "cell_type": "code",
   "execution_count": 70,
   "id": "83a030c3",
   "metadata": {},
   "outputs": [
    {
     "data": {
      "text/plain": [
       "Rock       9525\n",
       "Pop        5033\n",
       "Hip Hop    2701\n",
       "Name: genre, dtype: int64"
      ]
     },
     "execution_count": 70,
     "metadata": {},
     "output_type": "execute_result"
    }
   ],
   "source": [
    "g_test.genre.value_counts()"
   ]
  },
  {
   "cell_type": "code",
   "execution_count": 72,
   "id": "62ecefa5",
   "metadata": {
    "scrolled": true
   },
   "outputs": [
    {
     "data": {
      "image/png": "[encoded data removed]",
      "text/plain": [
       "<Figure size 648x432 with 1 Axes>"
      ]
     },
     "metadata": {},
     "output_type": "display_data"
    },
    {
     "data": {
      "text/plain": [
       "<AxesSubplot:title={'center':'Class Balance for 17,259 Instances'}, ylabel='support'>"
      ]
     },
     "execution_count": 72,
     "metadata": {},
     "output_type": "execute_result"
    }
   ],
   "source": [
    "X = g_test.iloc[:,:-1]\n",
    "y = g_test[\"genre\"]\n",
    "\n",
    "visualizer = ClassBalance(labels=[\"Hip Hop\", \"Pop\", \"Rock\"])\n",
    "\n",
    "visualizer.fit(y)        \n",
    "visualizer.show() "
   ]
  },
  {
   "cell_type": "code",
   "execution_count": 74,
   "id": "11bc32ea",
   "metadata": {},
   "outputs": [
    {
     "data": {
      "text/plain": [
       "'https://music-lyrics-chain.s3.amazonaws.com/g_test'"
      ]
     },
     "execution_count": 74,
     "metadata": {},
     "output_type": "execute_result"
    }
   ],
   "source": [
    "g_train.to_csv('g_train')\n",
    "g_test.to_csv('g_test')\n",
    "\n",
    "\n",
    "upload_file_to_bucket('music-lyrics-chain','g_train')\n",
    "upload_file_to_bucket('music-lyrics-chain','g_test')"
   ]
  }
 ],
 "metadata": {
  "kernelspec": {
   "display_name": "Python 3",
   "language": "python",
   "name": "python3"
  },
  "language_info": {
   "codemirror_mode": {
    "name": "ipython",
    "version": 3
   },
   "file_extension": ".py",
   "mimetype": "text/x-python",
   "name": "python",
   "nbconvert_exporter": "python",
   "pygments_lexer": "ipython3",
   "version": "3.9.2"
  }
 },
 "nbformat": 4,
 "nbformat_minor": 5
}
