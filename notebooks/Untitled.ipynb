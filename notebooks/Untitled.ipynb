{
 "cells": [
  {
   "cell_type": "code",
   "execution_count": 1,
   "metadata": {},
   "outputs": [],
   "source": [
    "import numpy as np\n",
    "import pandas as pd"
   ]
  },
  {
   "cell_type": "code",
   "execution_count": 14,
   "metadata": {},
   "outputs": [
    {
     "name": "stdout",
     "output_type": "stream",
     "text": [
      "/Users/Gretzky/desktop/ds@gt/capstone/music_analysis/notebooks\r\n"
     ]
    }
   ],
   "source": [
    "!pwd"
   ]
  },
  {
   "cell_type": "markdown",
   "metadata": {},
   "source": [
    "df = pd.read_csv(\"../../lyric_datasets/lyrics_25k.csv\")"
   ]
  },
  {
   "cell_type": "code",
   "execution_count": 23,
   "metadata": {},
   "outputs": [
    {
     "data": {
      "text/plain": [
       "(25742, 5)"
      ]
     },
     "execution_count": 23,
     "metadata": {},
     "output_type": "execute_result"
    }
   ],
   "source": [
    "df.shape"
   ]
  },
  {
   "cell_type": "code",
   "execution_count": 24,
   "metadata": {},
   "outputs": [
    {
     "data": {
      "text/plain": [
       "128710"
      ]
     },
     "execution_count": 24,
     "metadata": {},
     "output_type": "execute_result"
    }
   ],
   "source": [
    "df.size"
   ]
  },
  {
   "cell_type": "code",
   "execution_count": 31,
   "metadata": {},
   "outputs": [
    {
     "data": {
      "text/plain": [
       "Unnamed: 0     int64\n",
       "link          object\n",
       "artist        object\n",
       "song_name     object\n",
       "lyrics        object\n",
       "dtype: object"
      ]
     },
     "execution_count": 31,
     "metadata": {},
     "output_type": "execute_result"
    }
   ],
   "source": [
    "df.dtypes"
   ]
  },
  {
   "cell_type": "code",
   "execution_count": 33,
   "metadata": {},
   "outputs": [
    {
     "data": {
      "text/plain": [
       "<bound method NDFrame.head of        Unnamed: 0                                               link  \\\n",
       "0               0     ../lyrics/backstreetboys/climbingthewalls.html   \n",
       "1               1           ../lyrics/westlife/howtobreakaheart.html   \n",
       "2               2                    ../lyrics/deanmartin/iwill.html   \n",
       "3               3      ../lyrics/deanmartin/tellyourmotherhello.html   \n",
       "4               4           ../lyrics/deanmartin/behonestwithme.html   \n",
       "...           ...                                                ...   \n",
       "25737       25737               ../lyrics/jasonmraz/whatmamasay.html   \n",
       "25738       25738  https://www.azlyrics.com/lyrics/gesaffelstein/...   \n",
       "25739       25739             ../lyrics/jasonmraz/aworldwithyou.html   \n",
       "25740       25740                ../lyrics/jasonmraz/loveisreal.html   \n",
       "25741       25741                   ../lyrics/jasonmraz/gypsymc.html   \n",
       "\n",
       "                       artist               song_name  \\\n",
       "0      Backstreet Boys Lyrics      Climbing The Walls   \n",
       "1             Westlife Lyrics    How To Break A Heart   \n",
       "2          Dean Martin Lyrics                  I Will   \n",
       "3          Dean Martin Lyrics  Tell Your Mother Hello   \n",
       "4          Dean Martin Lyrics       Be Honest With Me   \n",
       "...                       ...                     ...   \n",
       "25737       Jason Mraz Lyrics           What Mama Say   \n",
       "25738    Gesaffelstein Lyrics               Blast Off   \n",
       "25739       Jason Mraz Lyrics        A World With You   \n",
       "25740       Jason Mraz Lyrics            Love Is Real   \n",
       "25741       Jason Mraz Lyrics                Gypsy MC   \n",
       "\n",
       "                                                  lyrics  \n",
       "0      \\n\\n[Brian:]\\nClose your eyes, make a wish\\nTh...  \n",
       "1      \\n\\r\\nSince you're not worth my love\\nI haven'...  \n",
       "2      \\n\\r\\nI don't want to be the one to say I'm go...  \n",
       "3      \\n\\r\\nSure I loved the dear money that shines ...  \n",
       "4      \\n\\r\\nBe honest with me dear whatever you do\\n...  \n",
       "...                                                  ...  \n",
       "25737  \\n\\r\\n(La la da da da da...)\\n\\nWhatever mama ...  \n",
       "25738  \\n\\r\\nYou've been thinking about this all nigh...  \n",
       "25739  \\n\\r\\nLet's hit the road and throw out the map...  \n",
       "25740  \\n\\r\\nLove is real it is not just in novels or...  \n",
       "25741  \\n\\r\\nI'd like to give a shout out to all the ...  \n",
       "\n",
       "[25742 rows x 5 columns]>"
      ]
     },
     "execution_count": 33,
     "metadata": {},
     "output_type": "execute_result"
    }
   ],
   "source": [
    "df.head"
   ]
  },
  {
   "cell_type": "code",
   "execution_count": 36,
   "metadata": {},
   "outputs": [
    {
     "data": {
      "text/plain": [
       "Index(['Unnamed: 0', 'link', 'artist', 'song_name', 'lyrics'], dtype='object')"
      ]
     },
     "execution_count": 36,
     "metadata": {},
     "output_type": "execute_result"
    }
   ],
   "source": [
    "df.columns"
   ]
  },
  {
   "cell_type": "code",
   "execution_count": 38,
   "metadata": {},
   "outputs": [
    {
     "data": {
      "text/plain": [
       "Unnamed: 0    0\n",
       "link          0\n",
       "artist        0\n",
       "song_name     0\n",
       "lyrics        0\n",
       "dtype: int64"
      ]
     },
     "execution_count": 38,
     "metadata": {},
     "output_type": "execute_result"
    }
   ],
   "source": [
    "df.isnull().sum()"
   ]
  },
  {
   "cell_type": "code",
   "execution_count": 39,
   "metadata": {},
   "outputs": [],
   "source": [
    "df1 = pd.read_csv(\"../../lyric_datasets/genres_lyrics_data.csv\")"
   ]
  },
  {
   "cell_type": "code",
   "execution_count": 40,
   "metadata": {},
   "outputs": [
    {
     "data": {
      "text/plain": [
       "(209522, 5)"
      ]
     },
     "execution_count": 40,
     "metadata": {},
     "output_type": "execute_result"
    }
   ],
   "source": [
    "df1.shape"
   ]
  },
  {
   "cell_type": "code",
   "execution_count": 41,
   "metadata": {},
   "outputs": [
    {
     "data": {
      "text/plain": [
       "Index(['ALink', 'SName', 'SLink', 'Lyric', 'Idiom'], dtype='object')"
      ]
     },
     "execution_count": 41,
     "metadata": {},
     "output_type": "execute_result"
    }
   ],
   "source": [
    "df1.columns"
   ]
  },
  {
   "cell_type": "code",
   "execution_count": 42,
   "metadata": {},
   "outputs": [
    {
     "data": {
      "text/plain": [
       "<bound method NDFrame.head of                    ALink                                   SName  \\\n",
       "0        /10000-maniacs/                          More Than This   \n",
       "1        /10000-maniacs/                       Because The Night   \n",
       "2        /10000-maniacs/                          These Are Days   \n",
       "3        /10000-maniacs/                         A Campfire Song   \n",
       "4        /10000-maniacs/                 Everyday Is Like Sunday   \n",
       "...                  ...                                     ...   \n",
       "209517  /zeca-pagodinho/           Vou Botar Teu Nome Na Macumba   \n",
       "209518  /zeca-pagodinho/                   Vou Procurar Esquecer   \n",
       "209519  /zeca-pagodinho/                         Vou Ver Juliana   \n",
       "209520  /zeca-pagodinho/  Yaô Cadê A Samba / Outro Recado / Hino   \n",
       "209521  /zeca-pagodinho/                        Zeca, Cadê Você?   \n",
       "\n",
       "                                                    SLink  \\\n",
       "0                      /10000-maniacs/more-than-this.html   \n",
       "1                   /10000-maniacs/because-the-night.html   \n",
       "2                      /10000-maniacs/these-are-days.html   \n",
       "3                     /10000-maniacs/a-campfire-song.html   \n",
       "4             /10000-maniacs/everyday-is-like-sunday.html   \n",
       "...                                                   ...   \n",
       "209517  /zeca-pagodinho/vou-botar-teu-nome-na-macumba....   \n",
       "209518         /zeca-pagodinho/vou-procurar-esquecer.html   \n",
       "209519               /zeca-pagodinho/vou-ver-juliana.html   \n",
       "209520  /zeca-pagodinho/yao-cade-a-samba-outro-recado-...   \n",
       "209521                /zeca-pagodinho/zeca-cade-voce.html   \n",
       "\n",
       "                                                    Lyric       Idiom  \n",
       "0       I could feel at the time. There was no way of ...     ENGLISH  \n",
       "1       Take me now, baby, here as I am. Hold me close...     ENGLISH  \n",
       "2       These are. These are days you'll remember. Nev...     ENGLISH  \n",
       "3       A lie to say, \"O my mountain has coal veins an...     ENGLISH  \n",
       "4       Trudging slowly over wet sand. Back to the ben...     ENGLISH  \n",
       "...                                                   ...         ...  \n",
       "209517  Eu vou botar teu nome na macumba. Vou procurar...  PORTUGUESE  \n",
       "209518  Vou procurar um novo amor na minha vida. Porqu...  PORTUGUESE  \n",
       "209519  Quando a mare vazá. Vou vê juliana. Vou vê jul...  PORTUGUESE  \n",
       "209520  Ô Yaô. Yaô, cadê a samba?. Está mangando na cu...  PORTUGUESE  \n",
       "209521  Ô, Zeca, tu tá morando onde?. Ô, Zeca, tu tá m...  PORTUGUESE  \n",
       "\n",
       "[209522 rows x 5 columns]>"
      ]
     },
     "execution_count": 42,
     "metadata": {},
     "output_type": "execute_result"
    }
   ],
   "source": [
    "df1.head"
   ]
  },
  {
   "cell_type": "code",
   "execution_count": 44,
   "metadata": {},
   "outputs": [],
   "source": [
    "df2 = pd.read_csv(\"../../lyric_datasets/genres_artists_data.csv\")"
   ]
  },
  {
   "cell_type": "code",
   "execution_count": null,
   "metadata": {},
   "outputs": [],
   "source": []
  },
  {
   "cell_type": "code",
   "execution_count": 46,
   "metadata": {},
   "outputs": [
    {
     "data": {
      "text/plain": [
       "Artist         object\n",
       "Songs           int64\n",
       "Popularity    float64\n",
       "Link           object\n",
       "Genre          object\n",
       "Genres         object\n",
       "dtype: object"
      ]
     },
     "execution_count": 46,
     "metadata": {},
     "output_type": "execute_result"
    }
   ],
   "source": [
    "df2.dtypes"
   ]
  },
  {
   "cell_type": "code",
   "execution_count": 47,
   "metadata": {},
   "outputs": [
    {
     "data": {
      "text/html": [
       "<div>\n",
       "<style scoped>\n",
       "    .dataframe tbody tr th:only-of-type {\n",
       "        vertical-align: middle;\n",
       "    }\n",
       "\n",
       "    .dataframe tbody tr th {\n",
       "        vertical-align: top;\n",
       "    }\n",
       "\n",
       "    .dataframe thead th {\n",
       "        text-align: right;\n",
       "    }\n",
       "</style>\n",
       "<table border=\"1\" class=\"dataframe\">\n",
       "  <thead>\n",
       "    <tr style=\"text-align: right;\">\n",
       "      <th></th>\n",
       "      <th>Artist</th>\n",
       "      <th>Songs</th>\n",
       "      <th>Popularity</th>\n",
       "      <th>Link</th>\n",
       "      <th>Genre</th>\n",
       "      <th>Genres</th>\n",
       "    </tr>\n",
       "  </thead>\n",
       "  <tbody>\n",
       "    <tr>\n",
       "      <th>0</th>\n",
       "      <td>10000 Maniacs</td>\n",
       "      <td>110</td>\n",
       "      <td>0.3</td>\n",
       "      <td>/10000-maniacs/</td>\n",
       "      <td>Rock</td>\n",
       "      <td>Rock; Pop; Electronica; Dance; J-Pop/J-Rock; G...</td>\n",
       "    </tr>\n",
       "    <tr>\n",
       "      <th>1</th>\n",
       "      <td>12 Stones</td>\n",
       "      <td>75</td>\n",
       "      <td>0.3</td>\n",
       "      <td>/12-stones/</td>\n",
       "      <td>Rock</td>\n",
       "      <td>Rock; Gospel/Religioso; Hard Rock; Grunge; Roc...</td>\n",
       "    </tr>\n",
       "    <tr>\n",
       "      <th>2</th>\n",
       "      <td>311</td>\n",
       "      <td>196</td>\n",
       "      <td>0.5</td>\n",
       "      <td>/311/</td>\n",
       "      <td>Rock</td>\n",
       "      <td>Rock; Surf Music; Reggae; Ska; Pop/Rock; Rock ...</td>\n",
       "    </tr>\n",
       "    <tr>\n",
       "      <th>3</th>\n",
       "      <td>4 Non Blondes</td>\n",
       "      <td>15</td>\n",
       "      <td>7.5</td>\n",
       "      <td>/4-non-blondes/</td>\n",
       "      <td>Rock</td>\n",
       "      <td>Rock; Pop/Rock; Rock Alternativo; Grunge; Blue...</td>\n",
       "    </tr>\n",
       "    <tr>\n",
       "      <th>4</th>\n",
       "      <td>A Cruz Está Vazia</td>\n",
       "      <td>13</td>\n",
       "      <td>0.0</td>\n",
       "      <td>/a-cruz-esta-vazia/</td>\n",
       "      <td>Rock</td>\n",
       "      <td>Rock</td>\n",
       "    </tr>\n",
       "    <tr>\n",
       "      <th>...</th>\n",
       "      <td>...</td>\n",
       "      <td>...</td>\n",
       "      <td>...</td>\n",
       "      <td>...</td>\n",
       "      <td>...</td>\n",
       "      <td>...</td>\n",
       "    </tr>\n",
       "    <tr>\n",
       "      <th>3237</th>\n",
       "      <td>Péricles</td>\n",
       "      <td>102</td>\n",
       "      <td>6.8</td>\n",
       "      <td>/pericles/</td>\n",
       "      <td>Samba</td>\n",
       "      <td>Romântico; Pagode; Samba; Sertanejo; Samba Enr...</td>\n",
       "    </tr>\n",
       "    <tr>\n",
       "      <th>3238</th>\n",
       "      <td>Rodriguinho</td>\n",
       "      <td>106</td>\n",
       "      <td>2.7</td>\n",
       "      <td>/rodriguinho/</td>\n",
       "      <td>Samba</td>\n",
       "      <td>Romântico; Pagode; Samba; Country; Hardcore; T...</td>\n",
       "    </tr>\n",
       "    <tr>\n",
       "      <th>3239</th>\n",
       "      <td>Sambô</td>\n",
       "      <td>71</td>\n",
       "      <td>0.8</td>\n",
       "      <td>/sambo/</td>\n",
       "      <td>Rock</td>\n",
       "      <td>Samba; Pagode; Rock; Pop/Rock; Soul Music; Cla...</td>\n",
       "    </tr>\n",
       "    <tr>\n",
       "      <th>3240</th>\n",
       "      <td>Thiaguinho</td>\n",
       "      <td>143</td>\n",
       "      <td>13.8</td>\n",
       "      <td>/thiaguinho/</td>\n",
       "      <td>Samba</td>\n",
       "      <td>Pagode; Romântico; Samba; Trilha Sonora; Black...</td>\n",
       "    </tr>\n",
       "    <tr>\n",
       "      <th>3241</th>\n",
       "      <td>Turma do Pagode</td>\n",
       "      <td>182</td>\n",
       "      <td>11.7</td>\n",
       "      <td>/turma-do-pagode/</td>\n",
       "      <td>Samba</td>\n",
       "      <td>Romântico; Pagode; Samba; Sertanejo; Funk Cari...</td>\n",
       "    </tr>\n",
       "  </tbody>\n",
       "</table>\n",
       "<p>3242 rows × 6 columns</p>\n",
       "</div>"
      ],
      "text/plain": [
       "                 Artist  Songs  Popularity                 Link  Genre  \\\n",
       "0         10000 Maniacs    110         0.3      /10000-maniacs/   Rock   \n",
       "1             12 Stones     75         0.3          /12-stones/   Rock   \n",
       "2                   311    196         0.5                /311/   Rock   \n",
       "3         4 Non Blondes     15         7.5      /4-non-blondes/   Rock   \n",
       "4     A Cruz Está Vazia     13         0.0  /a-cruz-esta-vazia/   Rock   \n",
       "...                 ...    ...         ...                  ...    ...   \n",
       "3237           Péricles    102         6.8           /pericles/  Samba   \n",
       "3238        Rodriguinho    106         2.7        /rodriguinho/  Samba   \n",
       "3239              Sambô     71         0.8              /sambo/   Rock   \n",
       "3240         Thiaguinho    143        13.8         /thiaguinho/  Samba   \n",
       "3241    Turma do Pagode    182        11.7    /turma-do-pagode/  Samba   \n",
       "\n",
       "                                                 Genres  \n",
       "0     Rock; Pop; Electronica; Dance; J-Pop/J-Rock; G...  \n",
       "1     Rock; Gospel/Religioso; Hard Rock; Grunge; Roc...  \n",
       "2     Rock; Surf Music; Reggae; Ska; Pop/Rock; Rock ...  \n",
       "3     Rock; Pop/Rock; Rock Alternativo; Grunge; Blue...  \n",
       "4                                                  Rock  \n",
       "...                                                 ...  \n",
       "3237  Romântico; Pagode; Samba; Sertanejo; Samba Enr...  \n",
       "3238  Romântico; Pagode; Samba; Country; Hardcore; T...  \n",
       "3239  Samba; Pagode; Rock; Pop/Rock; Soul Music; Cla...  \n",
       "3240  Pagode; Romântico; Samba; Trilha Sonora; Black...  \n",
       "3241  Romântico; Pagode; Samba; Sertanejo; Funk Cari...  \n",
       "\n",
       "[3242 rows x 6 columns]"
      ]
     },
     "execution_count": 47,
     "metadata": {},
     "output_type": "execute_result"
    }
   ],
   "source": [
    "df2"
   ]
  },
  {
   "cell_type": "code",
   "execution_count": 48,
   "metadata": {},
   "outputs": [
    {
     "data": {
      "text/html": [
       "<div>\n",
       "<style scoped>\n",
       "    .dataframe tbody tr th:only-of-type {\n",
       "        vertical-align: middle;\n",
       "    }\n",
       "\n",
       "    .dataframe tbody tr th {\n",
       "        vertical-align: top;\n",
       "    }\n",
       "\n",
       "    .dataframe thead th {\n",
       "        text-align: right;\n",
       "    }\n",
       "</style>\n",
       "<table border=\"1\" class=\"dataframe\">\n",
       "  <thead>\n",
       "    <tr style=\"text-align: right;\">\n",
       "      <th></th>\n",
       "      <th>ALink</th>\n",
       "      <th>SName</th>\n",
       "      <th>SLink</th>\n",
       "      <th>Lyric</th>\n",
       "      <th>Idiom</th>\n",
       "    </tr>\n",
       "  </thead>\n",
       "  <tbody>\n",
       "    <tr>\n",
       "      <th>0</th>\n",
       "      <td>/10000-maniacs/</td>\n",
       "      <td>More Than This</td>\n",
       "      <td>/10000-maniacs/more-than-this.html</td>\n",
       "      <td>I could feel at the time. There was no way of ...</td>\n",
       "      <td>ENGLISH</td>\n",
       "    </tr>\n",
       "    <tr>\n",
       "      <th>1</th>\n",
       "      <td>/10000-maniacs/</td>\n",
       "      <td>Because The Night</td>\n",
       "      <td>/10000-maniacs/because-the-night.html</td>\n",
       "      <td>Take me now, baby, here as I am. Hold me close...</td>\n",
       "      <td>ENGLISH</td>\n",
       "    </tr>\n",
       "    <tr>\n",
       "      <th>2</th>\n",
       "      <td>/10000-maniacs/</td>\n",
       "      <td>These Are Days</td>\n",
       "      <td>/10000-maniacs/these-are-days.html</td>\n",
       "      <td>These are. These are days you'll remember. Nev...</td>\n",
       "      <td>ENGLISH</td>\n",
       "    </tr>\n",
       "    <tr>\n",
       "      <th>3</th>\n",
       "      <td>/10000-maniacs/</td>\n",
       "      <td>A Campfire Song</td>\n",
       "      <td>/10000-maniacs/a-campfire-song.html</td>\n",
       "      <td>A lie to say, \"O my mountain has coal veins an...</td>\n",
       "      <td>ENGLISH</td>\n",
       "    </tr>\n",
       "    <tr>\n",
       "      <th>4</th>\n",
       "      <td>/10000-maniacs/</td>\n",
       "      <td>Everyday Is Like Sunday</td>\n",
       "      <td>/10000-maniacs/everyday-is-like-sunday.html</td>\n",
       "      <td>Trudging slowly over wet sand. Back to the ben...</td>\n",
       "      <td>ENGLISH</td>\n",
       "    </tr>\n",
       "    <tr>\n",
       "      <th>...</th>\n",
       "      <td>...</td>\n",
       "      <td>...</td>\n",
       "      <td>...</td>\n",
       "      <td>...</td>\n",
       "      <td>...</td>\n",
       "    </tr>\n",
       "    <tr>\n",
       "      <th>209517</th>\n",
       "      <td>/zeca-pagodinho/</td>\n",
       "      <td>Vou Botar Teu Nome Na Macumba</td>\n",
       "      <td>/zeca-pagodinho/vou-botar-teu-nome-na-macumba....</td>\n",
       "      <td>Eu vou botar teu nome na macumba. Vou procurar...</td>\n",
       "      <td>PORTUGUESE</td>\n",
       "    </tr>\n",
       "    <tr>\n",
       "      <th>209518</th>\n",
       "      <td>/zeca-pagodinho/</td>\n",
       "      <td>Vou Procurar Esquecer</td>\n",
       "      <td>/zeca-pagodinho/vou-procurar-esquecer.html</td>\n",
       "      <td>Vou procurar um novo amor na minha vida. Porqu...</td>\n",
       "      <td>PORTUGUESE</td>\n",
       "    </tr>\n",
       "    <tr>\n",
       "      <th>209519</th>\n",
       "      <td>/zeca-pagodinho/</td>\n",
       "      <td>Vou Ver Juliana</td>\n",
       "      <td>/zeca-pagodinho/vou-ver-juliana.html</td>\n",
       "      <td>Quando a mare vazá. Vou vê juliana. Vou vê jul...</td>\n",
       "      <td>PORTUGUESE</td>\n",
       "    </tr>\n",
       "    <tr>\n",
       "      <th>209520</th>\n",
       "      <td>/zeca-pagodinho/</td>\n",
       "      <td>Yaô Cadê A Samba / Outro Recado / Hino</td>\n",
       "      <td>/zeca-pagodinho/yao-cade-a-samba-outro-recado-...</td>\n",
       "      <td>Ô Yaô. Yaô, cadê a samba?. Está mangando na cu...</td>\n",
       "      <td>PORTUGUESE</td>\n",
       "    </tr>\n",
       "    <tr>\n",
       "      <th>209521</th>\n",
       "      <td>/zeca-pagodinho/</td>\n",
       "      <td>Zeca, Cadê Você?</td>\n",
       "      <td>/zeca-pagodinho/zeca-cade-voce.html</td>\n",
       "      <td>Ô, Zeca, tu tá morando onde?. Ô, Zeca, tu tá m...</td>\n",
       "      <td>PORTUGUESE</td>\n",
       "    </tr>\n",
       "  </tbody>\n",
       "</table>\n",
       "<p>209522 rows × 5 columns</p>\n",
       "</div>"
      ],
      "text/plain": [
       "                   ALink                                   SName  \\\n",
       "0        /10000-maniacs/                          More Than This   \n",
       "1        /10000-maniacs/                       Because The Night   \n",
       "2        /10000-maniacs/                          These Are Days   \n",
       "3        /10000-maniacs/                         A Campfire Song   \n",
       "4        /10000-maniacs/                 Everyday Is Like Sunday   \n",
       "...                  ...                                     ...   \n",
       "209517  /zeca-pagodinho/           Vou Botar Teu Nome Na Macumba   \n",
       "209518  /zeca-pagodinho/                   Vou Procurar Esquecer   \n",
       "209519  /zeca-pagodinho/                         Vou Ver Juliana   \n",
       "209520  /zeca-pagodinho/  Yaô Cadê A Samba / Outro Recado / Hino   \n",
       "209521  /zeca-pagodinho/                        Zeca, Cadê Você?   \n",
       "\n",
       "                                                    SLink  \\\n",
       "0                      /10000-maniacs/more-than-this.html   \n",
       "1                   /10000-maniacs/because-the-night.html   \n",
       "2                      /10000-maniacs/these-are-days.html   \n",
       "3                     /10000-maniacs/a-campfire-song.html   \n",
       "4             /10000-maniacs/everyday-is-like-sunday.html   \n",
       "...                                                   ...   \n",
       "209517  /zeca-pagodinho/vou-botar-teu-nome-na-macumba....   \n",
       "209518         /zeca-pagodinho/vou-procurar-esquecer.html   \n",
       "209519               /zeca-pagodinho/vou-ver-juliana.html   \n",
       "209520  /zeca-pagodinho/yao-cade-a-samba-outro-recado-...   \n",
       "209521                /zeca-pagodinho/zeca-cade-voce.html   \n",
       "\n",
       "                                                    Lyric       Idiom  \n",
       "0       I could feel at the time. There was no way of ...     ENGLISH  \n",
       "1       Take me now, baby, here as I am. Hold me close...     ENGLISH  \n",
       "2       These are. These are days you'll remember. Nev...     ENGLISH  \n",
       "3       A lie to say, \"O my mountain has coal veins an...     ENGLISH  \n",
       "4       Trudging slowly over wet sand. Back to the ben...     ENGLISH  \n",
       "...                                                   ...         ...  \n",
       "209517  Eu vou botar teu nome na macumba. Vou procurar...  PORTUGUESE  \n",
       "209518  Vou procurar um novo amor na minha vida. Porqu...  PORTUGUESE  \n",
       "209519  Quando a mare vazá. Vou vê juliana. Vou vê jul...  PORTUGUESE  \n",
       "209520  Ô Yaô. Yaô, cadê a samba?. Está mangando na cu...  PORTUGUESE  \n",
       "209521  Ô, Zeca, tu tá morando onde?. Ô, Zeca, tu tá m...  PORTUGUESE  \n",
       "\n",
       "[209522 rows x 5 columns]"
      ]
     },
     "execution_count": 48,
     "metadata": {},
     "output_type": "execute_result"
    }
   ],
   "source": [
    "df1"
   ]
  },
  {
   "cell_type": "code",
   "execution_count": 49,
   "metadata": {},
   "outputs": [],
   "source": [
    "df3 = pd.read_csv(\"../../lyric_datasets/decades_tcc_ceds_music.csv\")\n"
   ]
  },
  {
   "cell_type": "code",
   "execution_count": 50,
   "metadata": {},
   "outputs": [
    {
     "data": {
      "text/plain": [
       "(28372, 31)"
      ]
     },
     "execution_count": 50,
     "metadata": {},
     "output_type": "execute_result"
    }
   ],
   "source": [
    "df3.shape"
   ]
  },
  {
   "cell_type": "code",
   "execution_count": 51,
   "metadata": {},
   "outputs": [
    {
     "data": {
      "text/plain": [
       "Unnamed: 0                    int64\n",
       "artist_name                  object\n",
       "track_name                   object\n",
       "release_date                  int64\n",
       "genre                        object\n",
       "lyrics                       object\n",
       "len                           int64\n",
       "dating                      float64\n",
       "violence                    float64\n",
       "world/life                  float64\n",
       "night/time                  float64\n",
       "shake the audience          float64\n",
       "family/gospel               float64\n",
       "romantic                    float64\n",
       "communication               float64\n",
       "obscene                     float64\n",
       "music                       float64\n",
       "movement/places             float64\n",
       "light/visual perceptions    float64\n",
       "family/spiritual            float64\n",
       "like/girls                  float64\n",
       "sadness                     float64\n",
       "feelings                    float64\n",
       "danceability                float64\n",
       "loudness                    float64\n",
       "acousticness                float64\n",
       "instrumentalness            float64\n",
       "valence                     float64\n",
       "energy                      float64\n",
       "topic                        object\n",
       "age                         float64\n",
       "dtype: object"
      ]
     },
     "execution_count": 51,
     "metadata": {},
     "output_type": "execute_result"
    }
   ],
   "source": [
    "df3.dtypes"
   ]
  },
  {
   "cell_type": "code",
   "execution_count": 52,
   "metadata": {},
   "outputs": [
    {
     "data": {
      "text/plain": [
       "Index(['Unnamed: 0', 'artist_name', 'track_name', 'release_date', 'genre',\n",
       "       'lyrics', 'len', 'dating', 'violence', 'world/life', 'night/time',\n",
       "       'shake the audience', 'family/gospel', 'romantic', 'communication',\n",
       "       'obscene', 'music', 'movement/places', 'light/visual perceptions',\n",
       "       'family/spiritual', 'like/girls', 'sadness', 'feelings', 'danceability',\n",
       "       'loudness', 'acousticness', 'instrumentalness', 'valence', 'energy',\n",
       "       'topic', 'age'],\n",
       "      dtype='object')"
      ]
     },
     "execution_count": 52,
     "metadata": {},
     "output_type": "execute_result"
    }
   ],
   "source": [
    "df3.columns"
   ]
  },
  {
   "cell_type": "code",
   "execution_count": 53,
   "metadata": {},
   "outputs": [
    {
     "data": {
      "text/plain": [
       "pandas.core.frame.DataFrame"
      ]
     },
     "execution_count": 53,
     "metadata": {},
     "output_type": "execute_result"
    }
   ],
   "source": [
    "type(df3)"
   ]
  },
  {
   "cell_type": "code",
   "execution_count": 54,
   "metadata": {},
   "outputs": [
    {
     "data": {
      "text/html": [
       "<div>\n",
       "<style scoped>\n",
       "    .dataframe tbody tr th:only-of-type {\n",
       "        vertical-align: middle;\n",
       "    }\n",
       "\n",
       "    .dataframe tbody tr th {\n",
       "        vertical-align: top;\n",
       "    }\n",
       "\n",
       "    .dataframe thead th {\n",
       "        text-align: right;\n",
       "    }\n",
       "</style>\n",
       "<table border=\"1\" class=\"dataframe\">\n",
       "  <thead>\n",
       "    <tr style=\"text-align: right;\">\n",
       "      <th></th>\n",
       "      <th>Unnamed: 0</th>\n",
       "      <th>artist_name</th>\n",
       "      <th>track_name</th>\n",
       "      <th>release_date</th>\n",
       "      <th>genre</th>\n",
       "      <th>lyrics</th>\n",
       "      <th>len</th>\n",
       "      <th>dating</th>\n",
       "      <th>violence</th>\n",
       "      <th>world/life</th>\n",
       "      <th>...</th>\n",
       "      <th>sadness</th>\n",
       "      <th>feelings</th>\n",
       "      <th>danceability</th>\n",
       "      <th>loudness</th>\n",
       "      <th>acousticness</th>\n",
       "      <th>instrumentalness</th>\n",
       "      <th>valence</th>\n",
       "      <th>energy</th>\n",
       "      <th>topic</th>\n",
       "      <th>age</th>\n",
       "    </tr>\n",
       "  </thead>\n",
       "  <tbody>\n",
       "    <tr>\n",
       "      <th>0</th>\n",
       "      <td>0</td>\n",
       "      <td>mukesh</td>\n",
       "      <td>mohabbat bhi jhoothi</td>\n",
       "      <td>1950</td>\n",
       "      <td>pop</td>\n",
       "      <td>hold time feel break feel untrue convince spea...</td>\n",
       "      <td>95</td>\n",
       "      <td>0.000598</td>\n",
       "      <td>0.063746</td>\n",
       "      <td>0.000598</td>\n",
       "      <td>...</td>\n",
       "      <td>0.380299</td>\n",
       "      <td>0.117175</td>\n",
       "      <td>0.357739</td>\n",
       "      <td>0.454119</td>\n",
       "      <td>0.997992</td>\n",
       "      <td>0.901822</td>\n",
       "      <td>0.339448</td>\n",
       "      <td>0.137110</td>\n",
       "      <td>sadness</td>\n",
       "      <td>1.0</td>\n",
       "    </tr>\n",
       "    <tr>\n",
       "      <th>1</th>\n",
       "      <td>4</td>\n",
       "      <td>frankie laine</td>\n",
       "      <td>i believe</td>\n",
       "      <td>1950</td>\n",
       "      <td>pop</td>\n",
       "      <td>believe drop rain fall grow believe darkest ni...</td>\n",
       "      <td>51</td>\n",
       "      <td>0.035537</td>\n",
       "      <td>0.096777</td>\n",
       "      <td>0.443435</td>\n",
       "      <td>...</td>\n",
       "      <td>0.001284</td>\n",
       "      <td>0.001284</td>\n",
       "      <td>0.331745</td>\n",
       "      <td>0.647540</td>\n",
       "      <td>0.954819</td>\n",
       "      <td>0.000002</td>\n",
       "      <td>0.325021</td>\n",
       "      <td>0.263240</td>\n",
       "      <td>world/life</td>\n",
       "      <td>1.0</td>\n",
       "    </tr>\n",
       "    <tr>\n",
       "      <th>2</th>\n",
       "      <td>6</td>\n",
       "      <td>johnnie ray</td>\n",
       "      <td>cry</td>\n",
       "      <td>1950</td>\n",
       "      <td>pop</td>\n",
       "      <td>sweetheart send letter goodbye secret feel bet...</td>\n",
       "      <td>24</td>\n",
       "      <td>0.002770</td>\n",
       "      <td>0.002770</td>\n",
       "      <td>0.002770</td>\n",
       "      <td>...</td>\n",
       "      <td>0.002770</td>\n",
       "      <td>0.225422</td>\n",
       "      <td>0.456298</td>\n",
       "      <td>0.585288</td>\n",
       "      <td>0.840361</td>\n",
       "      <td>0.000000</td>\n",
       "      <td>0.351814</td>\n",
       "      <td>0.139112</td>\n",
       "      <td>music</td>\n",
       "      <td>1.0</td>\n",
       "    </tr>\n",
       "    <tr>\n",
       "      <th>3</th>\n",
       "      <td>10</td>\n",
       "      <td>pérez prado</td>\n",
       "      <td>patricia</td>\n",
       "      <td>1950</td>\n",
       "      <td>pop</td>\n",
       "      <td>kiss lips want stroll charm mambo chacha merin...</td>\n",
       "      <td>54</td>\n",
       "      <td>0.048249</td>\n",
       "      <td>0.001548</td>\n",
       "      <td>0.001548</td>\n",
       "      <td>...</td>\n",
       "      <td>0.225889</td>\n",
       "      <td>0.001548</td>\n",
       "      <td>0.686992</td>\n",
       "      <td>0.744404</td>\n",
       "      <td>0.083935</td>\n",
       "      <td>0.199393</td>\n",
       "      <td>0.775350</td>\n",
       "      <td>0.743736</td>\n",
       "      <td>romantic</td>\n",
       "      <td>1.0</td>\n",
       "    </tr>\n",
       "    <tr>\n",
       "      <th>4</th>\n",
       "      <td>12</td>\n",
       "      <td>giorgos papadopoulos</td>\n",
       "      <td>apopse eida oneiro</td>\n",
       "      <td>1950</td>\n",
       "      <td>pop</td>\n",
       "      <td>till darling till matter know till dream live ...</td>\n",
       "      <td>48</td>\n",
       "      <td>0.001350</td>\n",
       "      <td>0.001350</td>\n",
       "      <td>0.417772</td>\n",
       "      <td>...</td>\n",
       "      <td>0.068800</td>\n",
       "      <td>0.001350</td>\n",
       "      <td>0.291671</td>\n",
       "      <td>0.646489</td>\n",
       "      <td>0.975904</td>\n",
       "      <td>0.000246</td>\n",
       "      <td>0.597073</td>\n",
       "      <td>0.394375</td>\n",
       "      <td>romantic</td>\n",
       "      <td>1.0</td>\n",
       "    </tr>\n",
       "    <tr>\n",
       "      <th>5</th>\n",
       "      <td>14</td>\n",
       "      <td>perry como</td>\n",
       "      <td>round and round (with mitchell ayres and his o...</td>\n",
       "      <td>1950</td>\n",
       "      <td>pop</td>\n",
       "      <td>convoy light dead ahead merchantmen trump dies...</td>\n",
       "      <td>98</td>\n",
       "      <td>0.001053</td>\n",
       "      <td>0.420685</td>\n",
       "      <td>0.001053</td>\n",
       "      <td>...</td>\n",
       "      <td>0.128292</td>\n",
       "      <td>0.001053</td>\n",
       "      <td>0.689158</td>\n",
       "      <td>0.685588</td>\n",
       "      <td>0.898594</td>\n",
       "      <td>0.000000</td>\n",
       "      <td>0.768137</td>\n",
       "      <td>0.549535</td>\n",
       "      <td>violence</td>\n",
       "      <td>1.0</td>\n",
       "    </tr>\n",
       "    <tr>\n",
       "      <th>6</th>\n",
       "      <td>15</td>\n",
       "      <td>freestyle</td>\n",
       "      <td>opm medley: when i met you</td>\n",
       "      <td>1950</td>\n",
       "      <td>pop</td>\n",
       "      <td>piece mindin world knowin life come bring give...</td>\n",
       "      <td>179</td>\n",
       "      <td>0.000483</td>\n",
       "      <td>0.000483</td>\n",
       "      <td>0.371817</td>\n",
       "      <td>...</td>\n",
       "      <td>0.000483</td>\n",
       "      <td>0.123150</td>\n",
       "      <td>0.368569</td>\n",
       "      <td>0.633695</td>\n",
       "      <td>0.435742</td>\n",
       "      <td>0.000000</td>\n",
       "      <td>0.282770</td>\n",
       "      <td>0.486470</td>\n",
       "      <td>world/life</td>\n",
       "      <td>1.0</td>\n",
       "    </tr>\n",
       "    <tr>\n",
       "      <th>7</th>\n",
       "      <td>17</td>\n",
       "      <td>johnny mathis</td>\n",
       "      <td>it's not for me to say</td>\n",
       "      <td>1950</td>\n",
       "      <td>pop</td>\n",
       "      <td>care moment hold fast press lips dream heaven ...</td>\n",
       "      <td>21</td>\n",
       "      <td>0.002506</td>\n",
       "      <td>0.002506</td>\n",
       "      <td>0.336056</td>\n",
       "      <td>...</td>\n",
       "      <td>0.062602</td>\n",
       "      <td>0.002506</td>\n",
       "      <td>0.379400</td>\n",
       "      <td>0.529421</td>\n",
       "      <td>0.925703</td>\n",
       "      <td>0.000072</td>\n",
       "      <td>0.373454</td>\n",
       "      <td>0.192167</td>\n",
       "      <td>world/life</td>\n",
       "      <td>1.0</td>\n",
       "    </tr>\n",
       "    <tr>\n",
       "      <th>8</th>\n",
       "      <td>20</td>\n",
       "      <td>stélios kazantzídis</td>\n",
       "      <td>klapse me mana klapse me</td>\n",
       "      <td>1950</td>\n",
       "      <td>pop</td>\n",
       "      <td>lonely night surround power read mind hour nig...</td>\n",
       "      <td>30</td>\n",
       "      <td>0.083537</td>\n",
       "      <td>0.002024</td>\n",
       "      <td>0.002024</td>\n",
       "      <td>...</td>\n",
       "      <td>0.002024</td>\n",
       "      <td>0.031600</td>\n",
       "      <td>0.496372</td>\n",
       "      <td>0.666180</td>\n",
       "      <td>0.974900</td>\n",
       "      <td>0.000014</td>\n",
       "      <td>0.621805</td>\n",
       "      <td>0.400382</td>\n",
       "      <td>romantic</td>\n",
       "      <td>1.0</td>\n",
       "    </tr>\n",
       "  </tbody>\n",
       "</table>\n",
       "<p>9 rows × 31 columns</p>\n",
       "</div>"
      ],
      "text/plain": [
       "   Unnamed: 0           artist_name  \\\n",
       "0           0                mukesh   \n",
       "1           4         frankie laine   \n",
       "2           6           johnnie ray   \n",
       "3          10           pérez prado   \n",
       "4          12  giorgos papadopoulos   \n",
       "5          14            perry como   \n",
       "6          15             freestyle   \n",
       "7          17         johnny mathis   \n",
       "8          20   stélios kazantzídis   \n",
       "\n",
       "                                          track_name  release_date genre  \\\n",
       "0                               mohabbat bhi jhoothi          1950   pop   \n",
       "1                                          i believe          1950   pop   \n",
       "2                                                cry          1950   pop   \n",
       "3                                           patricia          1950   pop   \n",
       "4                                 apopse eida oneiro          1950   pop   \n",
       "5  round and round (with mitchell ayres and his o...          1950   pop   \n",
       "6                         opm medley: when i met you          1950   pop   \n",
       "7                             it's not for me to say          1950   pop   \n",
       "8                           klapse me mana klapse me          1950   pop   \n",
       "\n",
       "                                              lyrics  len    dating  violence  \\\n",
       "0  hold time feel break feel untrue convince spea...   95  0.000598  0.063746   \n",
       "1  believe drop rain fall grow believe darkest ni...   51  0.035537  0.096777   \n",
       "2  sweetheart send letter goodbye secret feel bet...   24  0.002770  0.002770   \n",
       "3  kiss lips want stroll charm mambo chacha merin...   54  0.048249  0.001548   \n",
       "4  till darling till matter know till dream live ...   48  0.001350  0.001350   \n",
       "5  convoy light dead ahead merchantmen trump dies...   98  0.001053  0.420685   \n",
       "6  piece mindin world knowin life come bring give...  179  0.000483  0.000483   \n",
       "7  care moment hold fast press lips dream heaven ...   21  0.002506  0.002506   \n",
       "8  lonely night surround power read mind hour nig...   30  0.083537  0.002024   \n",
       "\n",
       "   world/life  ...   sadness  feelings  danceability  loudness  acousticness  \\\n",
       "0    0.000598  ...  0.380299  0.117175      0.357739  0.454119      0.997992   \n",
       "1    0.443435  ...  0.001284  0.001284      0.331745  0.647540      0.954819   \n",
       "2    0.002770  ...  0.002770  0.225422      0.456298  0.585288      0.840361   \n",
       "3    0.001548  ...  0.225889  0.001548      0.686992  0.744404      0.083935   \n",
       "4    0.417772  ...  0.068800  0.001350      0.291671  0.646489      0.975904   \n",
       "5    0.001053  ...  0.128292  0.001053      0.689158  0.685588      0.898594   \n",
       "6    0.371817  ...  0.000483  0.123150      0.368569  0.633695      0.435742   \n",
       "7    0.336056  ...  0.062602  0.002506      0.379400  0.529421      0.925703   \n",
       "8    0.002024  ...  0.002024  0.031600      0.496372  0.666180      0.974900   \n",
       "\n",
       "   instrumentalness   valence    energy       topic  age  \n",
       "0          0.901822  0.339448  0.137110     sadness  1.0  \n",
       "1          0.000002  0.325021  0.263240  world/life  1.0  \n",
       "2          0.000000  0.351814  0.139112       music  1.0  \n",
       "3          0.199393  0.775350  0.743736    romantic  1.0  \n",
       "4          0.000246  0.597073  0.394375    romantic  1.0  \n",
       "5          0.000000  0.768137  0.549535    violence  1.0  \n",
       "6          0.000000  0.282770  0.486470  world/life  1.0  \n",
       "7          0.000072  0.373454  0.192167  world/life  1.0  \n",
       "8          0.000014  0.621805  0.400382    romantic  1.0  \n",
       "\n",
       "[9 rows x 31 columns]"
      ]
     },
     "execution_count": 54,
     "metadata": {},
     "output_type": "execute_result"
    }
   ],
   "source": [
    "df3.head(9)"
   ]
  },
  {
   "cell_type": "code",
   "execution_count": 55,
   "metadata": {},
   "outputs": [
    {
     "data": {
      "text/plain": [
       "array([[0, 'mukesh', 'mohabbat bhi jhoothi', ..., 0.13711018802589228,\n",
       "        'sadness', 1.0],\n",
       "       [4, 'frankie laine', 'i believe', ..., 0.2632402533492537,\n",
       "        'world/life', 1.0],\n",
       "       [6, 'johnnie ray', 'cry', ..., 0.13911225255483453, 'music', 1.0],\n",
       "       ...,\n",
       "       [82449, 'nine', 'whutcha want?', ..., 0.7677605146426995,\n",
       "        'obscene', 0.014285714285714284],\n",
       "       [82450, 'will smith', 'switch', ..., 0.8858823218502919,\n",
       "        'obscene', 0.014285714285714284],\n",
       "       [82451, 'jeezy', 'r.i.p.', ..., 0.4924766419131408, 'obscene',\n",
       "        0.014285714285714284]], dtype=object)"
      ]
     },
     "execution_count": 55,
     "metadata": {},
     "output_type": "execute_result"
    }
   ],
   "source": [
    "df3.values"
   ]
  },
  {
   "cell_type": "code",
   "execution_count": 56,
   "metadata": {},
   "outputs": [
    {
     "data": {
      "text/plain": [
       "Index(['Unnamed: 0', 'artist_name', 'track_name', 'release_date', 'genre',\n",
       "       'lyrics', 'len', 'dating', 'violence', 'world/life', 'night/time',\n",
       "       'shake the audience', 'family/gospel', 'romantic', 'communication',\n",
       "       'obscene', 'music', 'movement/places', 'light/visual perceptions',\n",
       "       'family/spiritual', 'like/girls', 'sadness', 'feelings', 'danceability',\n",
       "       'loudness', 'acousticness', 'instrumentalness', 'valence', 'energy',\n",
       "       'topic', 'age'],\n",
       "      dtype='object')"
      ]
     },
     "execution_count": 56,
     "metadata": {},
     "output_type": "execute_result"
    }
   ],
   "source": [
    "df3.columns\n"
   ]
  },
  {
   "cell_type": "code",
   "execution_count": 58,
   "metadata": {},
   "outputs": [],
   "source": [
    "test1 = df3[['artist_name', 'track_name','genre','release_date','lyrics']]"
   ]
  },
  {
   "cell_type": "code",
   "execution_count": 59,
   "metadata": {},
   "outputs": [
    {
     "data": {
      "text/plain": [
       "pandas.core.frame.DataFrame"
      ]
     },
     "execution_count": 59,
     "metadata": {},
     "output_type": "execute_result"
    }
   ],
   "source": [
    "type(test1)"
   ]
  },
  {
   "cell_type": "code",
   "execution_count": 61,
   "metadata": {},
   "outputs": [
    {
     "data": {
      "text/plain": [
       "artist_name     object\n",
       "track_name      object\n",
       "genre           object\n",
       "release_date     int64\n",
       "lyrics          object\n",
       "dtype: object"
      ]
     },
     "execution_count": 61,
     "metadata": {},
     "output_type": "execute_result"
    }
   ],
   "source": [
    "test1.dtypes"
   ]
  },
  {
   "cell_type": "code",
   "execution_count": 62,
   "metadata": {},
   "outputs": [
    {
     "data": {
      "text/html": [
       "<div>\n",
       "<style scoped>\n",
       "    .dataframe tbody tr th:only-of-type {\n",
       "        vertical-align: middle;\n",
       "    }\n",
       "\n",
       "    .dataframe tbody tr th {\n",
       "        vertical-align: top;\n",
       "    }\n",
       "\n",
       "    .dataframe thead th {\n",
       "        text-align: right;\n",
       "    }\n",
       "</style>\n",
       "<table border=\"1\" class=\"dataframe\">\n",
       "  <thead>\n",
       "    <tr style=\"text-align: right;\">\n",
       "      <th></th>\n",
       "      <th>artist_name</th>\n",
       "      <th>track_name</th>\n",
       "      <th>genre</th>\n",
       "      <th>release_date</th>\n",
       "      <th>lyrics</th>\n",
       "    </tr>\n",
       "  </thead>\n",
       "  <tbody>\n",
       "    <tr>\n",
       "      <th>0</th>\n",
       "      <td>mukesh</td>\n",
       "      <td>mohabbat bhi jhoothi</td>\n",
       "      <td>pop</td>\n",
       "      <td>1950</td>\n",
       "      <td>hold time feel break feel untrue convince spea...</td>\n",
       "    </tr>\n",
       "    <tr>\n",
       "      <th>1</th>\n",
       "      <td>frankie laine</td>\n",
       "      <td>i believe</td>\n",
       "      <td>pop</td>\n",
       "      <td>1950</td>\n",
       "      <td>believe drop rain fall grow believe darkest ni...</td>\n",
       "    </tr>\n",
       "    <tr>\n",
       "      <th>2</th>\n",
       "      <td>johnnie ray</td>\n",
       "      <td>cry</td>\n",
       "      <td>pop</td>\n",
       "      <td>1950</td>\n",
       "      <td>sweetheart send letter goodbye secret feel bet...</td>\n",
       "    </tr>\n",
       "    <tr>\n",
       "      <th>3</th>\n",
       "      <td>pérez prado</td>\n",
       "      <td>patricia</td>\n",
       "      <td>pop</td>\n",
       "      <td>1950</td>\n",
       "      <td>kiss lips want stroll charm mambo chacha merin...</td>\n",
       "    </tr>\n",
       "    <tr>\n",
       "      <th>4</th>\n",
       "      <td>giorgos papadopoulos</td>\n",
       "      <td>apopse eida oneiro</td>\n",
       "      <td>pop</td>\n",
       "      <td>1950</td>\n",
       "      <td>till darling till matter know till dream live ...</td>\n",
       "    </tr>\n",
       "  </tbody>\n",
       "</table>\n",
       "</div>"
      ],
      "text/plain": [
       "            artist_name            track_name genre  release_date  \\\n",
       "0                mukesh  mohabbat bhi jhoothi   pop          1950   \n",
       "1         frankie laine             i believe   pop          1950   \n",
       "2           johnnie ray                   cry   pop          1950   \n",
       "3           pérez prado              patricia   pop          1950   \n",
       "4  giorgos papadopoulos    apopse eida oneiro   pop          1950   \n",
       "\n",
       "                                              lyrics  \n",
       "0  hold time feel break feel untrue convince spea...  \n",
       "1  believe drop rain fall grow believe darkest ni...  \n",
       "2  sweetheart send letter goodbye secret feel bet...  \n",
       "3  kiss lips want stroll charm mambo chacha merin...  \n",
       "4  till darling till matter know till dream live ...  "
      ]
     },
     "execution_count": 62,
     "metadata": {},
     "output_type": "execute_result"
    }
   ],
   "source": [
    "test1.head()"
   ]
  },
  {
   "cell_type": "code",
   "execution_count": null,
   "metadata": {},
   "outputs": [],
   "source": []
  }
 ],
 "metadata": {
  "kernelspec": {
   "display_name": "Python 3",
   "language": "python",
   "name": "python3"
  },
  "language_info": {
   "codemirror_mode": {
    "name": "ipython",
    "version": 3
   },
   "file_extension": ".py",
   "mimetype": "text/x-python",
   "name": "python",
   "nbconvert_exporter": "python",
   "pygments_lexer": "ipython3",
   "version": "3.8.5"
  }
 },
 "nbformat": 4,
 "nbformat_minor": 4
}
