{
 "cells": [
  {
   "cell_type": "markdown",
   "id": "5b9952ea",
   "metadata": {},
   "source": [
    "The purpose of this notebook is to look at the genres available in the decades and the genres datasets.  If the distribution is normal(-ish) in a particular dataset than it is a good candidate for the project.  All other things being equal, I would prefer to use the genres dataset as it is bigger and the lyrics have not yet been cleaned.  I am concerned that the already-cleaned lyrics in decades will not give me enough information to prove the hypothesis, that we can predict a genre given a set of lyrics."
   ]
  },
  {
   "cell_type": "code",
   "execution_count": 1,
   "id": "99192fa2",
   "metadata": {},
   "outputs": [],
   "source": [
    "import pandas as pd\n",
    "import numpy as np\n",
    "import s3fs\n",
    "import os\n",
    "import io\n",
    "import boto3\n",
    "\n",
    "import s3fs\n",
    "fs = s3fs.S3FileSystem(anon=False,key='###',secret='###')"
   ]
  },
  {
   "cell_type": "code",
   "execution_count": 2,
   "id": "0f225e4a",
   "metadata": {},
   "outputs": [],
   "source": [
    "from dotenv import load_dotenv\n",
    "load_dotenv(verbose=True)\n",
    "\n",
    "def aws_session(region_name='us-east-1'):\n",
    "    return boto3.session.Session(aws_access_key_id=os.getenv('AWS_ACCESS_KEY_ID'), #looks for any .env file\n",
    "                                aws_secret_access_key=os.getenv('AWS_ACCESS_KEY_SECRET'), #Has to be in same directory\n",
    "                                region_name=region_name) #from above\n",
    "\n",
    "def make_bucket(name, acl): \n",
    "    session = aws_session()\n",
    "    s3_resource = session.resource('s3')\n",
    "    return s3_resource.create_bucket(Bucket=name, ACL=acl)\n",
    "\n",
    "def upload_file_to_bucket(bucket_name, file_path):\n",
    "    session = aws_session()\n",
    "    s3_resource = session.resource('s3')\n",
    "    file_dir, file_name = os.path.split(file_path)\n",
    "\n",
    "    bucket = s3_resource.Bucket(bucket_name)\n",
    "    bucket.upload_file(\n",
    "      Filename=file_path,\n",
    "      Key=file_name,\n",
    "      ExtraArgs={'ACL': 'public-read'}\n",
    "    )\n",
    "\n",
    "    s3_url = f\"https://{bucket_name}.s3.amazonaws.com/{file_name}\"\n",
    "    return s3_url\n",
    "\n",
    "def download_file_from_bucket(bucket_name, s3_key, dst_path):\n",
    "    session = aws_session()\n",
    "    s3_resource = session.resource('s3')\n",
    "    bucket = s3_resource.Bucket(bucket_name)\n",
    "    bucket.download_file(Key=s3_key, Filename=dst_path)"
   ]
  },
  {
   "cell_type": "code",
   "execution_count": 3,
   "id": "93960c86",
   "metadata": {},
   "outputs": [
    {
     "name": "stdout",
     "output_type": "stream",
     "text": [
      "2021-04-17 12:39:34   36238559 Main2_25k.csv\r\n",
      "2021-04-17 13:07:17  144547686 big2_df.csv\r\n",
      "2021-04-17 12:42:21  187833123 big_no_genre_df.csv\r\n",
      "2021-05-04 07:21:58   14278350 decades4_df.csv\r\n",
      "2021-04-17 12:40:50   14278350 decades_df.csv\r\n",
      "2021-04-17 12:43:37  144584439 merged3_genre_df.csv\r\n",
      "2021-05-04 07:03:59  195669510 merged4_genre_df.csv\r\n",
      "2021-05-04 20:20:58  130153211 merged5_genre_df.csv\r\n"
     ]
    }
   ],
   "source": [
    "!aws s3 ls 'wrangled-1'"
   ]
  },
  {
   "cell_type": "code",
   "execution_count": 4,
   "id": "85c02872",
   "metadata": {},
   "outputs": [],
   "source": [
    "decades_df = pd.read_csv('s3://wrangled-1/decades4_df.csv')"
   ]
  },
  {
   "cell_type": "code",
   "execution_count": 5,
   "id": "fb0eed82",
   "metadata": {
    "scrolled": true
   },
   "outputs": [
    {
     "data": {
      "text/plain": [
       "Index(['original_csv', 'artist_name', 'song_name', 'link', 'lyrics',\n",
       "       'language', 'genre', 'date'],\n",
       "      dtype='object')"
      ]
     },
     "execution_count": 5,
     "metadata": {},
     "output_type": "execute_result"
    }
   ],
   "source": [
    "decades_df.keys()"
   ]
  },
  {
   "cell_type": "code",
   "execution_count": 6,
   "id": "4febf09f",
   "metadata": {},
   "outputs": [
    {
     "data": {
      "text/html": [
       "<div>\n",
       "<style scoped>\n",
       "    .dataframe tbody tr th:only-of-type {\n",
       "        vertical-align: middle;\n",
       "    }\n",
       "\n",
       "    .dataframe tbody tr th {\n",
       "        vertical-align: top;\n",
       "    }\n",
       "\n",
       "    .dataframe thead th {\n",
       "        text-align: right;\n",
       "    }\n",
       "</style>\n",
       "<table border=\"1\" class=\"dataframe\">\n",
       "  <thead>\n",
       "    <tr style=\"text-align: right;\">\n",
       "      <th></th>\n",
       "      <th>original_csv</th>\n",
       "      <th>artist_name</th>\n",
       "      <th>song_name</th>\n",
       "      <th>link</th>\n",
       "      <th>lyrics</th>\n",
       "      <th>language</th>\n",
       "      <th>date</th>\n",
       "    </tr>\n",
       "    <tr>\n",
       "      <th>genre</th>\n",
       "      <th></th>\n",
       "      <th></th>\n",
       "      <th></th>\n",
       "      <th></th>\n",
       "      <th></th>\n",
       "      <th></th>\n",
       "      <th></th>\n",
       "    </tr>\n",
       "  </thead>\n",
       "  <tbody>\n",
       "    <tr>\n",
       "      <th>blues</th>\n",
       "      <td>4604</td>\n",
       "      <td>4604</td>\n",
       "      <td>4604</td>\n",
       "      <td>0</td>\n",
       "      <td>4604</td>\n",
       "      <td>0</td>\n",
       "      <td>4604</td>\n",
       "    </tr>\n",
       "    <tr>\n",
       "      <th>country</th>\n",
       "      <td>5445</td>\n",
       "      <td>5445</td>\n",
       "      <td>5445</td>\n",
       "      <td>0</td>\n",
       "      <td>5445</td>\n",
       "      <td>0</td>\n",
       "      <td>5445</td>\n",
       "    </tr>\n",
       "    <tr>\n",
       "      <th>hip hop</th>\n",
       "      <td>904</td>\n",
       "      <td>904</td>\n",
       "      <td>904</td>\n",
       "      <td>0</td>\n",
       "      <td>904</td>\n",
       "      <td>0</td>\n",
       "      <td>904</td>\n",
       "    </tr>\n",
       "    <tr>\n",
       "      <th>jazz</th>\n",
       "      <td>3845</td>\n",
       "      <td>3845</td>\n",
       "      <td>3845</td>\n",
       "      <td>0</td>\n",
       "      <td>3845</td>\n",
       "      <td>0</td>\n",
       "      <td>3845</td>\n",
       "    </tr>\n",
       "    <tr>\n",
       "      <th>pop</th>\n",
       "      <td>7042</td>\n",
       "      <td>7042</td>\n",
       "      <td>7042</td>\n",
       "      <td>0</td>\n",
       "      <td>7042</td>\n",
       "      <td>0</td>\n",
       "      <td>7042</td>\n",
       "    </tr>\n",
       "    <tr>\n",
       "      <th>reggae</th>\n",
       "      <td>2498</td>\n",
       "      <td>2498</td>\n",
       "      <td>2498</td>\n",
       "      <td>0</td>\n",
       "      <td>2498</td>\n",
       "      <td>0</td>\n",
       "      <td>2498</td>\n",
       "    </tr>\n",
       "    <tr>\n",
       "      <th>rock</th>\n",
       "      <td>4034</td>\n",
       "      <td>4034</td>\n",
       "      <td>4034</td>\n",
       "      <td>0</td>\n",
       "      <td>4034</td>\n",
       "      <td>0</td>\n",
       "      <td>4034</td>\n",
       "    </tr>\n",
       "  </tbody>\n",
       "</table>\n",
       "</div>"
      ],
      "text/plain": [
       "         original_csv  artist_name  song_name  link  lyrics  language  date\n",
       "genre                                                                      \n",
       "blues            4604         4604       4604     0    4604         0  4604\n",
       "country          5445         5445       5445     0    5445         0  5445\n",
       "hip hop           904          904        904     0     904         0   904\n",
       "jazz             3845         3845       3845     0    3845         0  3845\n",
       "pop              7042         7042       7042     0    7042         0  7042\n",
       "reggae           2498         2498       2498     0    2498         0  2498\n",
       "rock             4034         4034       4034     0    4034         0  4034"
      ]
     },
     "execution_count": 6,
     "metadata": {},
     "output_type": "execute_result"
    }
   ],
   "source": [
    "decades_df.groupby(['genre']).count()"
   ]
  },
  {
   "cell_type": "code",
   "execution_count": 7,
   "id": "09294635",
   "metadata": {},
   "outputs": [],
   "source": [
    "genres_df = pd.read_csv('s3://wrangled-1/merged4_genre_df.csv')\n",
    "%timeit"
   ]
  },
  {
   "cell_type": "code",
   "execution_count": 8,
   "id": "7d5bc063",
   "metadata": {},
   "outputs": [
    {
     "data": {
      "text/plain": [
       "Index(['original_csv', 'artist_name', 'song_name', 'link', 'lyrics',\n",
       "       'language', 'genre', 'date'],\n",
       "      dtype='object')"
      ]
     },
     "execution_count": 8,
     "metadata": {},
     "output_type": "execute_result"
    }
   ],
   "source": [
    "genres_df.keys()"
   ]
  },
  {
   "cell_type": "code",
   "execution_count": 9,
   "id": "c7763b98",
   "metadata": {},
   "outputs": [
    {
     "data": {
      "text/html": [
       "<div>\n",
       "<style scoped>\n",
       "    .dataframe tbody tr th:only-of-type {\n",
       "        vertical-align: middle;\n",
       "    }\n",
       "\n",
       "    .dataframe tbody tr th {\n",
       "        vertical-align: top;\n",
       "    }\n",
       "\n",
       "    .dataframe thead th {\n",
       "        text-align: right;\n",
       "    }\n",
       "</style>\n",
       "<table border=\"1\" class=\"dataframe\">\n",
       "  <thead>\n",
       "    <tr style=\"text-align: right;\">\n",
       "      <th></th>\n",
       "      <th>original_csv</th>\n",
       "      <th>artist_name</th>\n",
       "      <th>song_name</th>\n",
       "      <th>link</th>\n",
       "      <th>lyrics</th>\n",
       "      <th>language</th>\n",
       "      <th>date</th>\n",
       "    </tr>\n",
       "    <tr>\n",
       "      <th>genre</th>\n",
       "      <th></th>\n",
       "      <th></th>\n",
       "      <th></th>\n",
       "      <th></th>\n",
       "      <th></th>\n",
       "      <th></th>\n",
       "      <th></th>\n",
       "    </tr>\n",
       "  </thead>\n",
       "  <tbody>\n",
       "    <tr>\n",
       "      <th>Funk Carioca</th>\n",
       "      <td>104</td>\n",
       "      <td>104</td>\n",
       "      <td>104</td>\n",
       "      <td>104</td>\n",
       "      <td>104</td>\n",
       "      <td>104</td>\n",
       "      <td>0</td>\n",
       "    </tr>\n",
       "    <tr>\n",
       "      <th>Hip Hop</th>\n",
       "      <td>23108</td>\n",
       "      <td>23108</td>\n",
       "      <td>23108</td>\n",
       "      <td>23108</td>\n",
       "      <td>23108</td>\n",
       "      <td>23108</td>\n",
       "      <td>0</td>\n",
       "    </tr>\n",
       "    <tr>\n",
       "      <th>Pop</th>\n",
       "      <td>40294</td>\n",
       "      <td>40294</td>\n",
       "      <td>40294</td>\n",
       "      <td>40294</td>\n",
       "      <td>40294</td>\n",
       "      <td>40294</td>\n",
       "      <td>0</td>\n",
       "    </tr>\n",
       "    <tr>\n",
       "      <th>Rock</th>\n",
       "      <td>60585</td>\n",
       "      <td>60585</td>\n",
       "      <td>60585</td>\n",
       "      <td>60585</td>\n",
       "      <td>60585</td>\n",
       "      <td>60585</td>\n",
       "      <td>0</td>\n",
       "    </tr>\n",
       "    <tr>\n",
       "      <th>Samba</th>\n",
       "      <td>52</td>\n",
       "      <td>52</td>\n",
       "      <td>52</td>\n",
       "      <td>52</td>\n",
       "      <td>52</td>\n",
       "      <td>52</td>\n",
       "      <td>0</td>\n",
       "    </tr>\n",
       "    <tr>\n",
       "      <th>Sertanejo</th>\n",
       "      <td>87</td>\n",
       "      <td>87</td>\n",
       "      <td>87</td>\n",
       "      <td>87</td>\n",
       "      <td>87</td>\n",
       "      <td>87</td>\n",
       "      <td>0</td>\n",
       "    </tr>\n",
       "  </tbody>\n",
       "</table>\n",
       "</div>"
      ],
      "text/plain": [
       "              original_csv  artist_name  song_name   link  lyrics  language  \\\n",
       "genre                                                                         \n",
       "Funk Carioca           104          104        104    104     104       104   \n",
       "Hip Hop              23108        23108      23108  23108   23108     23108   \n",
       "Pop                  40294        40294      40294  40294   40294     40294   \n",
       "Rock                 60585        60585      60585  60585   60585     60585   \n",
       "Samba                   52           52         52     52      52        52   \n",
       "Sertanejo               87           87         87     87      87        87   \n",
       "\n",
       "              date  \n",
       "genre               \n",
       "Funk Carioca     0  \n",
       "Hip Hop          0  \n",
       "Pop              0  \n",
       "Rock             0  \n",
       "Samba            0  \n",
       "Sertanejo        0  "
      ]
     },
     "execution_count": 9,
     "metadata": {},
     "output_type": "execute_result"
    }
   ],
   "source": [
    "genres_df.groupby(['genre']).count()"
   ]
  },
  {
   "cell_type": "code",
   "execution_count": 10,
   "id": "433fc3a0",
   "metadata": {},
   "outputs": [],
   "source": [
    "import matplotlib.pyplot as plt"
   ]
  },
  {
   "cell_type": "code",
   "execution_count": 11,
   "id": "ef4cb7af",
   "metadata": {
    "scrolled": true
   },
   "outputs": [
    {
     "data": {
      "image/png": "[encoded data removed]",
      "text/plain": [
       "<Figure size 432x288 with 1 Axes>"
      ]
     },
     "metadata": {
      "needs_background": "light"
     },
     "output_type": "display_data"
    }
   ],
   "source": [
    "plt.hist(pd.DataFrame((genres_df),columns=['genre']))\n",
    "plt.show()"
   ]
  },
  {
   "cell_type": "code",
   "execution_count": 12,
   "id": "30c1bc7c",
   "metadata": {
    "scrolled": true
   },
   "outputs": [
    {
     "data": {
      "image/png": "[encoded data removed]",
      "text/plain": [
       "<Figure size 432x288 with 1 Axes>"
      ]
     },
     "metadata": {
      "needs_background": "light"
     },
     "output_type": "display_data"
    }
   ],
   "source": [
    "plt.hist(pd.DataFrame((decades_df),columns=['genre']))\n",
    "plt.show()"
   ]
  },
  {
   "cell_type": "code",
   "execution_count": 13,
   "id": "1f436e2b",
   "metadata": {},
   "outputs": [
    {
     "data": {
      "text/plain": [
       "'think tell story spark fly instantly people ones know place spot search room seat cause lately know simple complication lead fallout things wish know wall break stand crowd room speak die know kill like kill yeah know twist fate break story look like tragedy chapter nervously pull clothe try look busy best avoid start think tell story lose mind hold pride like hold scar end pretend tell miss know hear silence loud stand crowd room speak die know kill like kill yeah know twist fate break story look like tragedy look like contest like care like better battle hand armor fight things wish know story end soon stand crowd room speak die know kill like kill yeah know twist fate break story look like tragedy speak die know kill like kill yeah know twist fate cause go story look like tragedy'"
      ]
     },
     "execution_count": 13,
     "metadata": {},
     "output_type": "execute_result"
    }
   ],
   "source": [
    "decades_df.iloc[5942]['lyrics']#decades Taylor Swift The Story of Us"
   ]
  },
  {
   "cell_type": "code",
   "execution_count": 14,
   "id": "d3aacdab",
   "metadata": {
    "scrolled": true
   },
   "outputs": [
    {
     "data": {
      "text/html": [
       "<div>\n",
       "<style scoped>\n",
       "    .dataframe tbody tr th:only-of-type {\n",
       "        vertical-align: middle;\n",
       "    }\n",
       "\n",
       "    .dataframe tbody tr th {\n",
       "        vertical-align: top;\n",
       "    }\n",
       "\n",
       "    .dataframe thead th {\n",
       "        text-align: right;\n",
       "    }\n",
       "</style>\n",
       "<table border=\"1\" class=\"dataframe\">\n",
       "  <thead>\n",
       "    <tr style=\"text-align: right;\">\n",
       "      <th></th>\n",
       "      <th>original_csv</th>\n",
       "      <th>artist_name</th>\n",
       "      <th>song_name</th>\n",
       "      <th>link</th>\n",
       "      <th>lyrics</th>\n",
       "      <th>language</th>\n",
       "      <th>genre</th>\n",
       "      <th>date</th>\n",
       "    </tr>\n",
       "  </thead>\n",
       "  <tbody>\n",
       "    <tr>\n",
       "      <th>121230</th>\n",
       "      <td>genres_csv</td>\n",
       "      <td>taylor-swift</td>\n",
       "      <td>The Story Of Us</td>\n",
       "      <td>/taylor-swift/the-story-of-us.html</td>\n",
       "      <td>I used to think one day we'd tell the story of...</td>\n",
       "      <td>ENGLISH</td>\n",
       "      <td>Pop</td>\n",
       "      <td>NaN</td>\n",
       "    </tr>\n",
       "  </tbody>\n",
       "</table>\n",
       "</div>"
      ],
      "text/plain": [
       "       original_csv   artist_name        song_name  \\\n",
       "121230   genres_csv  taylor-swift  The Story Of Us   \n",
       "\n",
       "                                      link  \\\n",
       "121230  /taylor-swift/the-story-of-us.html   \n",
       "\n",
       "                                                   lyrics language genre  date  \n",
       "121230  I used to think one day we'd tell the story of...  ENGLISH   Pop   NaN  "
      ]
     },
     "execution_count": 14,
     "metadata": {},
     "output_type": "execute_result"
    }
   ],
   "source": [
    "genres_df.loc[genres_df['song_name']=='The Story Of Us']"
   ]
  },
  {
   "cell_type": "code",
   "execution_count": 15,
   "id": "849dd46e",
   "metadata": {
    "scrolled": true
   },
   "outputs": [
    {
     "data": {
      "text/plain": [
       "\"I used to think one day we'd tell the story of us. How we met and sparks flew instantly. People would say 'They're the lucky ones'. I used to know my place was a spot next to you. Now I'm searching the room for an empty seat. 'Cause lately I don't even know what page you're on. Oh. A simple complication, miscommunication. Has lead to fallout. Too many things that I wish you knew. So many walls up I can't break through. Now I'm standing alone in a crowded room. And we're not speaking. And I'm dying to know. Is it killing you like it's killing me?. And I don't know what to say. Since the twist of fate. When it all broke down. And the story of us looks a lot like a tragedy now. Next chapter. How'd we end up this way?. Se me nervously pulling at my clothes. And trying to look busy. And you're doing your best to avoid me. I'm starting to think one day I'll tell the story of us. How I was losing my mind when I saw you here. But you held your pride like you should've held me. Oh. I'm scared to see the ending. Why are we pretending this is nothing?. I'd tell you I miss you but I don't know how. I've never heard silence quite this loud. Now I'm standing alone in a crowded room. And we're not speaking. And I'm dying to know. Is it killing you like it's killing me?. And I don't know what to say. Since the twist of fate. When it all broke down. And the story of us looks a lot like a tragedy now. This is looking like a contest. Of who can act like they care less. But I liked it better when you were on my side. The battle's in your hands now. But I will lay my armor down. If you say you'd rather love than fight. So many things that you wish I knew. But the story of us might be ending soon. Now I'm standing alone in a crowded room. And we're not speaking. And I'm dying to know. Is it killing you like it's killing me?. But I don't know what to say. Since the twist of fate. And it all broke down. And the story of us looks a lot like a tragedy now. Now, now. And we're not speaking. And I'm dying to know. Is it killing you like it's killing me?. I don't know what to say. Since the twist of fate. 'Cause we're going down. And the story of us looks a lot like a tragedy now. The End\""
      ]
     },
     "execution_count": 15,
     "metadata": {},
     "output_type": "execute_result"
    }
   ],
   "source": [
    "genres_df.iloc[121230]['lyrics']#genres Taylor Swift The Story of Us"
   ]
  },
  {
   "cell_type": "code",
   "execution_count": 16,
   "id": "7901b768",
   "metadata": {
    "scrolled": false
   },
   "outputs": [
    {
     "data": {
      "text/html": [
       "<div>\n",
       "<style scoped>\n",
       "    .dataframe tbody tr th:only-of-type {\n",
       "        vertical-align: middle;\n",
       "    }\n",
       "\n",
       "    .dataframe tbody tr th {\n",
       "        vertical-align: top;\n",
       "    }\n",
       "\n",
       "    .dataframe thead th {\n",
       "        text-align: right;\n",
       "    }\n",
       "</style>\n",
       "<table border=\"1\" class=\"dataframe\">\n",
       "  <thead>\n",
       "    <tr style=\"text-align: right;\">\n",
       "      <th></th>\n",
       "      <th>original_csv</th>\n",
       "      <th>artist_name</th>\n",
       "      <th>song_name</th>\n",
       "      <th>link</th>\n",
       "      <th>lyrics</th>\n",
       "      <th>language</th>\n",
       "      <th>genre</th>\n",
       "      <th>date</th>\n",
       "    </tr>\n",
       "  </thead>\n",
       "  <tbody>\n",
       "    <tr>\n",
       "      <th>1</th>\n",
       "      <td>genres_csv</td>\n",
       "      <td>10000-maniacs</td>\n",
       "      <td>More Than This</td>\n",
       "      <td>/10000-maniacs/more-than-this.html</td>\n",
       "      <td>I could feel at the time. There was no way of ...</td>\n",
       "      <td>ENGLISH</td>\n",
       "      <td>Pop</td>\n",
       "      <td>NaN</td>\n",
       "    </tr>\n",
       "    <tr>\n",
       "      <th>3</th>\n",
       "      <td>genres_csv</td>\n",
       "      <td>10000-maniacs</td>\n",
       "      <td>Because The Night</td>\n",
       "      <td>/10000-maniacs/because-the-night.html</td>\n",
       "      <td>Take me now, baby, here as I am. Hold me close...</td>\n",
       "      <td>ENGLISH</td>\n",
       "      <td>Pop</td>\n",
       "      <td>NaN</td>\n",
       "    </tr>\n",
       "    <tr>\n",
       "      <th>5</th>\n",
       "      <td>genres_csv</td>\n",
       "      <td>10000-maniacs</td>\n",
       "      <td>These Are Days</td>\n",
       "      <td>/10000-maniacs/these-are-days.html</td>\n",
       "      <td>These are. These are days you'll remember. Nev...</td>\n",
       "      <td>ENGLISH</td>\n",
       "      <td>Pop</td>\n",
       "      <td>NaN</td>\n",
       "    </tr>\n",
       "    <tr>\n",
       "      <th>7</th>\n",
       "      <td>genres_csv</td>\n",
       "      <td>10000-maniacs</td>\n",
       "      <td>A Campfire Song</td>\n",
       "      <td>/10000-maniacs/a-campfire-song.html</td>\n",
       "      <td>A lie to say, \"O my mountain has coal veins an...</td>\n",
       "      <td>ENGLISH</td>\n",
       "      <td>Pop</td>\n",
       "      <td>NaN</td>\n",
       "    </tr>\n",
       "    <tr>\n",
       "      <th>9</th>\n",
       "      <td>genres_csv</td>\n",
       "      <td>10000-maniacs</td>\n",
       "      <td>Everyday Is Like Sunday</td>\n",
       "      <td>/10000-maniacs/everyday-is-like-sunday.html</td>\n",
       "      <td>Trudging slowly over wet sand. Back to the ben...</td>\n",
       "      <td>ENGLISH</td>\n",
       "      <td>Pop</td>\n",
       "      <td>NaN</td>\n",
       "    </tr>\n",
       "    <tr>\n",
       "      <th>...</th>\n",
       "      <td>...</td>\n",
       "      <td>...</td>\n",
       "      <td>...</td>\n",
       "      <td>...</td>\n",
       "      <td>...</td>\n",
       "      <td>...</td>\n",
       "      <td>...</td>\n",
       "      <td>...</td>\n",
       "    </tr>\n",
       "    <tr>\n",
       "      <th>124221</th>\n",
       "      <td>genres_csv</td>\n",
       "      <td>sambo</td>\n",
       "      <td>Sunday, Bloody Sunday</td>\n",
       "      <td>/sambo/sunday-bloody-sunday.html</td>\n",
       "      <td>I can't believe the news today. I can't close ...</td>\n",
       "      <td>ENGLISH</td>\n",
       "      <td>Rock</td>\n",
       "      <td>NaN</td>\n",
       "    </tr>\n",
       "    <tr>\n",
       "      <th>124222</th>\n",
       "      <td>genres_csv</td>\n",
       "      <td>sambo</td>\n",
       "      <td>This Love</td>\n",
       "      <td>/sambo/this-love.html</td>\n",
       "      <td>I was so high I did not recognize. The fire bu...</td>\n",
       "      <td>ENGLISH</td>\n",
       "      <td>Samba</td>\n",
       "      <td>NaN</td>\n",
       "    </tr>\n",
       "    <tr>\n",
       "      <th>124223</th>\n",
       "      <td>genres_csv</td>\n",
       "      <td>sambo</td>\n",
       "      <td>This Love</td>\n",
       "      <td>/sambo/this-love.html</td>\n",
       "      <td>I was so high I did not recognize. The fire bu...</td>\n",
       "      <td>ENGLISH</td>\n",
       "      <td>Rock</td>\n",
       "      <td>NaN</td>\n",
       "    </tr>\n",
       "    <tr>\n",
       "      <th>124225</th>\n",
       "      <td>genres_csv</td>\n",
       "      <td>sambo</td>\n",
       "      <td>Valerie</td>\n",
       "      <td>/sambo/valerie.html</td>\n",
       "      <td>Well sometimes I go out by myself. And I look ...</td>\n",
       "      <td>ENGLISH</td>\n",
       "      <td>Rock</td>\n",
       "      <td>NaN</td>\n",
       "    </tr>\n",
       "    <tr>\n",
       "      <th>124227</th>\n",
       "      <td>genres_csv</td>\n",
       "      <td>sambo</td>\n",
       "      <td>Wake Me Up</td>\n",
       "      <td>/sambo/wake-me-up.html</td>\n",
       "      <td>Feeling my way through the darkness. Guided by...</td>\n",
       "      <td>ENGLISH</td>\n",
       "      <td>Rock</td>\n",
       "      <td>NaN</td>\n",
       "    </tr>\n",
       "  </tbody>\n",
       "</table>\n",
       "<p>37811 rows × 8 columns</p>\n",
       "</div>"
      ],
      "text/plain": [
       "       original_csv    artist_name                song_name  \\\n",
       "1        genres_csv  10000-maniacs           More Than This   \n",
       "3        genres_csv  10000-maniacs        Because The Night   \n",
       "5        genres_csv  10000-maniacs           These Are Days   \n",
       "7        genres_csv  10000-maniacs          A Campfire Song   \n",
       "9        genres_csv  10000-maniacs  Everyday Is Like Sunday   \n",
       "...             ...            ...                      ...   \n",
       "124221   genres_csv          sambo    Sunday, Bloody Sunday   \n",
       "124222   genres_csv          sambo                This Love   \n",
       "124223   genres_csv          sambo                This Love   \n",
       "124225   genres_csv          sambo                  Valerie   \n",
       "124227   genres_csv          sambo               Wake Me Up   \n",
       "\n",
       "                                               link  \\\n",
       "1                /10000-maniacs/more-than-this.html   \n",
       "3             /10000-maniacs/because-the-night.html   \n",
       "5                /10000-maniacs/these-are-days.html   \n",
       "7               /10000-maniacs/a-campfire-song.html   \n",
       "9       /10000-maniacs/everyday-is-like-sunday.html   \n",
       "...                                             ...   \n",
       "124221             /sambo/sunday-bloody-sunday.html   \n",
       "124222                        /sambo/this-love.html   \n",
       "124223                        /sambo/this-love.html   \n",
       "124225                          /sambo/valerie.html   \n",
       "124227                       /sambo/wake-me-up.html   \n",
       "\n",
       "                                                   lyrics language  genre  \\\n",
       "1       I could feel at the time. There was no way of ...  ENGLISH    Pop   \n",
       "3       Take me now, baby, here as I am. Hold me close...  ENGLISH    Pop   \n",
       "5       These are. These are days you'll remember. Nev...  ENGLISH    Pop   \n",
       "7       A lie to say, \"O my mountain has coal veins an...  ENGLISH    Pop   \n",
       "9       Trudging slowly over wet sand. Back to the ben...  ENGLISH    Pop   \n",
       "...                                                   ...      ...    ...   \n",
       "124221  I can't believe the news today. I can't close ...  ENGLISH   Rock   \n",
       "124222  I was so high I did not recognize. The fire bu...  ENGLISH  Samba   \n",
       "124223  I was so high I did not recognize. The fire bu...  ENGLISH   Rock   \n",
       "124225  Well sometimes I go out by myself. And I look ...  ENGLISH   Rock   \n",
       "124227  Feeling my way through the darkness. Guided by...  ENGLISH   Rock   \n",
       "\n",
       "        date  \n",
       "1        NaN  \n",
       "3        NaN  \n",
       "5        NaN  \n",
       "7        NaN  \n",
       "9        NaN  \n",
       "...      ...  \n",
       "124221   NaN  \n",
       "124222   NaN  \n",
       "124223   NaN  \n",
       "124225   NaN  \n",
       "124227   NaN  \n",
       "\n",
       "[37811 rows x 8 columns]"
      ]
     },
     "execution_count": 16,
     "metadata": {},
     "output_type": "execute_result"
    }
   ],
   "source": [
    "genres_df[genres_df.duplicated(subset=['lyrics'])]"
   ]
  },
  {
   "cell_type": "code",
   "execution_count": 17,
   "id": "6fcdc361",
   "metadata": {},
   "outputs": [
    {
     "data": {
      "text/html": [
       "<div>\n",
       "<style scoped>\n",
       "    .dataframe tbody tr th:only-of-type {\n",
       "        vertical-align: middle;\n",
       "    }\n",
       "\n",
       "    .dataframe tbody tr th {\n",
       "        vertical-align: top;\n",
       "    }\n",
       "\n",
       "    .dataframe thead th {\n",
       "        text-align: right;\n",
       "    }\n",
       "</style>\n",
       "<table border=\"1\" class=\"dataframe\">\n",
       "  <thead>\n",
       "    <tr style=\"text-align: right;\">\n",
       "      <th></th>\n",
       "      <th>original_csv</th>\n",
       "      <th>artist_name</th>\n",
       "      <th>song_name</th>\n",
       "      <th>link</th>\n",
       "      <th>lyrics</th>\n",
       "      <th>language</th>\n",
       "      <th>genre</th>\n",
       "      <th>date</th>\n",
       "    </tr>\n",
       "  </thead>\n",
       "  <tbody>\n",
       "  </tbody>\n",
       "</table>\n",
       "</div>"
      ],
      "text/plain": [
       "Empty DataFrame\n",
       "Columns: [original_csv, artist_name, song_name, link, lyrics, language, genre, date]\n",
       "Index: []"
      ]
     },
     "execution_count": 17,
     "metadata": {},
     "output_type": "execute_result"
    }
   ],
   "source": [
    "decades_df[decades_df.duplicated(subset=['lyrics'])]"
   ]
  },
  {
   "cell_type": "code",
   "execution_count": 18,
   "id": "0b46103a",
   "metadata": {},
   "outputs": [
    {
     "data": {
      "text/html": [
       "<div>\n",
       "<style scoped>\n",
       "    .dataframe tbody tr th:only-of-type {\n",
       "        vertical-align: middle;\n",
       "    }\n",
       "\n",
       "    .dataframe tbody tr th {\n",
       "        vertical-align: top;\n",
       "    }\n",
       "\n",
       "    .dataframe thead th {\n",
       "        text-align: right;\n",
       "    }\n",
       "</style>\n",
       "<table border=\"1\" class=\"dataframe\">\n",
       "  <thead>\n",
       "    <tr style=\"text-align: right;\">\n",
       "      <th></th>\n",
       "      <th>original_csv</th>\n",
       "      <th>artist_name</th>\n",
       "      <th>song_name</th>\n",
       "      <th>link</th>\n",
       "      <th>lyrics</th>\n",
       "      <th>language</th>\n",
       "      <th>genre</th>\n",
       "      <th>date</th>\n",
       "    </tr>\n",
       "  </thead>\n",
       "  <tbody>\n",
       "  </tbody>\n",
       "</table>\n",
       "</div>"
      ],
      "text/plain": [
       "Empty DataFrame\n",
       "Columns: [original_csv, artist_name, song_name, link, lyrics, language, genre, date]\n",
       "Index: []"
      ]
     },
     "execution_count": 18,
     "metadata": {},
     "output_type": "execute_result"
    }
   ],
   "source": [
    "genres_df.drop_duplicates(subset=['lyrics'], inplace = True)\n",
    "genres_df[genres_df.duplicated(subset=['lyrics'])]"
   ]
  },
  {
   "cell_type": "code",
   "execution_count": 19,
   "id": "0e4669d1",
   "metadata": {},
   "outputs": [
    {
     "data": {
      "text/plain": [
       "(86419, 8)"
      ]
     },
     "execution_count": 19,
     "metadata": {},
     "output_type": "execute_result"
    }
   ],
   "source": [
    "genres_df.shape"
   ]
  },
  {
   "cell_type": "code",
   "execution_count": 21,
   "id": "9608e95c",
   "metadata": {},
   "outputs": [
    {
     "data": {
      "text/html": [
       "<div>\n",
       "<style scoped>\n",
       "    .dataframe tbody tr th:only-of-type {\n",
       "        vertical-align: middle;\n",
       "    }\n",
       "\n",
       "    .dataframe tbody tr th {\n",
       "        vertical-align: top;\n",
       "    }\n",
       "\n",
       "    .dataframe thead th {\n",
       "        text-align: right;\n",
       "    }\n",
       "</style>\n",
       "<table border=\"1\" class=\"dataframe\">\n",
       "  <thead>\n",
       "    <tr style=\"text-align: right;\">\n",
       "      <th></th>\n",
       "      <th>original_csv</th>\n",
       "      <th>artist_name</th>\n",
       "      <th>song_name</th>\n",
       "      <th>link</th>\n",
       "      <th>lyrics</th>\n",
       "      <th>language</th>\n",
       "      <th>genre</th>\n",
       "      <th>date</th>\n",
       "      <th>avg_words</th>\n",
       "    </tr>\n",
       "  </thead>\n",
       "  <tbody>\n",
       "    <tr>\n",
       "      <th>0</th>\n",
       "      <td>genres_csv</td>\n",
       "      <td>10000-maniacs</td>\n",
       "      <td>More Than This</td>\n",
       "      <td>/10000-maniacs/more-than-this.html</td>\n",
       "      <td>I could feel at the time. There was no way of ...</td>\n",
       "      <td>ENGLISH</td>\n",
       "      <td>Rock</td>\n",
       "      <td>NaN</td>\n",
       "      <td>145</td>\n",
       "    </tr>\n",
       "    <tr>\n",
       "      <th>2</th>\n",
       "      <td>genres_csv</td>\n",
       "      <td>10000-maniacs</td>\n",
       "      <td>Because The Night</td>\n",
       "      <td>/10000-maniacs/because-the-night.html</td>\n",
       "      <td>Take me now, baby, here as I am. Hold me close...</td>\n",
       "      <td>ENGLISH</td>\n",
       "      <td>Rock</td>\n",
       "      <td>NaN</td>\n",
       "      <td>238</td>\n",
       "    </tr>\n",
       "    <tr>\n",
       "      <th>4</th>\n",
       "      <td>genres_csv</td>\n",
       "      <td>10000-maniacs</td>\n",
       "      <td>These Are Days</td>\n",
       "      <td>/10000-maniacs/these-are-days.html</td>\n",
       "      <td>These are. These are days you'll remember. Nev...</td>\n",
       "      <td>ENGLISH</td>\n",
       "      <td>Rock</td>\n",
       "      <td>NaN</td>\n",
       "      <td>172</td>\n",
       "    </tr>\n",
       "    <tr>\n",
       "      <th>6</th>\n",
       "      <td>genres_csv</td>\n",
       "      <td>10000-maniacs</td>\n",
       "      <td>A Campfire Song</td>\n",
       "      <td>/10000-maniacs/a-campfire-song.html</td>\n",
       "      <td>A lie to say, \"O my mountain has coal veins an...</td>\n",
       "      <td>ENGLISH</td>\n",
       "      <td>Rock</td>\n",
       "      <td>NaN</td>\n",
       "      <td>263</td>\n",
       "    </tr>\n",
       "    <tr>\n",
       "      <th>8</th>\n",
       "      <td>genres_csv</td>\n",
       "      <td>10000-maniacs</td>\n",
       "      <td>Everyday Is Like Sunday</td>\n",
       "      <td>/10000-maniacs/everyday-is-like-sunday.html</td>\n",
       "      <td>Trudging slowly over wet sand. Back to the ben...</td>\n",
       "      <td>ENGLISH</td>\n",
       "      <td>Rock</td>\n",
       "      <td>NaN</td>\n",
       "      <td>118</td>\n",
       "    </tr>\n",
       "  </tbody>\n",
       "</table>\n",
       "</div>"
      ],
      "text/plain": [
       "  original_csv    artist_name                song_name  \\\n",
       "0   genres_csv  10000-maniacs           More Than This   \n",
       "2   genres_csv  10000-maniacs        Because The Night   \n",
       "4   genres_csv  10000-maniacs           These Are Days   \n",
       "6   genres_csv  10000-maniacs          A Campfire Song   \n",
       "8   genres_csv  10000-maniacs  Everyday Is Like Sunday   \n",
       "\n",
       "                                          link  \\\n",
       "0           /10000-maniacs/more-than-this.html   \n",
       "2        /10000-maniacs/because-the-night.html   \n",
       "4           /10000-maniacs/these-are-days.html   \n",
       "6          /10000-maniacs/a-campfire-song.html   \n",
       "8  /10000-maniacs/everyday-is-like-sunday.html   \n",
       "\n",
       "                                              lyrics language genre  date  \\\n",
       "0  I could feel at the time. There was no way of ...  ENGLISH  Rock   NaN   \n",
       "2  Take me now, baby, here as I am. Hold me close...  ENGLISH  Rock   NaN   \n",
       "4  These are. These are days you'll remember. Nev...  ENGLISH  Rock   NaN   \n",
       "6  A lie to say, \"O my mountain has coal veins an...  ENGLISH  Rock   NaN   \n",
       "8  Trudging slowly over wet sand. Back to the ben...  ENGLISH  Rock   NaN   \n",
       "\n",
       "   avg_words  \n",
       "0        145  \n",
       "2        238  \n",
       "4        172  \n",
       "6        263  \n",
       "8        118  "
      ]
     },
     "execution_count": 21,
     "metadata": {},
     "output_type": "execute_result"
    }
   ],
   "source": [
    "g_count_df = genres_df.assign(avg_words=genres_df['lyrics'].str.split().str.len())\n",
    "g_count_df.head()"
   ]
  },
  {
   "cell_type": "code",
   "execution_count": 23,
   "id": "f08ad76e",
   "metadata": {
    "scrolled": true
   },
   "outputs": [
    {
     "data": {
      "text/html": [
       "<div>\n",
       "<style scoped>\n",
       "    .dataframe tbody tr th:only-of-type {\n",
       "        vertical-align: middle;\n",
       "    }\n",
       "\n",
       "    .dataframe tbody tr th {\n",
       "        vertical-align: top;\n",
       "    }\n",
       "\n",
       "    .dataframe thead th {\n",
       "        text-align: right;\n",
       "    }\n",
       "</style>\n",
       "<table border=\"1\" class=\"dataframe\">\n",
       "  <thead>\n",
       "    <tr style=\"text-align: right;\">\n",
       "      <th></th>\n",
       "      <th>song_name</th>\n",
       "      <th>genre</th>\n",
       "      <th>avg_words</th>\n",
       "    </tr>\n",
       "  </thead>\n",
       "  <tbody>\n",
       "    <tr>\n",
       "      <th>count</th>\n",
       "      <td>86419</td>\n",
       "      <td>86419</td>\n",
       "      <td>86419.000000</td>\n",
       "    </tr>\n",
       "    <tr>\n",
       "      <th>unique</th>\n",
       "      <td>66869</td>\n",
       "      <td>6</td>\n",
       "      <td>NaN</td>\n",
       "    </tr>\n",
       "    <tr>\n",
       "      <th>top</th>\n",
       "      <td>Intro</td>\n",
       "      <td>Rock</td>\n",
       "      <td>NaN</td>\n",
       "    </tr>\n",
       "    <tr>\n",
       "      <th>freq</th>\n",
       "      <td>50</td>\n",
       "      <td>47409</td>\n",
       "      <td>NaN</td>\n",
       "    </tr>\n",
       "    <tr>\n",
       "      <th>mean</th>\n",
       "      <td>NaN</td>\n",
       "      <td>NaN</td>\n",
       "      <td>274.471389</td>\n",
       "    </tr>\n",
       "    <tr>\n",
       "      <th>std</th>\n",
       "      <td>NaN</td>\n",
       "      <td>NaN</td>\n",
       "      <td>168.492728</td>\n",
       "    </tr>\n",
       "    <tr>\n",
       "      <th>min</th>\n",
       "      <td>NaN</td>\n",
       "      <td>NaN</td>\n",
       "      <td>1.000000</td>\n",
       "    </tr>\n",
       "    <tr>\n",
       "      <th>25%</th>\n",
       "      <td>NaN</td>\n",
       "      <td>NaN</td>\n",
       "      <td>163.000000</td>\n",
       "    </tr>\n",
       "    <tr>\n",
       "      <th>50%</th>\n",
       "      <td>NaN</td>\n",
       "      <td>NaN</td>\n",
       "      <td>232.000000</td>\n",
       "    </tr>\n",
       "    <tr>\n",
       "      <th>75%</th>\n",
       "      <td>NaN</td>\n",
       "      <td>NaN</td>\n",
       "      <td>336.000000</td>\n",
       "    </tr>\n",
       "    <tr>\n",
       "      <th>max</th>\n",
       "      <td>NaN</td>\n",
       "      <td>NaN</td>\n",
       "      <td>3301.000000</td>\n",
       "    </tr>\n",
       "  </tbody>\n",
       "</table>\n",
       "</div>"
      ],
      "text/plain": [
       "       song_name  genre     avg_words\n",
       "count      86419  86419  86419.000000\n",
       "unique     66869      6           NaN\n",
       "top        Intro   Rock           NaN\n",
       "freq          50  47409           NaN\n",
       "mean         NaN    NaN    274.471389\n",
       "std          NaN    NaN    168.492728\n",
       "min          NaN    NaN      1.000000\n",
       "25%          NaN    NaN    163.000000\n",
       "50%          NaN    NaN    232.000000\n",
       "75%          NaN    NaN    336.000000\n",
       "max          NaN    NaN   3301.000000"
      ]
     },
     "execution_count": 23,
     "metadata": {},
     "output_type": "execute_result"
    }
   ],
   "source": [
    "g_cnt_df = pd.DataFrame((g_count_df), columns = ['song_name', 'genre', 'avg_words'])\n",
    "g_cnt_df.describe(include='all')"
   ]
  },
  {
   "cell_type": "code",
   "execution_count": 24,
   "id": "c209f623",
   "metadata": {
    "scrolled": true
   },
   "outputs": [
    {
     "data": {
      "text/html": [
       "<div>\n",
       "<style scoped>\n",
       "    .dataframe tbody tr th:only-of-type {\n",
       "        vertical-align: middle;\n",
       "    }\n",
       "\n",
       "    .dataframe tbody tr th {\n",
       "        vertical-align: top;\n",
       "    }\n",
       "\n",
       "    .dataframe thead th {\n",
       "        text-align: right;\n",
       "    }\n",
       "</style>\n",
       "<table border=\"1\" class=\"dataframe\">\n",
       "  <thead>\n",
       "    <tr style=\"text-align: right;\">\n",
       "      <th></th>\n",
       "      <th>song_name</th>\n",
       "      <th>genre</th>\n",
       "      <th>avg_words</th>\n",
       "    </tr>\n",
       "  </thead>\n",
       "  <tbody>\n",
       "    <tr>\n",
       "      <th>count</th>\n",
       "      <td>28372</td>\n",
       "      <td>28372</td>\n",
       "      <td>28372.000000</td>\n",
       "    </tr>\n",
       "    <tr>\n",
       "      <th>unique</th>\n",
       "      <td>23689</td>\n",
       "      <td>7</td>\n",
       "      <td>NaN</td>\n",
       "    </tr>\n",
       "    <tr>\n",
       "      <th>top</th>\n",
       "      <td>tonight</td>\n",
       "      <td>pop</td>\n",
       "      <td>NaN</td>\n",
       "    </tr>\n",
       "    <tr>\n",
       "      <th>freq</th>\n",
       "      <td>17</td>\n",
       "      <td>7042</td>\n",
       "      <td>NaN</td>\n",
       "    </tr>\n",
       "    <tr>\n",
       "      <th>mean</th>\n",
       "      <td>NaN</td>\n",
       "      <td>NaN</td>\n",
       "      <td>73.028444</td>\n",
       "    </tr>\n",
       "    <tr>\n",
       "      <th>std</th>\n",
       "      <td>NaN</td>\n",
       "      <td>NaN</td>\n",
       "      <td>41.829831</td>\n",
       "    </tr>\n",
       "    <tr>\n",
       "      <th>min</th>\n",
       "      <td>NaN</td>\n",
       "      <td>NaN</td>\n",
       "      <td>1.000000</td>\n",
       "    </tr>\n",
       "    <tr>\n",
       "      <th>25%</th>\n",
       "      <td>NaN</td>\n",
       "      <td>NaN</td>\n",
       "      <td>42.000000</td>\n",
       "    </tr>\n",
       "    <tr>\n",
       "      <th>50%</th>\n",
       "      <td>NaN</td>\n",
       "      <td>NaN</td>\n",
       "      <td>63.000000</td>\n",
       "    </tr>\n",
       "    <tr>\n",
       "      <th>75%</th>\n",
       "      <td>NaN</td>\n",
       "      <td>NaN</td>\n",
       "      <td>93.000000</td>\n",
       "    </tr>\n",
       "    <tr>\n",
       "      <th>max</th>\n",
       "      <td>NaN</td>\n",
       "      <td>NaN</td>\n",
       "      <td>199.000000</td>\n",
       "    </tr>\n",
       "  </tbody>\n",
       "</table>\n",
       "</div>"
      ],
      "text/plain": [
       "       song_name  genre     avg_words\n",
       "count      28372  28372  28372.000000\n",
       "unique     23689      7           NaN\n",
       "top      tonight    pop           NaN\n",
       "freq          17   7042           NaN\n",
       "mean         NaN    NaN     73.028444\n",
       "std          NaN    NaN     41.829831\n",
       "min          NaN    NaN      1.000000\n",
       "25%          NaN    NaN     42.000000\n",
       "50%          NaN    NaN     63.000000\n",
       "75%          NaN    NaN     93.000000\n",
       "max          NaN    NaN    199.000000"
      ]
     },
     "execution_count": 24,
     "metadata": {},
     "output_type": "execute_result"
    }
   ],
   "source": [
    "d_cnt_df = decades_df.assign(avg_words=decades_df['lyrics'].str.split().str.len())\n",
    "d_cnt_df = pd.DataFrame((d_cnt_df), columns = ['song_name', 'genre', 'avg_words'])\n",
    "d_cnt_df.describe(include='all')"
   ]
  },
  {
   "cell_type": "code",
   "execution_count": 26,
   "id": "4236b3fa",
   "metadata": {},
   "outputs": [
    {
     "data": {
      "text/plain": [
       "array(['Rock', 'Pop', 'Hip Hop', 'Sertanejo', 'Samba', 'Funk Carioca'],\n",
       "      dtype=object)"
      ]
     },
     "execution_count": 26,
     "metadata": {},
     "output_type": "execute_result"
    }
   ],
   "source": [
    "g_cnt_df.genre.unique()"
   ]
  },
  {
   "cell_type": "code",
   "execution_count": 27,
   "id": "c1c9d4ed",
   "metadata": {},
   "outputs": [
    {
     "data": {
      "text/plain": [
       "array(['pop', 'country', 'blues', 'jazz', 'reggae', 'rock', 'hip hop'],\n",
       "      dtype=object)"
      ]
     },
     "execution_count": 27,
     "metadata": {},
     "output_type": "execute_result"
    }
   ],
   "source": [
    "d_cnt_df.genre.unique()"
   ]
  },
  {
   "cell_type": "code",
   "execution_count": 28,
   "id": "5e9bd456",
   "metadata": {},
   "outputs": [],
   "source": [
    "g_cnt_rock_df = g_cnt_df[(g_cnt_df['genre']=='Rock')]"
   ]
  },
  {
   "cell_type": "code",
   "execution_count": 29,
   "id": "bcd19513",
   "metadata": {},
   "outputs": [
    {
     "data": {
      "text/html": [
       "<div>\n",
       "<style scoped>\n",
       "    .dataframe tbody tr th:only-of-type {\n",
       "        vertical-align: middle;\n",
       "    }\n",
       "\n",
       "    .dataframe tbody tr th {\n",
       "        vertical-align: top;\n",
       "    }\n",
       "\n",
       "    .dataframe thead th {\n",
       "        text-align: right;\n",
       "    }\n",
       "</style>\n",
       "<table border=\"1\" class=\"dataframe\">\n",
       "  <thead>\n",
       "    <tr style=\"text-align: right;\">\n",
       "      <th></th>\n",
       "      <th>song_name</th>\n",
       "      <th>genre</th>\n",
       "      <th>avg_words</th>\n",
       "    </tr>\n",
       "  </thead>\n",
       "  <tbody>\n",
       "    <tr>\n",
       "      <th>0</th>\n",
       "      <td>More Than This</td>\n",
       "      <td>Rock</td>\n",
       "      <td>145</td>\n",
       "    </tr>\n",
       "    <tr>\n",
       "      <th>2</th>\n",
       "      <td>Because The Night</td>\n",
       "      <td>Rock</td>\n",
       "      <td>238</td>\n",
       "    </tr>\n",
       "    <tr>\n",
       "      <th>4</th>\n",
       "      <td>These Are Days</td>\n",
       "      <td>Rock</td>\n",
       "      <td>172</td>\n",
       "    </tr>\n",
       "    <tr>\n",
       "      <th>6</th>\n",
       "      <td>A Campfire Song</td>\n",
       "      <td>Rock</td>\n",
       "      <td>263</td>\n",
       "    </tr>\n",
       "    <tr>\n",
       "      <th>8</th>\n",
       "      <td>Everyday Is Like Sunday</td>\n",
       "      <td>Rock</td>\n",
       "      <td>118</td>\n",
       "    </tr>\n",
       "    <tr>\n",
       "      <th>...</th>\n",
       "      <td>...</td>\n",
       "      <td>...</td>\n",
       "      <td>...</td>\n",
       "    </tr>\n",
       "    <tr>\n",
       "      <th>66505</th>\n",
       "      <td>Whiskey'n Mama</td>\n",
       "      <td>Rock</td>\n",
       "      <td>196</td>\n",
       "    </tr>\n",
       "    <tr>\n",
       "      <th>66506</th>\n",
       "      <td>Woke Up With Wood</td>\n",
       "      <td>Rock</td>\n",
       "      <td>134</td>\n",
       "    </tr>\n",
       "    <tr>\n",
       "      <th>66507</th>\n",
       "      <td>World of Swirl</td>\n",
       "      <td>Rock</td>\n",
       "      <td>147</td>\n",
       "    </tr>\n",
       "    <tr>\n",
       "      <th>66508</th>\n",
       "      <td>Your Legs Are As Hairy As My Beard</td>\n",
       "      <td>Rock</td>\n",
       "      <td>163</td>\n",
       "    </tr>\n",
       "    <tr>\n",
       "      <th>66509</th>\n",
       "      <td>Zipper Job</td>\n",
       "      <td>Rock</td>\n",
       "      <td>125</td>\n",
       "    </tr>\n",
       "  </tbody>\n",
       "</table>\n",
       "<p>47409 rows × 3 columns</p>\n",
       "</div>"
      ],
      "text/plain": [
       "                                song_name genre  avg_words\n",
       "0                          More Than This  Rock        145\n",
       "2                       Because The Night  Rock        238\n",
       "4                          These Are Days  Rock        172\n",
       "6                         A Campfire Song  Rock        263\n",
       "8                 Everyday Is Like Sunday  Rock        118\n",
       "...                                   ...   ...        ...\n",
       "66505                      Whiskey'n Mama  Rock        196\n",
       "66506                   Woke Up With Wood  Rock        134\n",
       "66507                      World of Swirl  Rock        147\n",
       "66508  Your Legs Are As Hairy As My Beard  Rock        163\n",
       "66509                          Zipper Job  Rock        125\n",
       "\n",
       "[47409 rows x 3 columns]"
      ]
     },
     "execution_count": 29,
     "metadata": {},
     "output_type": "execute_result"
    }
   ],
   "source": [
    "g_cnt_rock_df"
   ]
  },
  {
   "cell_type": "code",
   "execution_count": 30,
   "id": "87c008f1",
   "metadata": {},
   "outputs": [],
   "source": [
    "g_cnt_pop_df = g_cnt_df[(g_cnt_df['genre']=='Pop')]\n",
    "g_cnt_hiphop_df = g_cnt_df[(g_cnt_df['genre']=='Hip Hop')]"
   ]
  },
  {
   "cell_type": "code",
   "execution_count": 31,
   "id": "2f9c6227",
   "metadata": {},
   "outputs": [],
   "source": [
    "d_cnt_rock_df = d_cnt_df[(d_cnt_df['genre']=='rock')]\n",
    "d_cnt_hiphop_df = d_cnt_df[(d_cnt_df['genre']=='hip hop')]\n",
    "d_cnt_reggae_df = d_cnt_df[(d_cnt_df['genre']=='reggae')]\n",
    "d_cnt_jazz_df = d_cnt_df[(d_cnt_df['genre']=='jazz')]\n",
    "d_cnt_blues_df = d_cnt_df[(d_cnt_df['genre']=='blues')]\n",
    "d_cnt_pop_df = d_cnt_df[(d_cnt_df['genre']=='pop')]\n",
    "d_cnt_country_df = d_cnt_df[(d_cnt_df['genre']=='country')]"
   ]
  },
  {
   "cell_type": "code",
   "execution_count": 34,
   "id": "43e3fa26",
   "metadata": {},
   "outputs": [],
   "source": [
    "import numpy as np\n",
    "import matplotlib.mlab as mlab\n",
    "import matplotlib.pyplot as plt\n",
    "import seaborn as sns\n",
    "\n",
    "sns.set(style='ticks',color_codes=True)\n",
    "\n",
    "%matplotlib inline\n",
    "\n",
    "%config InlineBackend.figure_format = 'retina'"
   ]
  },
  {
   "cell_type": "markdown",
   "id": "63b73166",
   "metadata": {},
   "source": [
    "Taking a look at histograms of the genres dataset - normalizad to 0-1.  Total to Hip Hop, than Hip Hop vs Rock and Pop."
   ]
  },
  {
   "cell_type": "code",
   "execution_count": 43,
   "id": "b20d9e5e",
   "metadata": {
    "scrolled": true
   },
   "outputs": [
    {
     "data": {
      "image/png": "[encoded data removed]",
      "text/plain": [
       "<Figure size 432x288 with 1 Axes>"
      ]
     },
     "metadata": {
      "image/png": {
       "height": 251,
       "width": 392
      },
      "needs_background": "light"
     },
     "output_type": "display_data"
    }
   ],
   "source": [
    "plt.hist(g_cnt_df['avg_words'], bins = 40, range=(1,1000), density=True, align = 'mid', alpha = 0.75)\n",
    "plt.hist(g_cnt_hiphop_df['avg_words'], bins = 40, range=(1,1000), density=True, align = 'mid', alpha = 0.75)\n",
    "plt.show()"
   ]
  },
  {
   "cell_type": "code",
   "execution_count": 44,
   "id": "97d79a97",
   "metadata": {},
   "outputs": [
    {
     "data": {
      "image/png": "[encoded data removed]",
      "text/plain": [
       "<Figure size 432x288 with 1 Axes>"
      ]
     },
     "metadata": {
      "image/png": {
       "height": 251,
       "width": 386
      },
      "needs_background": "light"
     },
     "output_type": "display_data"
    }
   ],
   "source": [
    "plt.hist(g_cnt_rock_df['avg_words'], bins = 40, range=(1,1000), density=True, align = 'mid', alpha = 0.75)\n",
    "plt.hist(g_cnt_hiphop_df['avg_words'], bins = 40, range=(1,1000), density=True, align = 'mid', alpha = 0.75)\n",
    "plt.show()"
   ]
  },
  {
   "cell_type": "code",
   "execution_count": 45,
   "id": "f78dede5",
   "metadata": {
    "scrolled": true
   },
   "outputs": [
    {
     "data": {
      "image/png": "[encoded data removed]",
      "text/plain": [
       "<Figure size 432x288 with 1 Axes>"
      ]
     },
     "metadata": {
      "image/png": {
       "height": 251,
       "width": 392
      },
      "needs_background": "light"
     },
     "output_type": "display_data"
    }
   ],
   "source": [
    "plt.hist(g_cnt_pop_df['avg_words'], bins = 40, range=(1,1000), density=True, align = 'mid', alpha = 0.75)\n",
    "plt.hist(g_cnt_hiphop_df['avg_words'], bins = 40, range=(1,1000), density=True, align = 'mid', alpha = 0.75)\n",
    "plt.show()"
   ]
  },
  {
   "cell_type": "code",
   "execution_count": 46,
   "id": "1f2d3c47",
   "metadata": {},
   "outputs": [
    {
     "data": {
      "image/png": "[encoded data removed]",
      "text/plain": [
       "<Figure size 432x288 with 1 Axes>"
      ]
     },
     "metadata": {
      "image/png": {
       "height": 251,
       "width": 386
      },
      "needs_background": "light"
     },
     "output_type": "display_data"
    }
   ],
   "source": [
    "plt.hist(g_cnt_pop_df['avg_words'], bins = 40, range=(1,1000), density=True, align = 'mid', alpha = 0.75)\n",
    "plt.hist(g_cnt_rock_df['avg_words'], bins = 40, range=(1,1000), density=True, align = 'mid', alpha = 0.75)\n",
    "plt.show()"
   ]
  },
  {
   "cell_type": "markdown",
   "id": "9421526a",
   "metadata": {},
   "source": [
    "Taking a look at the decades data set. It does not look 'normal.'"
   ]
  },
  {
   "cell_type": "code",
   "execution_count": 48,
   "id": "e8d2c559",
   "metadata": {},
   "outputs": [
    {
     "data": {
      "image/png": "[encoded data removed]",
      "text/plain": [
       "<Figure size 432x288 with 1 Axes>"
      ]
     },
     "metadata": {
      "image/png": {
       "height": 251,
       "width": 386
      },
      "needs_background": "light"
     },
     "output_type": "display_data"
    }
   ],
   "source": [
    "plt.hist(d_cnt_df['avg_words'], bins = 40, range=(1,300), density=True, align = 'mid', alpha = 0.75)\n",
    "plt.hist(d_cnt_hiphop_df['avg_words'], bins = 40, range=(1,300), density=True, align = 'mid', alpha = 0.75)\n",
    "plt.show()"
   ]
  },
  {
   "cell_type": "code",
   "execution_count": 50,
   "id": "2082781a",
   "metadata": {
    "scrolled": true
   },
   "outputs": [
    {
     "data": {
      "image/png": "[encoded data removed]",
      "text/plain": [
       "<Figure size 432x288 with 1 Axes>"
      ]
     },
     "metadata": {
      "image/png": {
       "height": 251,
       "width": 386
      },
      "needs_background": "light"
     },
     "output_type": "display_data"
    }
   ],
   "source": [
    "plt.hist(d_cnt_rock_df['avg_words'], bins = 40, range=(1,300), density=True, align = 'mid', alpha = 0.75)\n",
    "plt.hist(d_cnt_hiphop_df['avg_words'], bins = 40, range=(1,300), density=True, align = 'mid', alpha = 0.75)\n",
    "plt.show()"
   ]
  },
  {
   "cell_type": "code",
   "execution_count": 51,
   "id": "9c3d7f7b",
   "metadata": {
    "scrolled": true
   },
   "outputs": [
    {
     "data": {
      "image/png": "[encoded data removed]",
      "text/plain": [
       "<Figure size 432x288 with 1 Axes>"
      ]
     },
     "metadata": {
      "image/png": {
       "height": 251,
       "width": 386
      },
      "needs_background": "light"
     },
     "output_type": "display_data"
    }
   ],
   "source": [
    "plt.hist(d_cnt_blues_df['avg_words'], bins = 40, range=(1,300), density=True, align = 'mid', alpha = 0.75)\n",
    "plt.hist(d_cnt_jazz_df['avg_words'], bins = 40, range=(1,300), density=True, align = 'mid', alpha = 0.75)\n",
    "plt.show()"
   ]
  },
  {
   "cell_type": "code",
   "execution_count": 53,
   "id": "bc953c88",
   "metadata": {
    "scrolled": true
   },
   "outputs": [
    {
     "data": {
      "image/png": "[encoded data removed]",
      "text/plain": [
       "<Figure size 432x288 with 1 Axes>"
      ]
     },
     "metadata": {
      "image/png": {
       "height": 266,
       "width": 355
      },
      "needs_background": "light"
     },
     "output_type": "display_data"
    }
   ],
   "source": [
    "sns.boxplot(x=g_cnt_df['avg_words'], whis=1.5)\n",
    "plt.show()"
   ]
  },
  {
   "cell_type": "code",
   "execution_count": 54,
   "id": "7a213bbe",
   "metadata": {
    "scrolled": true
   },
   "outputs": [
    {
     "data": {
      "image/png": "[encoded data removed]",
      "text/plain": [
       "<Figure size 432x288 with 1 Axes>"
      ]
     },
     "metadata": {
      "image/png": {
       "height": 266,
       "width": 355
      },
      "needs_background": "light"
     },
     "output_type": "display_data"
    }
   ],
   "source": [
    "sns.boxplot(x=g_cnt_hiphop_df['avg_words'], whis=1.5)\n",
    "plt.show()"
   ]
  },
  {
   "cell_type": "code",
   "execution_count": 55,
   "id": "57bb2fc7",
   "metadata": {},
   "outputs": [
    {
     "data": {
      "image/png": "[encoded data removed]",
      "text/plain": [
       "<Figure size 432x288 with 1 Axes>"
      ]
     },
     "metadata": {
      "image/png": {
       "height": 266,
       "width": 355
      },
      "needs_background": "light"
     },
     "output_type": "display_data"
    }
   ],
   "source": [
    "sns.boxplot(x=g_cnt_rock_df['avg_words'], whis=1.5)\n",
    "plt.show()"
   ]
  },
  {
   "cell_type": "code",
   "execution_count": 56,
   "id": "08365c6a",
   "metadata": {},
   "outputs": [
    {
     "data": {
      "image/png": "[encoded data removed]",
      "text/plain": [
       "<Figure size 432x288 with 1 Axes>"
      ]
     },
     "metadata": {
      "image/png": {
       "height": 266,
       "width": 361
      },
      "needs_background": "light"
     },
     "output_type": "display_data"
    }
   ],
   "source": [
    "sns.boxplot(x=g_cnt_pop_df['avg_words'], whis=1.5)\n",
    "plt.show()"
   ]
  },
  {
   "cell_type": "code",
   "execution_count": 57,
   "id": "f87f5cfb",
   "metadata": {},
   "outputs": [
    {
     "name": "stdout",
     "output_type": "stream",
     "text": [
      "hip hop mean: 502.7992924006781\n",
      "Rock mean: 205.87312535594506\n",
      "hip hop std: 214.5021350760374\n",
      "Rock std: 99.72012807514507\n",
      "p-val 0.0\n",
      "We reject the null hypothesis\n",
      "Wait! Who's we?\n"
     ]
    }
   ],
   "source": [
    "from scipy.stats import ttest_ind\n",
    "import numpy as np\n",
    "hip_hop = g_cnt_hiphop_df['avg_words']\n",
    "rock = g_cnt_rock_df['avg_words']\n",
    "hip_hop_mean = np.mean(hip_hop)\n",
    "rock_mean = np.mean(rock)\n",
    "print(\"hip hop mean:\", hip_hop_mean)\n",
    "print(\"Rock mean:\", rock_mean)\n",
    "hip_hop_std = np.std(hip_hop)\n",
    "rock_std = np.std(rock)\n",
    "print(\"hip hop std:\", hip_hop_std)\n",
    "print(\"Rock std:\", rock_std)\n",
    "ttest, pval = ttest_ind(hip_hop, rock)\n",
    "print('p-val', pval)\n",
    "if pval < .05:\n",
    "    print(\"We reject the null hypothesis\")\n",
    "else:\n",
    "    print(\"We accept the null hypothesis\")\n",
    "    \n",
    "print(\"Wait! Who's we?\")"
   ]
  }
 ],
 "metadata": {
  "kernelspec": {
   "display_name": "Python 3",
   "language": "python",
   "name": "python3"
  },
  "language_info": {
   "codemirror_mode": {
    "name": "ipython",
    "version": 3
   },
   "file_extension": ".py",
   "mimetype": "text/x-python",
   "name": "python",
   "nbconvert_exporter": "python",
   "pygments_lexer": "ipython3",
   "version": "3.9.2"
  }
 },
 "nbformat": 4,
 "nbformat_minor": 5
}
